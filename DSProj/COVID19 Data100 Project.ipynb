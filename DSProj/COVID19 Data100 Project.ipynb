{
 "cells": [
  {
   "cell_type": "markdown",
   "metadata": {},
   "source": [
    "## Data 100 Final Project: COVID 19 Dataset\n"
   ]
  },
  {
   "cell_type": "code",
   "execution_count": 74,
   "metadata": {},
   "outputs": [],
   "source": [
    "import numpy as np\n",
    "import pandas as pd\n",
    "import sklearn as sk\n",
    "import matplotlib.pyplot as plt\n",
    "import seaborn as sns\n",
    "import geopandas as gpd\n",
    "\n",
    "from sklearn.linear_model import LinearRegression\n",
    "\n",
    "#Import Datasets\n",
    "counties = pd.read_csv('abridged_couties.csv')\n",
    "deaths = pd.read_csv('time_series_covid19_deaths_US.csv')\n",
    "cases = pd.read_csv('time_series_covid19_confirmed_US.csv')\n",
    "states = pd.read_csv('4.18states.csv')"
   ]
  },
  {
   "cell_type": "markdown",
   "metadata": {},
   "source": [
    "## Data Cleaning on COVID Datasets"
   ]
  },
  {
   "cell_type": "markdown",
   "metadata": {},
   "source": [
    "### States Dataframe"
   ]
  },
  {
   "cell_type": "markdown",
   "metadata": {},
   "source": [
    "For data cleaning, a good starting point is to check for null and missing values and interpret what they may mean, before replacing them with any particular value."
   ]
  },
  {
   "cell_type": "code",
   "execution_count": 75,
   "metadata": {},
   "outputs": [
    {
     "data": {
      "text/plain": [
       "Province_State           0\n",
       "Country_Region           0\n",
       "Last_Update             83\n",
       "Lat                      5\n",
       "Long_                    5\n",
       "Confirmed                0\n",
       "Deaths                   0\n",
       "Recovered               24\n",
       "Active                   1\n",
       "FIPS                    82\n",
       "Incident_Rate            5\n",
       "People_Tested           84\n",
       "People_Hospitalized     91\n",
       "Mortality_Rate           3\n",
       "UID                      0\n",
       "ISO3                     0\n",
       "Testing_Rate            84\n",
       "Hospitalization_Rate    91\n",
       "dtype: int64"
      ]
     },
     "execution_count": 75,
     "metadata": {},
     "output_type": "execute_result"
    }
   ],
   "source": [
    "# Check for how many missing values are in every column\n",
    "states.isnull().sum()"
   ]
  },
  {
   "cell_type": "markdown",
   "metadata": {},
   "source": [
    "Replacing information like People_Hospitalized with zero may not be a great idea since we cannot assume there are no people hospitalized, hence, we can replace these missing values with the mean of that country in which specific state data is missing. We can tackle People_Hospitalized, Testing_Rate, Hospitalization_Rate, People_Tested in this way.\n",
    "\n",
    "The cell below calculates how many of the total values for each country are not missing. If a value turns out to be zero that means all data points in People_Hospitalized is missing for that country."
   ]
  },
  {
   "cell_type": "code",
   "execution_count": 76,
   "metadata": {},
   "outputs": [
    {
     "name": "stdout",
     "output_type": "stream",
     "text": [
      "True\n",
      "People_Hospitalized \n",
      " {'US': 49, 'China': 0, 'Canada': 0, 'United Kingdom': 0, 'France': 0, 'Australia': 0, 'Netherlands': 0, 'Denmark': 0}\n",
      "Hospitalization_Rate \n",
      " {'US': 49, 'China': 0, 'Canada': 0, 'United Kingdom': 0, 'France': 0, 'Australia': 0, 'Netherlands': 0, 'Denmark': 0}\n",
      "Testing_Rate \n",
      " {'US': 56, 'China': 0, 'Canada': 0, 'United Kingdom': 0, 'France': 0, 'Australia': 0, 'Netherlands': 0, 'Denmark': 0}\n",
      "People Tested \n",
      " {'US': 56, 'China': 0, 'Canada': 0, 'United Kingdom': 0, 'France': 0, 'Australia': 0, 'Netherlands': 0, 'Denmark': 0}\n",
      "Mortality Rate \n",
      " {'US': 57, 'China': 33, 'Canada': 13, 'United Kingdom': 10, 'France': 10, 'Australia': 8, 'Netherlands': 4, 'Denmark': 2}\n"
     ]
    }
   ],
   "source": [
    "countries = states['Country_Region'].value_counts().index.tolist()\n",
    "people_hospitalization_country_nulls = {}\n",
    "def usable_vals(col):\n",
    "    dic = {}\n",
    "    for country in countries:\n",
    "           dic[country] = len(states.loc[states['Country_Region'] == country,col].isnull()) - sum(states.loc[states['Country_Region'] == country,col].isnull())\n",
    "    return dic\n",
    "People_Hospitalization_country_nulls = usable_vals('People_Hospitalized')\n",
    "Hospitalization_Rate_country_nulls = usable_vals('Hospitalization_Rate')\n",
    "print(Hospitalization_Rate_country_nulls == People_Hospitalization_country_nulls)\n",
    "print('People_Hospitalized \\n', usable_vals('People_Hospitalized'))\n",
    "print('Hospitalization_Rate \\n', usable_vals('Hospitalization_Rate'))\n",
    "print('Testing_Rate \\n', usable_vals('Testing_Rate'))\n",
    "print('People Tested \\n', usable_vals('People_Tested'))\n",
    "print('Mortality Rate \\n', usable_vals('Mortality_Rate'))"
   ]
  },
  {
   "cell_type": "markdown",
   "metadata": {},
   "source": [
    "We notice that there is another null value in a country outside the US, so to see which country that is, we can instead of check the values that are not null to sum the values that are infact null."
   ]
  },
  {
   "cell_type": "code",
   "execution_count": 77,
   "metadata": {},
   "outputs": [
    {
     "data": {
      "text/plain": [
       "{'US': 2,\n",
       " 'China': 0,\n",
       " 'Canada': 1,\n",
       " 'United Kingdom': 0,\n",
       " 'France': 0,\n",
       " 'Australia': 0,\n",
       " 'Netherlands': 0,\n",
       " 'Denmark': 0}"
      ]
     },
     "execution_count": 77,
     "metadata": {},
     "output_type": "execute_result"
    }
   ],
   "source": [
    "mortality_dic = {}\n",
    "for country in countries:\n",
    "        mortality_dic[country] =  sum(states.loc[states['Country_Region'] == country,'Mortality_Rate'].isnull())\n",
    "mortality_dic"
   ]
  },
  {
   "cell_type": "markdown",
   "metadata": {},
   "source": [
    "Only the data for US contains values that will be usable so we can go ahead and replace the NaN values in the US data with the mean of that column in the US and from here note that we can only incorporate People_Hospitalized in analysis within the US."
   ]
  },
  {
   "cell_type": "code",
   "execution_count": 78,
   "metadata": {},
   "outputs": [
    {
     "data": {
      "text/html": [
       "<div>\n",
       "<style scoped>\n",
       "    .dataframe tbody tr th:only-of-type {\n",
       "        vertical-align: middle;\n",
       "    }\n",
       "\n",
       "    .dataframe tbody tr th {\n",
       "        vertical-align: top;\n",
       "    }\n",
       "\n",
       "    .dataframe thead th {\n",
       "        text-align: right;\n",
       "    }\n",
       "</style>\n",
       "<table border=\"1\" class=\"dataframe\">\n",
       "  <thead>\n",
       "    <tr style=\"text-align: right;\">\n",
       "      <th></th>\n",
       "      <th>Province_State</th>\n",
       "      <th>Country_Region</th>\n",
       "      <th>Last_Update</th>\n",
       "      <th>Lat</th>\n",
       "      <th>Long_</th>\n",
       "      <th>Confirmed</th>\n",
       "      <th>Deaths</th>\n",
       "      <th>Recovered</th>\n",
       "      <th>Active</th>\n",
       "      <th>FIPS</th>\n",
       "      <th>Incident_Rate</th>\n",
       "      <th>People_Tested</th>\n",
       "      <th>People_Hospitalized</th>\n",
       "      <th>Mortality_Rate</th>\n",
       "      <th>UID</th>\n",
       "      <th>ISO3</th>\n",
       "      <th>Testing_Rate</th>\n",
       "      <th>Hospitalization_Rate</th>\n",
       "    </tr>\n",
       "  </thead>\n",
       "  <tbody>\n",
       "    <tr>\n",
       "      <th>0</th>\n",
       "      <td>Alabama</td>\n",
       "      <td>US</td>\n",
       "      <td>2020-04-18 22:32:47</td>\n",
       "      <td>32.3182</td>\n",
       "      <td>-86.9023</td>\n",
       "      <td>4712</td>\n",
       "      <td>153</td>\n",
       "      <td>NaN</td>\n",
       "      <td>4559.0</td>\n",
       "      <td>1.0</td>\n",
       "      <td>100.492717</td>\n",
       "      <td>42538.0</td>\n",
       "      <td>620.000000</td>\n",
       "      <td>3.247029</td>\n",
       "      <td>84000001</td>\n",
       "      <td>USA</td>\n",
       "      <td>907.206961</td>\n",
       "      <td>13.157895</td>\n",
       "    </tr>\n",
       "    <tr>\n",
       "      <th>1</th>\n",
       "      <td>Alaska</td>\n",
       "      <td>US</td>\n",
       "      <td>2020-04-18 22:32:47</td>\n",
       "      <td>61.3707</td>\n",
       "      <td>-152.4044</td>\n",
       "      <td>314</td>\n",
       "      <td>9</td>\n",
       "      <td>147.0</td>\n",
       "      <td>305.0</td>\n",
       "      <td>2.0</td>\n",
       "      <td>52.530410</td>\n",
       "      <td>9655.0</td>\n",
       "      <td>39.000000</td>\n",
       "      <td>2.866242</td>\n",
       "      <td>84000002</td>\n",
       "      <td>USA</td>\n",
       "      <td>1615.226458</td>\n",
       "      <td>12.420382</td>\n",
       "    </tr>\n",
       "    <tr>\n",
       "      <th>2</th>\n",
       "      <td>American Samoa</td>\n",
       "      <td>US</td>\n",
       "      <td>NaN</td>\n",
       "      <td>-14.2710</td>\n",
       "      <td>-170.1320</td>\n",
       "      <td>0</td>\n",
       "      <td>0</td>\n",
       "      <td>NaN</td>\n",
       "      <td>NaN</td>\n",
       "      <td>60.0</td>\n",
       "      <td>0.000000</td>\n",
       "      <td>3.0</td>\n",
       "      <td>2327.122449</td>\n",
       "      <td>3.727277</td>\n",
       "      <td>16</td>\n",
       "      <td>ASM</td>\n",
       "      <td>5.391708</td>\n",
       "      <td>14.141068</td>\n",
       "    </tr>\n",
       "    <tr>\n",
       "      <th>3</th>\n",
       "      <td>Arizona</td>\n",
       "      <td>US</td>\n",
       "      <td>2020-04-18 22:32:47</td>\n",
       "      <td>33.7298</td>\n",
       "      <td>-111.4312</td>\n",
       "      <td>4724</td>\n",
       "      <td>180</td>\n",
       "      <td>539.0</td>\n",
       "      <td>4544.0</td>\n",
       "      <td>4.0</td>\n",
       "      <td>64.901548</td>\n",
       "      <td>51045.0</td>\n",
       "      <td>566.000000</td>\n",
       "      <td>3.810330</td>\n",
       "      <td>84000004</td>\n",
       "      <td>USA</td>\n",
       "      <td>701.291175</td>\n",
       "      <td>11.981372</td>\n",
       "    </tr>\n",
       "    <tr>\n",
       "      <th>4</th>\n",
       "      <td>Arkansas</td>\n",
       "      <td>US</td>\n",
       "      <td>2020-04-18 22:32:47</td>\n",
       "      <td>34.9697</td>\n",
       "      <td>-92.3731</td>\n",
       "      <td>1744</td>\n",
       "      <td>38</td>\n",
       "      <td>703.0</td>\n",
       "      <td>1706.0</td>\n",
       "      <td>5.0</td>\n",
       "      <td>67.361213</td>\n",
       "      <td>24141.0</td>\n",
       "      <td>291.000000</td>\n",
       "      <td>2.178899</td>\n",
       "      <td>84000005</td>\n",
       "      <td>USA</td>\n",
       "      <td>932.435235</td>\n",
       "      <td>16.685780</td>\n",
       "    </tr>\n",
       "  </tbody>\n",
       "</table>\n",
       "</div>"
      ],
      "text/plain": [
       "   Province_State Country_Region          Last_Update      Lat     Long_  \\\n",
       "0         Alabama             US  2020-04-18 22:32:47  32.3182  -86.9023   \n",
       "1          Alaska             US  2020-04-18 22:32:47  61.3707 -152.4044   \n",
       "2  American Samoa             US                  NaN -14.2710 -170.1320   \n",
       "3         Arizona             US  2020-04-18 22:32:47  33.7298 -111.4312   \n",
       "4        Arkansas             US  2020-04-18 22:32:47  34.9697  -92.3731   \n",
       "\n",
       "   Confirmed  Deaths  Recovered  Active  FIPS  Incident_Rate  People_Tested  \\\n",
       "0       4712     153        NaN  4559.0   1.0     100.492717        42538.0   \n",
       "1        314       9      147.0   305.0   2.0      52.530410         9655.0   \n",
       "2          0       0        NaN     NaN  60.0       0.000000            3.0   \n",
       "3       4724     180      539.0  4544.0   4.0      64.901548        51045.0   \n",
       "4       1744      38      703.0  1706.0   5.0      67.361213        24141.0   \n",
       "\n",
       "   People_Hospitalized  Mortality_Rate       UID ISO3  Testing_Rate  \\\n",
       "0           620.000000        3.247029  84000001  USA    907.206961   \n",
       "1            39.000000        2.866242  84000002  USA   1615.226458   \n",
       "2          2327.122449        3.727277        16  ASM      5.391708   \n",
       "3           566.000000        3.810330  84000004  USA    701.291175   \n",
       "4           291.000000        2.178899  84000005  USA    932.435235   \n",
       "\n",
       "   Hospitalization_Rate  \n",
       "0             13.157895  \n",
       "1             12.420382  \n",
       "2             14.141068  \n",
       "3             11.981372  \n",
       "4             16.685780  "
      ]
     },
     "execution_count": 78,
     "metadata": {},
     "output_type": "execute_result"
    }
   ],
   "source": [
    "def replace_nan_with_mean(country, col):\n",
    "    arr = states.loc[states['Country_Region'] == country, col]\n",
    "    arr_mean = arr.mean()\n",
    "    arr.fillna(arr_mean, inplace=True)\n",
    "    states.loc[states['Country_Region'] == country,col] = arr\n",
    "\n",
    "replace_nan_with_mean('US','People_Hospitalized')\n",
    "replace_nan_with_mean('US','Hospitalization_Rate')\n",
    "replace_nan_with_mean('US','Testing_Rate')\n",
    "replace_nan_with_mean('US','People_Tested')\n",
    "replace_nan_with_mean('US','Mortality_Rate')\n",
    "\n",
    "# There is still an uncovered NaN value in Mortality_Rate but this time in a different country so we can remove that. Namely, Canada.\n",
    "replace_nan_with_mean('Canada','Mortality_Rate')\n",
    "\n",
    "states.isnull().sum()\n",
    "states.head()"
   ]
  },
  {
   "cell_type": "markdown",
   "metadata": {},
   "source": [
    "### Cases and Deaths DataFrames"
   ]
  },
  {
   "cell_type": "markdown",
   "metadata": {},
   "source": [
    "Next, we clean the dataframes of cases and deaths. After examining the data, we first drop the rows with out of state FIPS, unassigned FIPS, correctional facilities and the Grand Princess. Then we fill in or appropriately reassign rows with missing FIPS, using data from census.gov. Next, we merge to create a dataframe containing total confirmed cases and deaths by region."
   ]
  },
  {
   "cell_type": "code",
   "execution_count": 79,
   "metadata": {},
   "outputs": [
    {
     "data": {
      "text/html": [
       "<div>\n",
       "<style scoped>\n",
       "    .dataframe tbody tr th:only-of-type {\n",
       "        vertical-align: middle;\n",
       "    }\n",
       "\n",
       "    .dataframe tbody tr th {\n",
       "        vertical-align: top;\n",
       "    }\n",
       "\n",
       "    .dataframe thead th {\n",
       "        text-align: right;\n",
       "    }\n",
       "</style>\n",
       "<table border=\"1\" class=\"dataframe\">\n",
       "  <thead>\n",
       "    <tr style=\"text-align: right;\">\n",
       "      <th></th>\n",
       "      <th>FIPS</th>\n",
       "      <th>Province_State</th>\n",
       "      <th>Lat</th>\n",
       "      <th>Long</th>\n",
       "      <th>total_confirmed</th>\n",
       "      <th>total_deaths</th>\n",
       "      <th>mortality</th>\n",
       "    </tr>\n",
       "  </thead>\n",
       "  <tbody>\n",
       "    <tr>\n",
       "      <th>5</th>\n",
       "      <td>01001</td>\n",
       "      <td>Alabama</td>\n",
       "      <td>32.539527</td>\n",
       "      <td>-86.644082</td>\n",
       "      <td>25</td>\n",
       "      <td>2</td>\n",
       "      <td>0.080000</td>\n",
       "    </tr>\n",
       "    <tr>\n",
       "      <th>6</th>\n",
       "      <td>01003</td>\n",
       "      <td>Alabama</td>\n",
       "      <td>30.727750</td>\n",
       "      <td>-87.722071</td>\n",
       "      <td>109</td>\n",
       "      <td>2</td>\n",
       "      <td>0.018349</td>\n",
       "    </tr>\n",
       "    <tr>\n",
       "      <th>7</th>\n",
       "      <td>01005</td>\n",
       "      <td>Alabama</td>\n",
       "      <td>31.868263</td>\n",
       "      <td>-85.387129</td>\n",
       "      <td>18</td>\n",
       "      <td>0</td>\n",
       "      <td>0.000000</td>\n",
       "    </tr>\n",
       "    <tr>\n",
       "      <th>8</th>\n",
       "      <td>01007</td>\n",
       "      <td>Alabama</td>\n",
       "      <td>32.996421</td>\n",
       "      <td>-87.125115</td>\n",
       "      <td>26</td>\n",
       "      <td>0</td>\n",
       "      <td>0.000000</td>\n",
       "    </tr>\n",
       "    <tr>\n",
       "      <th>9</th>\n",
       "      <td>01009</td>\n",
       "      <td>Alabama</td>\n",
       "      <td>33.982109</td>\n",
       "      <td>-86.567906</td>\n",
       "      <td>20</td>\n",
       "      <td>0</td>\n",
       "      <td>0.000000</td>\n",
       "    </tr>\n",
       "  </tbody>\n",
       "</table>\n",
       "</div>"
      ],
      "text/plain": [
       "    FIPS Province_State        Lat       Long  total_confirmed  total_deaths  \\\n",
       "5  01001        Alabama  32.539527 -86.644082               25             2   \n",
       "6  01003        Alabama  30.727750 -87.722071              109             2   \n",
       "7  01005        Alabama  31.868263 -85.387129               18             0   \n",
       "8  01007        Alabama  32.996421 -87.125115               26             0   \n",
       "9  01009        Alabama  33.982109 -86.567906               20             0   \n",
       "\n",
       "   mortality  \n",
       "5   0.080000  \n",
       "6   0.018349  \n",
       "7   0.000000  \n",
       "8   0.000000  \n",
       "9   0.000000  "
      ]
     },
     "execution_count": 79,
     "metadata": {},
     "output_type": "execute_result"
    }
   ],
   "source": [
    "# Dropping out of state FIPS, unassigned FIPS, correctional facilities and the Grand Princess\n",
    "cases.drop(cases.index[3149:3255], inplace = True)\n",
    "deaths.drop(deaths.index[3149:3255], inplace = True)\n",
    "\n",
    "# Replace missing FIPS for Kansas City with data from census.gov\n",
    "cases.loc[cases['Admin2']=='Kansas City', 'FIPS'] = 29380.0\n",
    "deaths.loc[deaths['Admin2']=='Kansas City', 'FIPS'] = 29380.0\n",
    "\n",
    "# Duke and Nantucket Counties' numbers have been counted jointly, recorded only under 'Dukes and Nantucket'. Ideally, the counts would be redistributed evenly between Duke and Nantucket, however it is not realistic to assign 0.5 deaths to a county. Therefore, we have assigned all counts to the FIPS of Nantucket and dropped the Nantucket row. This is not an ideal solution.\n",
    "cases.loc[cases['Admin2']=='Dukes and Nantucket', 'FIPS'] = 25019.0\n",
    "deaths.loc[deaths['Admin2']=='Dukes and Nantucket', 'FIPS'] = 25019.0\n",
    "cases.drop(cases.loc[cases['Admin2']=='Nantucket',:].index, inplace = True)\n",
    "deaths.drop(deaths.loc[deaths['Admin2']=='Nantucket',:].index, inplace = True)\n",
    "#deaths[deaths['FIPS'].isnull()]\n",
    "\n",
    "# Convert to string and add padded 0 for consistency with counties data\n",
    "deaths['FIPS'] = deaths['FIPS'].astype(int).astype(str).str.zfill(5)\n",
    "cases['FIPS'] = cases['FIPS'].astype(int).astype(str).str.zfill(5)\n",
    "\n",
    "# Create a dataframe with the total confirmed cases and deaths by region.\n",
    "total_cases = cases[['FIPS', 'Province_State', 'Lat', 'Long_', '4/18/20']]\n",
    "total_cases.rename(columns={'4/18/20':'total_confirmed'}, inplace=True)\n",
    "total_deaths = deaths[['FIPS', '4/18/20']]\n",
    "total_deaths.rename(columns={'4/18/20':'total_deaths'}, inplace=True)\n",
    "total_by_region = total_cases.merge(total_deaths, how = 'left', on = ['FIPS'])\n",
    "total_by_region.rename(columns={'Long_':'Long'}, inplace = True)\n",
    "total_by_region.head(10)\n",
    "\n",
    "# Dropping America Samoa, Guam, Northern Mariana Islands, Puerto Rico and Virgin Islands\n",
    "total_by_region.drop(total_by_region.index[0:5], inplace = True)\n",
    "\n",
    "# Adding a column with mortality rate\n",
    "total_by_region['mortality'] = total_by_region['total_deaths'] / total_by_region['total_confirmed']\n",
    "total_by_region['mortality'] = np.nan_to_num(total_by_region['mortality'])\n",
    "total_by_region.head()"
   ]
  },
  {
   "cell_type": "markdown",
   "metadata": {},
   "source": [
    "### County DataFrame"
   ]
  },
  {
   "cell_type": "markdown",
   "metadata": {},
   "source": [
    "To look at the features of counties alongside confirmed cases and death counts, we merge the dataframes. We then examine the null values and implement appropriate cleaning. We focus our data explanation on features which may affect the mortality rates of states and countries. \n",
    "\n",
    "We drop the 3 rows (FIPS 02158 in Alaska, FIPS 46102 in South Dakota, and FIPS 29380 in Missouri) that have multiple null values. Although 29380 in Missouri had 412 Covid cases, we decide to drop these 3 columns as we do not have a reliable method of filling in the missing values. We then drop the columns that do not pertain to our study of mortality rates or that have so many null values that they are rendered unreliable. Counties belonging to North and South Dakota had null values for '>50 gatherings', '>500 gatherings', 'stay at home', and 'entertainment/gym'. After consulting outside sources (NPR), we discovered this was because these states did not institute such bans and filled the values with zero. Lastly, there we filled the null values in columns 'HeartDiseaseMortality', 'StrokeMortality', and 'SVIPercentile' with the mean."
   ]
  },
  {
   "cell_type": "code",
   "execution_count": 80,
   "metadata": {},
   "outputs": [
    {
     "name": "stdout",
     "output_type": "stream",
     "text": [
      "['FIPS', 'Province_State', 'Lat', 'Long', 'total_confirmed', 'total_deaths', 'mortality', 'CountyName', 'PopulationEstimate2018', 'PopTotalMale2017', 'PopTotalFemale2017', 'PopulationEstimate65+2017', 'PopulationDensityperSqMile2010', 'CensusPopulation2010', 'MedianAge2010', 'DiabetesPercentage', 'HeartDiseaseMortality', 'StrokeMortality', 'Smokers_Percentage', 'RespMortalityRate2014', '#FTEHospitalTotal2017', \"TotalM.D.'s,TotNon-FedandFed2017\", '#HospParticipatinginNetwork2017', '#Hospitals', '#ICU_beds', 'stay at home', '>50 gatherings', '>500 gatherings', 'public schools', 'restaurant dine-in', 'entertainment/gym', 'SVIPercentile']\n"
     ]
    }
   ],
   "source": [
    "county_cases = total_by_region.merge(counties, how = 'left', left_on = 'FIPS', right_on = 'countyFIPS')\n",
    "\n",
    "# There are 3 rows (FIPS 02158 in Alaska, FIPS 46102 in South Dakota, and FIPS 29380 in Missouri) that have multiple null values. Although 29380 in Missouri had 412 Covid cases, we decide to drop these 3 columns as we do not have a reliable method of filling in the missing values.\n",
    "county_cases.drop(county_cases[county_cases['countyFIPS'].isnull()].index, inplace = True)\n",
    "\n",
    "# We drop the columns that are either not of interest to our study or that have too many null values to be useful or reliable. We also drop redundant identifiers (ie countyFIPS and COUNTYFP).\n",
    "county_cases.drop(['dem_to_rep_ratio', 'PopMale<52010', 'PopFmle<52010', 'PopMale5-92010', 'PopFmle5-92010', 'PopMale10-142010', 'PopFmle10-142010', 'PopMale15-192010','PopFmle15-192010', 'PopMale20-242010', 'PopFmle20-242010', 'PopMale25-292010', 'PopFmle25-292010', 'PopMale30-342010', 'PopFmle30-342010', 'PopMale35-442010', 'PopFmle35-442010', 'PopMale45-542010', 'PopFmle45-542010', 'PopMale55-592010', 'PopFmle55-592010', 'PopMale60-642010', 'PopFmle60-642010', 'PopMale65-742010', 'PopFmle65-742010', 'PopMale75-842010', 'PopFmle75-842010', 'PopMale>842010', 'PopFmle>842010', 'CensusRegionName', 'CensusDivisionName', 'Rural-UrbanContinuumCode2013', 'FracMale2017', '3-YrMortalityAge<1Year2015-17', '3-YrMortalityAge1-4Years2015-17', '3-YrMortalityAge5-14Years2015-17', '3-YrMortalityAge15-24Years2015-17', '3-YrMortalityAge25-34Years2015-17', '3-YrMortalityAge35-44Years2015-17', '3-YrMortalityAge45-54Years2015-17', '3-YrMortalityAge55-64Years2015-17', '3-YrMortalityAge65-74Years2015-17', '3-YrMortalityAge75-84Years2015-17', '3-YrMortalityAge85+Years2015-17', 'mortality2015-17Estimated', 'HPSAShortage', 'HPSAServedPop', 'HPSAUnderservedPop', '3-YrDiabetes2015-17', 'MedicareEnrollment,AgedTot2017', '#EligibleforMedicare2018', 'federal guidelines', 'foreign travel ban', 'countyFIPS', 'COUNTYFP', 'STATEFP', 'StateName', 'State', 'lat', 'lon', 'POP_LATITUDE', 'POP_LONGITUDE' ], axis = 1, inplace = True)\n",
    "\n",
    "#The counties with null values for the date of certain bans did not institute such bans, so we filled those values with 0. (https://www.npr.org/2020/05/01/847413697/midwest-coronavirus-related-restrictions-by-state)\n",
    "county_cases = county_cases.fillna({'>50 gatherings':0, '>500 gatherings':0, 'stay at home':0, 'entertainment/gym':0})\n",
    "\n",
    "#Lastly, there are 3 columns with null values that are most appropriately accounted for by filling with mean.\n",
    "county_cases['HeartDiseaseMortality'].fillna(county_cases['HeartDiseaseMortality'].mean(), inplace = True)\n",
    "county_cases['StrokeMortality'].fillna(county_cases['StrokeMortality'].mean(), inplace = True)\n",
    "county_cases['SVIPercentile'].fillna(county_cases['StrokeMortality'].mean(), inplace = True)\n",
    "\n",
    "# This prints the number of null values in each column.\n",
    "# print('Null values in county_cases:\\n')\n",
    "# for column in county_cases.columns.values.tolist():\n",
    "#     print(column,':', sum(county_cases[column].isnull()) )\n",
    "\n",
    "#'DiabetesPercentage', 'HeartDiseaseMortality', 'StrokeMortality', 'Smokers_Percentage', 'RespMortalityRate2014'\n",
    "print(list(county_cases.columns))"
   ]
  },
  {
   "cell_type": "markdown",
   "metadata": {},
   "source": [
    "Total cases in California and New York:"
   ]
  },
  {
   "cell_type": "code",
   "execution_count": 81,
   "metadata": {},
   "outputs": [],
   "source": [
    "ca_cases = county_cases.loc[county_cases['Province_State'] == 'California']\n",
    "ny_cases = county_cases.loc[county_cases['Province_State'] == 'New York']"
   ]
  },
  {
   "cell_type": "markdown",
   "metadata": {},
   "source": [
    "The columns within counties have been inputted as Gregorian ordinal, which can be converted to the more readible and comprehensible MM/DD/YYYY ISO format built into pandas. The following columns need this change: stay at home, >50 gatherings, >500 gatherings, public schools, restaurant dine-in, entertainment/gym."
   ]
  },
  {
   "cell_type": "code",
   "execution_count": 82,
   "metadata": {},
   "outputs": [],
   "source": [
    "from datetime import date\n",
    "cols = ['stay at home','>50 gatherings','>500 gatherings','public schools','restaurant dine-in','entertainment/gym']\n",
    "def date_change(df,cols):\n",
    "    for col in cols:\n",
    "        state_dates = df[col].unique()\n",
    "        for dates in state_dates:\n",
    "            new_state_date = date.fromordinal(int(dates)).isoformat()\n",
    "            df[col].replace(dates, new_state_date, inplace=True)\n",
    "date_change(ca_cases, cols)\n",
    "date_change(ny_cases, cols)"
   ]
  },
  {
   "cell_type": "markdown",
   "metadata": {},
   "source": [
    "Now we group the county data by State to create a dataframe with the data available at the county level extended to the state level. Then we merge with the cleaned States dataframe to have the information on state level mortality, hospitalization and testing alongside information about the measures the state took and information about the state."
   ]
  },
  {
   "cell_type": "code",
   "execution_count": 83,
   "metadata": {
    "scrolled": true
   },
   "outputs": [
    {
     "data": {
      "text/html": [
       "<div>\n",
       "<style scoped>\n",
       "    .dataframe tbody tr th:only-of-type {\n",
       "        vertical-align: middle;\n",
       "    }\n",
       "\n",
       "    .dataframe tbody tr th {\n",
       "        vertical-align: top;\n",
       "    }\n",
       "\n",
       "    .dataframe thead th {\n",
       "        text-align: right;\n",
       "    }\n",
       "</style>\n",
       "<table border=\"1\" class=\"dataframe\">\n",
       "  <thead>\n",
       "    <tr style=\"text-align: right;\">\n",
       "      <th></th>\n",
       "      <th>Province_State</th>\n",
       "      <th>PopulationDensityperSqMile2010</th>\n",
       "      <th>MedianAge2010</th>\n",
       "      <th>DiabetesPercentage</th>\n",
       "      <th>HeartDiseaseMortality</th>\n",
       "      <th>StrokeMortality</th>\n",
       "      <th>Smokers_Percentage</th>\n",
       "      <th>RespMortalityRate2014</th>\n",
       "      <th>stay at home</th>\n",
       "      <th>&gt;50 gatherings</th>\n",
       "      <th>...</th>\n",
       "      <th>Active</th>\n",
       "      <th>FIPS</th>\n",
       "      <th>Incident_Rate</th>\n",
       "      <th>People_Tested</th>\n",
       "      <th>People_Hospitalized</th>\n",
       "      <th>Mortality_Rate</th>\n",
       "      <th>UID</th>\n",
       "      <th>ISO3</th>\n",
       "      <th>Testing_Rate</th>\n",
       "      <th>Hospitalization_Rate</th>\n",
       "    </tr>\n",
       "  </thead>\n",
       "  <tbody>\n",
       "    <tr>\n",
       "      <th>0</th>\n",
       "      <td>Alabama</td>\n",
       "      <td>90.216418</td>\n",
       "      <td>39.356716</td>\n",
       "      <td>14.407463</td>\n",
       "      <td>243.595522</td>\n",
       "      <td>51.450746</td>\n",
       "      <td>19.989231</td>\n",
       "      <td>77.282985</td>\n",
       "      <td>737518.865672</td>\n",
       "      <td>737504.000000</td>\n",
       "      <td>...</td>\n",
       "      <td>4559.0</td>\n",
       "      <td>1.0</td>\n",
       "      <td>100.492717</td>\n",
       "      <td>42538.0</td>\n",
       "      <td>620.0</td>\n",
       "      <td>3.247029</td>\n",
       "      <td>84000001</td>\n",
       "      <td>USA</td>\n",
       "      <td>907.206961</td>\n",
       "      <td>13.157895</td>\n",
       "    </tr>\n",
       "    <tr>\n",
       "      <th>1</th>\n",
       "      <td>Alaska</td>\n",
       "      <td>8.010714</td>\n",
       "      <td>37.228571</td>\n",
       "      <td>8.667857</td>\n",
       "      <td>165.294140</td>\n",
       "      <td>37.801941</td>\n",
       "      <td>20.085217</td>\n",
       "      <td>54.682500</td>\n",
       "      <td>737511.785714</td>\n",
       "      <td>737507.928571</td>\n",
       "      <td>...</td>\n",
       "      <td>305.0</td>\n",
       "      <td>2.0</td>\n",
       "      <td>52.530410</td>\n",
       "      <td>9655.0</td>\n",
       "      <td>39.0</td>\n",
       "      <td>2.866242</td>\n",
       "      <td>84000002</td>\n",
       "      <td>USA</td>\n",
       "      <td>1615.226458</td>\n",
       "      <td>12.420382</td>\n",
       "    </tr>\n",
       "    <tr>\n",
       "      <th>2</th>\n",
       "      <td>Arizona</td>\n",
       "      <td>52.046667</td>\n",
       "      <td>38.653333</td>\n",
       "      <td>10.060000</td>\n",
       "      <td>148.826667</td>\n",
       "      <td>30.900000</td>\n",
       "      <td>16.483911</td>\n",
       "      <td>51.968667</td>\n",
       "      <td>737515.000000</td>\n",
       "      <td>737501.000000</td>\n",
       "      <td>...</td>\n",
       "      <td>4544.0</td>\n",
       "      <td>4.0</td>\n",
       "      <td>64.901548</td>\n",
       "      <td>51045.0</td>\n",
       "      <td>566.0</td>\n",
       "      <td>3.810330</td>\n",
       "      <td>84000004</td>\n",
       "      <td>USA</td>\n",
       "      <td>701.291175</td>\n",
       "      <td>11.981372</td>\n",
       "    </tr>\n",
       "    <tr>\n",
       "      <th>3</th>\n",
       "      <td>Arkansas</td>\n",
       "      <td>54.357333</td>\n",
       "      <td>40.316000</td>\n",
       "      <td>13.432000</td>\n",
       "      <td>235.172000</td>\n",
       "      <td>47.681333</td>\n",
       "      <td>20.388849</td>\n",
       "      <td>72.727067</td>\n",
       "      <td>0.000000</td>\n",
       "      <td>737510.000000</td>\n",
       "      <td>...</td>\n",
       "      <td>1706.0</td>\n",
       "      <td>5.0</td>\n",
       "      <td>67.361213</td>\n",
       "      <td>24141.0</td>\n",
       "      <td>291.0</td>\n",
       "      <td>2.178899</td>\n",
       "      <td>84000005</td>\n",
       "      <td>USA</td>\n",
       "      <td>932.435235</td>\n",
       "      <td>16.685780</td>\n",
       "    </tr>\n",
       "    <tr>\n",
       "      <th>4</th>\n",
       "      <td>California</td>\n",
       "      <td>663.255172</td>\n",
       "      <td>38.503448</td>\n",
       "      <td>8.505172</td>\n",
       "      <td>153.908621</td>\n",
       "      <td>37.891379</td>\n",
       "      <td>12.091600</td>\n",
       "      <td>52.153621</td>\n",
       "      <td>737503.000000</td>\n",
       "      <td>737503.000000</td>\n",
       "      <td>...</td>\n",
       "      <td>29351.0</td>\n",
       "      <td>6.0</td>\n",
       "      <td>77.766063</td>\n",
       "      <td>251614.0</td>\n",
       "      <td>4892.0</td>\n",
       "      <td>3.738808</td>\n",
       "      <td>84000006</td>\n",
       "      <td>USA</td>\n",
       "      <td>641.731334</td>\n",
       "      <td>16.044079</td>\n",
       "    </tr>\n",
       "  </tbody>\n",
       "</table>\n",
       "<p>5 rows × 44 columns</p>\n",
       "</div>"
      ],
      "text/plain": [
       "  Province_State  PopulationDensityperSqMile2010  MedianAge2010  \\\n",
       "0        Alabama                       90.216418      39.356716   \n",
       "1         Alaska                        8.010714      37.228571   \n",
       "2        Arizona                       52.046667      38.653333   \n",
       "3       Arkansas                       54.357333      40.316000   \n",
       "4     California                      663.255172      38.503448   \n",
       "\n",
       "   DiabetesPercentage  HeartDiseaseMortality  StrokeMortality  \\\n",
       "0           14.407463             243.595522        51.450746   \n",
       "1            8.667857             165.294140        37.801941   \n",
       "2           10.060000             148.826667        30.900000   \n",
       "3           13.432000             235.172000        47.681333   \n",
       "4            8.505172             153.908621        37.891379   \n",
       "\n",
       "   Smokers_Percentage  RespMortalityRate2014   stay at home  >50 gatherings  \\\n",
       "0           19.989231              77.282985  737518.865672   737504.000000   \n",
       "1           20.085217              54.682500  737511.785714   737507.928571   \n",
       "2           16.483911              51.968667  737515.000000   737501.000000   \n",
       "3           20.388849              72.727067       0.000000   737510.000000   \n",
       "4           12.091600              52.153621  737503.000000   737503.000000   \n",
       "\n",
       "   ...   Active  FIPS  Incident_Rate  People_Tested  People_Hospitalized  \\\n",
       "0  ...   4559.0   1.0     100.492717        42538.0                620.0   \n",
       "1  ...    305.0   2.0      52.530410         9655.0                 39.0   \n",
       "2  ...   4544.0   4.0      64.901548        51045.0                566.0   \n",
       "3  ...   1706.0   5.0      67.361213        24141.0                291.0   \n",
       "4  ...  29351.0   6.0      77.766063       251614.0               4892.0   \n",
       "\n",
       "   Mortality_Rate       UID  ISO3  Testing_Rate  Hospitalization_Rate  \n",
       "0        3.247029  84000001   USA    907.206961             13.157895  \n",
       "1        2.866242  84000002   USA   1615.226458             12.420382  \n",
       "2        3.810330  84000004   USA    701.291175             11.981372  \n",
       "3        2.178899  84000005   USA    932.435235             16.685780  \n",
       "4        3.738808  84000006   USA    641.731334             16.044079  \n",
       "\n",
       "[5 rows x 44 columns]"
      ]
     },
     "execution_count": 83,
     "metadata": {},
     "output_type": "execute_result"
    }
   ],
   "source": [
    "# Morgan's note to self: I realized that we don't necessarily know if the numbers (death, cases, mortality) in the counties dataframe are actually the same as what was reported in the states dataframe...Say if we train a model on counties data then apply it to states data and these numbers are different, it could be problematic. MUST EXPLORE!\n",
    "# First we aggregate the county infomration by state.\n",
    "state_cases_sum = county_cases[['Province_State','total_confirmed', 'total_deaths','PopulationEstimate2018', 'PopTotalMale2017', 'PopTotalFemale2017', 'PopulationEstimate65+2017',         'CensusPopulation2010', '#FTEHospitalTotal2017', \"TotalM.D.'s,TotNon-FedandFed2017\", '#HospParticipatinginNetwork2017', '#Hospitals', '#ICU_beds']].groupby(['Province_State']).sum().reset_index()\n",
    "\n",
    "state_cases_mean = county_cases[['Province_State', 'PopulationDensityperSqMile2010','MedianAge2010', 'DiabetesPercentage', 'HeartDiseaseMortality', 'StrokeMortality', 'Smokers_Percentage', 'RespMortalityRate2014', 'stay at home', '>50 gatherings', '>500 gatherings', 'public schools', 'restaurant dine-in', 'entertainment/gym', 'SVIPercentile']].groupby(['Province_State']).mean().reset_index()\n",
    "\n",
    "state_cases = state_cases_mean.merge(state_cases_sum, how = 'left', on = 'Province_State')\n",
    "\n",
    "# Now we merge with the states dataframe.\n",
    "state_cases = state_cases.merge(states[states['Country_Region'] == 'US'], how = 'left', on = 'Province_State')\n",
    "\n",
    "state_cases.head()"
   ]
  },
  {
   "cell_type": "code",
   "execution_count": 84,
   "metadata": {},
   "outputs": [
    {
     "data": {
      "text/html": [
       "<div>\n",
       "<style scoped>\n",
       "    .dataframe tbody tr th:only-of-type {\n",
       "        vertical-align: middle;\n",
       "    }\n",
       "\n",
       "    .dataframe tbody tr th {\n",
       "        vertical-align: top;\n",
       "    }\n",
       "\n",
       "    .dataframe thead th {\n",
       "        text-align: right;\n",
       "    }\n",
       "</style>\n",
       "<table border=\"1\" class=\"dataframe\">\n",
       "  <thead>\n",
       "    <tr style=\"text-align: right;\">\n",
       "      <th></th>\n",
       "      <th>1/22/20</th>\n",
       "      <th>1/23/20</th>\n",
       "      <th>1/24/20</th>\n",
       "      <th>1/25/20</th>\n",
       "      <th>1/26/20</th>\n",
       "      <th>1/27/20</th>\n",
       "      <th>1/28/20</th>\n",
       "      <th>1/29/20</th>\n",
       "      <th>1/30/20</th>\n",
       "      <th>1/31/20</th>\n",
       "      <th>...</th>\n",
       "      <th>4/9/20</th>\n",
       "      <th>4/10/20</th>\n",
       "      <th>4/11/20</th>\n",
       "      <th>4/12/20</th>\n",
       "      <th>4/13/20</th>\n",
       "      <th>4/14/20</th>\n",
       "      <th>4/15/20</th>\n",
       "      <th>4/16/20</th>\n",
       "      <th>4/17/20</th>\n",
       "      <th>4/18/20</th>\n",
       "    </tr>\n",
       "    <tr>\n",
       "      <th>CountyName</th>\n",
       "      <th></th>\n",
       "      <th></th>\n",
       "      <th></th>\n",
       "      <th></th>\n",
       "      <th></th>\n",
       "      <th></th>\n",
       "      <th></th>\n",
       "      <th></th>\n",
       "      <th></th>\n",
       "      <th></th>\n",
       "      <th></th>\n",
       "      <th></th>\n",
       "      <th></th>\n",
       "      <th></th>\n",
       "      <th></th>\n",
       "      <th></th>\n",
       "      <th></th>\n",
       "      <th></th>\n",
       "      <th></th>\n",
       "      <th></th>\n",
       "      <th></th>\n",
       "    </tr>\n",
       "  </thead>\n",
       "  <tbody>\n",
       "    <tr>\n",
       "      <th>Autauga</th>\n",
       "      <td>0</td>\n",
       "      <td>0</td>\n",
       "      <td>0</td>\n",
       "      <td>0</td>\n",
       "      <td>0</td>\n",
       "      <td>0</td>\n",
       "      <td>0</td>\n",
       "      <td>0</td>\n",
       "      <td>0</td>\n",
       "      <td>0</td>\n",
       "      <td>...</td>\n",
       "      <td>15</td>\n",
       "      <td>17</td>\n",
       "      <td>19</td>\n",
       "      <td>19</td>\n",
       "      <td>19</td>\n",
       "      <td>23</td>\n",
       "      <td>24</td>\n",
       "      <td>26</td>\n",
       "      <td>26</td>\n",
       "      <td>25</td>\n",
       "    </tr>\n",
       "    <tr>\n",
       "      <th>Baldwin</th>\n",
       "      <td>0</td>\n",
       "      <td>0</td>\n",
       "      <td>0</td>\n",
       "      <td>0</td>\n",
       "      <td>0</td>\n",
       "      <td>0</td>\n",
       "      <td>0</td>\n",
       "      <td>0</td>\n",
       "      <td>0</td>\n",
       "      <td>0</td>\n",
       "      <td>...</td>\n",
       "      <td>56</td>\n",
       "      <td>59</td>\n",
       "      <td>66</td>\n",
       "      <td>71</td>\n",
       "      <td>72</td>\n",
       "      <td>87</td>\n",
       "      <td>91</td>\n",
       "      <td>101</td>\n",
       "      <td>103</td>\n",
       "      <td>109</td>\n",
       "    </tr>\n",
       "    <tr>\n",
       "      <th>Barbour</th>\n",
       "      <td>0</td>\n",
       "      <td>0</td>\n",
       "      <td>0</td>\n",
       "      <td>0</td>\n",
       "      <td>0</td>\n",
       "      <td>0</td>\n",
       "      <td>0</td>\n",
       "      <td>0</td>\n",
       "      <td>0</td>\n",
       "      <td>0</td>\n",
       "      <td>...</td>\n",
       "      <td>4</td>\n",
       "      <td>9</td>\n",
       "      <td>9</td>\n",
       "      <td>10</td>\n",
       "      <td>10</td>\n",
       "      <td>11</td>\n",
       "      <td>12</td>\n",
       "      <td>14</td>\n",
       "      <td>15</td>\n",
       "      <td>18</td>\n",
       "    </tr>\n",
       "    <tr>\n",
       "      <th>Bibb</th>\n",
       "      <td>0</td>\n",
       "      <td>0</td>\n",
       "      <td>0</td>\n",
       "      <td>0</td>\n",
       "      <td>0</td>\n",
       "      <td>0</td>\n",
       "      <td>0</td>\n",
       "      <td>0</td>\n",
       "      <td>0</td>\n",
       "      <td>0</td>\n",
       "      <td>...</td>\n",
       "      <td>9</td>\n",
       "      <td>11</td>\n",
       "      <td>13</td>\n",
       "      <td>16</td>\n",
       "      <td>17</td>\n",
       "      <td>17</td>\n",
       "      <td>18</td>\n",
       "      <td>22</td>\n",
       "      <td>24</td>\n",
       "      <td>26</td>\n",
       "    </tr>\n",
       "    <tr>\n",
       "      <th>Blount</th>\n",
       "      <td>0</td>\n",
       "      <td>0</td>\n",
       "      <td>0</td>\n",
       "      <td>0</td>\n",
       "      <td>0</td>\n",
       "      <td>0</td>\n",
       "      <td>0</td>\n",
       "      <td>0</td>\n",
       "      <td>0</td>\n",
       "      <td>0</td>\n",
       "      <td>...</td>\n",
       "      <td>11</td>\n",
       "      <td>12</td>\n",
       "      <td>12</td>\n",
       "      <td>13</td>\n",
       "      <td>14</td>\n",
       "      <td>16</td>\n",
       "      <td>17</td>\n",
       "      <td>18</td>\n",
       "      <td>20</td>\n",
       "      <td>20</td>\n",
       "    </tr>\n",
       "  </tbody>\n",
       "</table>\n",
       "<p>5 rows × 88 columns</p>\n",
       "</div>"
      ],
      "text/plain": [
       "            1/22/20  1/23/20  1/24/20  1/25/20  1/26/20  1/27/20  1/28/20  \\\n",
       "CountyName                                                                  \n",
       "Autauga           0        0        0        0        0        0        0   \n",
       "Baldwin           0        0        0        0        0        0        0   \n",
       "Barbour           0        0        0        0        0        0        0   \n",
       "Bibb              0        0        0        0        0        0        0   \n",
       "Blount            0        0        0        0        0        0        0   \n",
       "\n",
       "            1/29/20  1/30/20  1/31/20  ...  4/9/20  4/10/20  4/11/20  4/12/20  \\\n",
       "CountyName                             ...                                      \n",
       "Autauga           0        0        0  ...      15       17       19       19   \n",
       "Baldwin           0        0        0  ...      56       59       66       71   \n",
       "Barbour           0        0        0  ...       4        9        9       10   \n",
       "Bibb              0        0        0  ...       9       11       13       16   \n",
       "Blount            0        0        0  ...      11       12       12       13   \n",
       "\n",
       "            4/13/20  4/14/20  4/15/20  4/16/20  4/17/20  4/18/20  \n",
       "CountyName                                                        \n",
       "Autauga          19       23       24       26       26       25  \n",
       "Baldwin          72       87       91      101      103      109  \n",
       "Barbour          10       11       12       14       15       18  \n",
       "Bibb             17       17       18       22       24       26  \n",
       "Blount           14       16       17       18       20       20  \n",
       "\n",
       "[5 rows x 88 columns]"
      ]
     },
     "execution_count": 84,
     "metadata": {},
     "output_type": "execute_result"
    }
   ],
   "source": [
    "# Time Series data with county info for counties with non-zero cases\n",
    "time_deaths= county_cases[county_cases['total_confirmed'] != 0].merge(deaths.drop(['UID', 'iso2', 'iso3', 'code3', 'Admin2','Province_State', 'Country_Region', 'Lat', 'Long_', 'Combined_Key'], axis =1), how = 'left', on = 'FIPS')\n",
    "time_cases= county_cases[county_cases['total_confirmed'] != 0].merge(cases.drop(['UID', 'iso2', 'iso3', 'code3', 'Admin2','Province_State', 'Country_Region', 'Lat', 'Long_', 'Combined_Key'], axis =1), how = 'left', on = 'FIPS')\n",
    "\n",
    "date_array = ['1/22/20', '1/23/20', '1/24/20', '1/25/20', '1/26/20', '1/27/20', '1/28/20', '1/29/20', '1/30/20', '1/31/20', '2/1/20', '2/2/20', '2/3/20', '2/4/20', '2/5/20', '2/6/20', '2/7/20', '2/8/20', '2/9/20', '2/10/20', '2/11/20', '2/12/20', '2/13/20', '2/14/20', '2/15/20', '2/16/20', '2/17/20', '2/18/20', '2/19/20', '2/20/20', '2/21/20', '2/22/20', '2/23/20', '2/24/20', '2/25/20', '2/26/20', '2/27/20', '2/28/20', '2/29/20', '3/1/20', '3/2/20', '3/3/20', '3/4/20', '3/5/20', '3/6/20', '3/7/20', '3/8/20', '3/9/20', '3/10/20', '3/11/20', '3/12/20', '3/13/20', '3/14/20', '3/15/20', '3/16/20', '3/17/20', '3/18/20', '3/19/20', '3/20/20', '3/21/20', '3/22/20', '3/23/20', '3/24/20', '3/25/20', '3/26/20', '3/27/20', '3/28/20', '3/29/20', '3/30/20', '3/31/20', '4/1/20', '4/2/20', '4/3/20', '4/4/20', '4/5/20', '4/6/20', '4/7/20', '4/8/20', '4/9/20', '4/10/20', '4/11/20', '4/12/20', '4/13/20', '4/14/20', '4/15/20', '4/16/20', '4/17/20', '4/18/20']\n",
    "plot_cases = time_cases.set_index('CountyName')[date_array] \n",
    "plot_cases.head()\n",
    "#print(list(time_cases.columns))\n",
    "# ca = county_cases.loc[county_cases['Province_State'] == 'California']\n",
    "# sns.scatterplot(x='RespMortalityRate2014',y='total_deaths',data=county_cases)\n",
    "#sns.scatterplot(x='PopulationDensityperSqMile2010',y='total_deaths',data=county_cases)"
   ]
  },
  {
   "cell_type": "markdown",
   "metadata": {},
   "source": [
    "## State Level Comparison"
   ]
  },
  {
   "cell_type": "markdown",
   "metadata": {},
   "source": [
    "Our exploration can be on the Mortality Rate. We want to explore what are the features specifically of states that lead to the given mortality rate. As we saw above, there is a lot of missing data in terms of hospitalization in countries other than the US (which could be a helpful metric later on), so we can focus on the US."
   ]
  },
  {
   "cell_type": "code",
   "execution_count": 85,
   "metadata": {
    "scrolled": true
   },
   "outputs": [],
   "source": [
    "# US_States = states[states['Country_Region'] == 'US']\n",
    "# US_States.drop(116, axis=0,inplace=True)\n",
    "# US_States.drop(['Recovered','Active','FIPS','ISO3','Last_Update','Country_Region'],axis=1,inplace=True)\n",
    "# US_states = states[['Province_State','Mortality_Rate']]\n",
    "\n",
    "# fp = './DSProj/img/states.shp'\n",
    "# US_Map = gpd.read_file(fp)\n",
    "# US_Map = US_Map.rename(columns={'STATE_NAME':'Province_State'})\n",
    "# merged = US_Map.merge(US_states, on='Province_State')\n",
    "# rate_min = merged['Mortality_Rate'].min()\n",
    "# rate_max = merged['Mortality_Rate'].max()\n",
    "\n",
    "# metric = 'Mortality_Rate'\n",
    "# fig, ax = plt.subplots(figsize = (10,6))\n",
    "# merged.plot(column=metric,cmap='BuGn',linewidth=0.8,ax=ax,edgecolor='0.8')\n",
    "# sm = plt.cm.ScalarMappable(cmap='BuGn', norm=plt.Normalize(vmin=rate_min, vmax=rate_max))\n",
    "# sm._A = []\n",
    "# cbar = fig.colorbar(sm, label='Mortality Rate (%)')\n",
    "# # fig.savefig(map_export.png’, dpi=300)\n",
    "# plt.title('Mortality Rate in US States')\n",
    "# plt.xlabel('Longitude')\n",
    "# plt.ylabel('Latitude')"
   ]
  },
  {
   "cell_type": "markdown",
   "metadata": {},
   "source": [
    "Exploratory Data Analysis: we can consider the data we have for the counties and group them as follows: \n",
    "1. ***Population* Stats**:  'PopulationEstimate2018',  'PopTotalMale2017',  'PopTotalFemale2017',  'PopulationEstimate65+2017',  'PopulationDensityperSqMile2010',  'CensusPopulation2010',\n",
    "2. **At *Risk* Populations**:  'MedianAge2010',  'DiabetesPercentage',  'HeartDiseaseMortality',  'StrokeMortality',  'Smokers_Percentage', 'RespMortalityRate2014',\n",
    "3. ***Infrastructure* (Ability to provide care)**:  '#FTEHospitalTotal2017', \"TotalM.D.'s,TotNon-FedandFed2017\", '#HospParticipatinginNetwork2017', '#Hospitals', '#ICU_beds', 'SVIPercentile'\n",
    "4. **Pandemic *Policies* Enacted**: 'stay at home', '>50 gatherings', '>500 gatherings', 'public schools', 'restaurant dine-in', 'entertainment/gym'\n"
   ]
  },
  {
   "cell_type": "code",
   "execution_count": 86,
   "metadata": {},
   "outputs": [],
   "source": [
    "population_stats = ['PopulationEstimate2018', 'PopTotalMale2017', 'PopTotalFemale2017', 'PopulationEstimate65+2017', 'PopulationDensityperSqMile2010', 'CensusPopulation2010','mortality']\n",
    "\n",
    "def select_columns(data, columns): \n",
    "    return data.loc[:,columns]\n",
    "\n",
    "def process_data(data, metric):\n",
    "    \n",
    "    # Select the desired columns \n",
    "    df = select_columns(data, population_stats)\n",
    "    \n",
    "    # Return features matrix and response variable (X and Y)\n",
    "    X = df.drop([metric], axis=1)\n",
    "    Y = df.loc[:,metric]\n",
    "    \n",
    "    return X,Y\n",
    "X_ca_pop, Y_ca_pop = process_data(ca_cases,'mortality')"
   ]
  },
  {
   "cell_type": "code",
   "execution_count": 87,
   "metadata": {},
   "outputs": [],
   "source": [
    "def rmse(predicted, actual):\n",
    "    return np.sqrt(np.mean((actual - predicted)**2))\n",
    "def rmse_score(model, X, Y):\n",
    "    return np.sqrt(np.mean((Y - model.predict(X))**2))"
   ]
  },
  {
   "cell_type": "code",
   "execution_count": 88,
   "metadata": {},
   "outputs": [],
   "source": [
    "from sklearn.linear_model import LinearRegression\n",
    "pop_model = LinearRegression(fit_intercept=True)\n",
    "\n",
    "pop_model.fit(X_ca_pop, Y_ca_pop)\n",
    "Y_ca_pop_predicted = pop_model.predict(X_ca_pop)"
   ]
  },
  {
   "cell_type": "code",
   "execution_count": 89,
   "metadata": {},
   "outputs": [
    {
     "name": "stdout",
     "output_type": "stream",
     "text": [
      "CA Population Stats RMSE: 0.12921425396580136\n"
     ]
    }
   ],
   "source": [
    "ca_pop_error = rmse(Y_ca_pop_predicted, Y_ca_pop)\n",
    "print(\"CA Population Stats RMSE: {}\".format(ca_pop_error))"
   ]
  },
  {
   "cell_type": "code",
   "execution_count": 90,
   "metadata": {},
   "outputs": [],
   "source": [
    "from sklearn.model_selection import KFold\n",
    "from sklearn.base import clone\n",
    "\n",
    "def cross_validate_rmse(model, X, y):\n",
    "    model = clone(model)\n",
    "    five_fold = KFold(n_splits=5)\n",
    "    rmse_values = []\n",
    "    for tr_ind, va_ind in five_fold.split(X):\n",
    "        model.fit(X.iloc[tr_ind,:], y.iloc[tr_ind])\n",
    "        rmse_values.append(rmse(y.iloc[va_ind], model.predict(X.iloc[va_ind,:])))\n",
    "    return np.mean(rmse_values)"
   ]
  },
  {
   "cell_type": "code",
   "execution_count": 91,
   "metadata": {},
   "outputs": [
    {
     "name": "stdout",
     "output_type": "stream",
     "text": [
      "CA Population Stats CV RMSE: 0.09947370581970065\n"
     ]
    }
   ],
   "source": [
    "ca_pop_cv_error = cross_validate_rmse(pop_model,X_ca_pop, Y_ca_pop)\n",
    "print(\"CA Population Stats CV RMSE: {}\".format(ca_pop_cv_error))"
   ]
  },
  {
   "cell_type": "code",
   "execution_count": 92,
   "metadata": {},
   "outputs": [
    {
     "data": {
      "text/plain": [
       "0.09947370581970065"
      ]
     },
     "execution_count": 92,
     "metadata": {},
     "output_type": "execute_result"
    }
   ],
   "source": [
    "from sklearn.model_selection import cross_val_score\n",
    "np.mean(cross_val_score(pop_model, X_ca_pop, Y_ca_pop, scoring=rmse_score, cv=5))"
   ]
  },
  {
   "cell_type": "code",
   "execution_count": 93,
   "metadata": {},
   "outputs": [
    {
     "data": {
      "text/plain": [
       "<matplotlib.axes._subplots.AxesSubplot at 0x1a2a818bd0>"
      ]
     },
     "execution_count": 93,
     "metadata": {},
     "output_type": "execute_result"
    },
    {
     "data": {
      "image/png": "[encoded data removed]",
      "text/plain": [
       "<Figure size 432x288 with 1 Axes>"
      ]
     },
     "metadata": {
      "needs_background": "light"
     },
     "output_type": "display_data"
    }
   ],
   "source": [
    "\n",
    "sns.scatterplot(X_ca_pop['PopTotalMale2017'],X_ca_pop['PopTotalFemale2017'], Y_ca_pop)"
   ]
  },
  {
   "cell_type": "code",
   "execution_count": 94,
   "metadata": {},
   "outputs": [
    {
     "data": {
      "text/html": [
       "        <script type=\"text/javascript\">\n",
       "        window.PlotlyConfig = {MathJaxConfig: 'local'};\n",
       "        if (window.MathJax) {MathJax.Hub.Config({SVG: {font: \"STIX-Web\"}});}\n",
       "        if (typeof require !== 'undefined') {\n",
       "        require.undef(\"plotly\");\n",
       "        requirejs.config({\n",
       "            paths: {\n",
       "                'plotly': ['https://cdn.plot.ly/plotly-latest.min']\n",
       "            }\n",
       "        });\n",
       "        require(['plotly'], function(Plotly) {\n",
       "            window._Plotly = Plotly;\n",
       "        });\n",
       "        }\n",
       "        </script>\n",
       "        "
      ]
     },
     "metadata": {},
     "output_type": "display_data"
    }
   ],
   "source": [
    "import plotly.offline as py\n",
    "import plotly.express as px\n",
    "import plotly.graph_objects as go\n",
    "import plotly.figure_factory as ff\n",
    "import cufflinks as cf\n",
    "cf.set_config_file(offline=True, sharing=False, theme='ggplot');"
   ]
  },
  {
   "cell_type": "markdown",
   "metadata": {},
   "source": [
    "##### *California*"
   ]
  },
  {
   "cell_type": "code",
   "execution_count": 95,
   "metadata": {},
   "outputs": [
    {
     "data": {
      "text/plain": [
       "<matplotlib.axes._subplots.AxesSubplot at 0x1a291f5890>"
      ]
     },
     "execution_count": 95,
     "metadata": {},
     "output_type": "execute_result"
    },
    {
     "data": {
      "image/png": "[encoded data removed]",
      "text/plain": [
       "<Figure size 432x288 with 1 Axes>"
      ]
     },
     "metadata": {
      "needs_background": "light"
     },
     "output_type": "display_data"
    }
   ],
   "source": [
    "sns.scatterplot(ca_cases['PopulationEstimate2018'], ca_cases['mortality'])"
   ]
  },
  {
   "cell_type": "code",
   "execution_count": 97,
   "metadata": {},
   "outputs": [
    {
     "name": "stdout",
     "output_type": "stream",
     "text": [
      "204    Los Angeles\n",
      "Name: CountyName, dtype: object\n",
      "237    Tehama\n",
      "Name: CountyName, dtype: object\n"
     ]
    }
   ],
   "source": [
    "# isolate and identify the outliers\n",
    "print(ca_cases[ca_cases['PopulationEstimate2018'] > 10000000]['CountyName'])\n",
    "\n",
    "print(ca_cases[ca_cases['mortality'] > 0.8]['CountyName'])"
   ]
  },
  {
   "cell_type": "code",
   "execution_count": 99,
   "metadata": {},
   "outputs": [
    {
     "data": {
      "text/html": [
       "<div>\n",
       "<style scoped>\n",
       "    .dataframe tbody tr th:only-of-type {\n",
       "        vertical-align: middle;\n",
       "    }\n",
       "\n",
       "    .dataframe tbody tr th {\n",
       "        vertical-align: top;\n",
       "    }\n",
       "\n",
       "    .dataframe thead th {\n",
       "        text-align: right;\n",
       "    }\n",
       "</style>\n",
       "<table border=\"1\" class=\"dataframe\">\n",
       "  <thead>\n",
       "    <tr style=\"text-align: right;\">\n",
       "      <th></th>\n",
       "      <th>FIPS</th>\n",
       "      <th>Province_State</th>\n",
       "      <th>Lat</th>\n",
       "      <th>Long</th>\n",
       "      <th>total_confirmed</th>\n",
       "      <th>total_deaths</th>\n",
       "      <th>mortality</th>\n",
       "      <th>CountyName</th>\n",
       "      <th>PopulationEstimate2018</th>\n",
       "      <th>PopTotalMale2017</th>\n",
       "      <th>...</th>\n",
       "      <th>#HospParticipatinginNetwork2017</th>\n",
       "      <th>#Hospitals</th>\n",
       "      <th>#ICU_beds</th>\n",
       "      <th>stay at home</th>\n",
       "      <th>&gt;50 gatherings</th>\n",
       "      <th>&gt;500 gatherings</th>\n",
       "      <th>public schools</th>\n",
       "      <th>restaurant dine-in</th>\n",
       "      <th>entertainment/gym</th>\n",
       "      <th>SVIPercentile</th>\n",
       "    </tr>\n",
       "  </thead>\n",
       "  <tbody>\n",
       "    <tr>\n",
       "      <th>186</th>\n",
       "      <td>06001</td>\n",
       "      <td>California</td>\n",
       "      <td>37.646294</td>\n",
       "      <td>-121.892927</td>\n",
       "      <td>1114</td>\n",
       "      <td>41</td>\n",
       "      <td>0.036804</td>\n",
       "      <td>Alameda</td>\n",
       "      <td>1666753.0</td>\n",
       "      <td>817903.0</td>\n",
       "      <td>...</td>\n",
       "      <td>6.0</td>\n",
       "      <td>12.0</td>\n",
       "      <td>282.0</td>\n",
       "      <td>2020-03-19</td>\n",
       "      <td>2020-03-19</td>\n",
       "      <td>2020-03-19</td>\n",
       "      <td>2020-03-19</td>\n",
       "      <td>2020-03-15</td>\n",
       "      <td>2020-03-15</td>\n",
       "      <td>0.4701</td>\n",
       "    </tr>\n",
       "    <tr>\n",
       "      <th>187</th>\n",
       "      <td>06003</td>\n",
       "      <td>California</td>\n",
       "      <td>38.596786</td>\n",
       "      <td>-119.822359</td>\n",
       "      <td>2</td>\n",
       "      <td>0</td>\n",
       "      <td>0.000000</td>\n",
       "      <td>Alpine</td>\n",
       "      <td>1101.0</td>\n",
       "      <td>610.0</td>\n",
       "      <td>...</td>\n",
       "      <td>0.0</td>\n",
       "      <td>0.0</td>\n",
       "      <td>0.0</td>\n",
       "      <td>2020-03-19</td>\n",
       "      <td>2020-03-19</td>\n",
       "      <td>2020-03-19</td>\n",
       "      <td>2020-03-19</td>\n",
       "      <td>2020-03-15</td>\n",
       "      <td>2020-03-15</td>\n",
       "      <td>0.7287</td>\n",
       "    </tr>\n",
       "    <tr>\n",
       "      <th>188</th>\n",
       "      <td>06005</td>\n",
       "      <td>California</td>\n",
       "      <td>38.445831</td>\n",
       "      <td>-120.656960</td>\n",
       "      <td>7</td>\n",
       "      <td>0</td>\n",
       "      <td>0.000000</td>\n",
       "      <td>Amador</td>\n",
       "      <td>39383.0</td>\n",
       "      <td>20839.0</td>\n",
       "      <td>...</td>\n",
       "      <td>1.0</td>\n",
       "      <td>1.0</td>\n",
       "      <td>6.0</td>\n",
       "      <td>2020-03-19</td>\n",
       "      <td>2020-03-19</td>\n",
       "      <td>2020-03-19</td>\n",
       "      <td>2020-03-19</td>\n",
       "      <td>2020-03-15</td>\n",
       "      <td>2020-03-15</td>\n",
       "      <td>0.5334</td>\n",
       "    </tr>\n",
       "    <tr>\n",
       "      <th>189</th>\n",
       "      <td>06007</td>\n",
       "      <td>California</td>\n",
       "      <td>39.667278</td>\n",
       "      <td>-121.600525</td>\n",
       "      <td>16</td>\n",
       "      <td>0</td>\n",
       "      <td>0.000000</td>\n",
       "      <td>Butte</td>\n",
       "      <td>231256.0</td>\n",
       "      <td>113398.0</td>\n",
       "      <td>...</td>\n",
       "      <td>0.0</td>\n",
       "      <td>4.0</td>\n",
       "      <td>43.0</td>\n",
       "      <td>2020-03-19</td>\n",
       "      <td>2020-03-19</td>\n",
       "      <td>2020-03-19</td>\n",
       "      <td>2020-03-19</td>\n",
       "      <td>2020-03-15</td>\n",
       "      <td>2020-03-15</td>\n",
       "      <td>0.8064</td>\n",
       "    </tr>\n",
       "    <tr>\n",
       "      <th>190</th>\n",
       "      <td>06009</td>\n",
       "      <td>California</td>\n",
       "      <td>38.205371</td>\n",
       "      <td>-120.552913</td>\n",
       "      <td>12</td>\n",
       "      <td>0</td>\n",
       "      <td>0.000000</td>\n",
       "      <td>Calaveras</td>\n",
       "      <td>45602.0</td>\n",
       "      <td>22754.0</td>\n",
       "      <td>...</td>\n",
       "      <td>0.0</td>\n",
       "      <td>1.0</td>\n",
       "      <td>0.0</td>\n",
       "      <td>2020-03-19</td>\n",
       "      <td>2020-03-19</td>\n",
       "      <td>2020-03-19</td>\n",
       "      <td>2020-03-19</td>\n",
       "      <td>2020-03-15</td>\n",
       "      <td>2020-03-15</td>\n",
       "      <td>0.2350</td>\n",
       "    </tr>\n",
       "    <tr>\n",
       "      <th>191</th>\n",
       "      <td>06011</td>\n",
       "      <td>California</td>\n",
       "      <td>39.178820</td>\n",
       "      <td>-122.233173</td>\n",
       "      <td>3</td>\n",
       "      <td>0</td>\n",
       "      <td>0.000000</td>\n",
       "      <td>Colusa</td>\n",
       "      <td>21627.0</td>\n",
       "      <td>11156.0</td>\n",
       "      <td>...</td>\n",
       "      <td>0.0</td>\n",
       "      <td>1.0</td>\n",
       "      <td>0.0</td>\n",
       "      <td>2020-03-19</td>\n",
       "      <td>2020-03-19</td>\n",
       "      <td>2020-03-19</td>\n",
       "      <td>2020-03-19</td>\n",
       "      <td>2020-03-15</td>\n",
       "      <td>2020-03-15</td>\n",
       "      <td>0.7436</td>\n",
       "    </tr>\n",
       "    <tr>\n",
       "      <th>192</th>\n",
       "      <td>06013</td>\n",
       "      <td>California</td>\n",
       "      <td>37.919235</td>\n",
       "      <td>-121.928953</td>\n",
       "      <td>685</td>\n",
       "      <td>19</td>\n",
       "      <td>0.027737</td>\n",
       "      <td>Contra Costa</td>\n",
       "      <td>1150215.0</td>\n",
       "      <td>560863.0</td>\n",
       "      <td>...</td>\n",
       "      <td>5.0</td>\n",
       "      <td>7.0</td>\n",
       "      <td>163.0</td>\n",
       "      <td>2020-03-19</td>\n",
       "      <td>2020-03-19</td>\n",
       "      <td>2020-03-19</td>\n",
       "      <td>2020-03-19</td>\n",
       "      <td>2020-03-15</td>\n",
       "      <td>2020-03-15</td>\n",
       "      <td>0.4057</td>\n",
       "    </tr>\n",
       "    <tr>\n",
       "      <th>193</th>\n",
       "      <td>06015</td>\n",
       "      <td>California</td>\n",
       "      <td>41.742283</td>\n",
       "      <td>-123.897406</td>\n",
       "      <td>2</td>\n",
       "      <td>0</td>\n",
       "      <td>0.000000</td>\n",
       "      <td>Del Norte</td>\n",
       "      <td>27828.0</td>\n",
       "      <td>14784.0</td>\n",
       "      <td>...</td>\n",
       "      <td>1.0</td>\n",
       "      <td>1.0</td>\n",
       "      <td>6.0</td>\n",
       "      <td>2020-03-19</td>\n",
       "      <td>2020-03-19</td>\n",
       "      <td>2020-03-19</td>\n",
       "      <td>2020-03-19</td>\n",
       "      <td>2020-03-15</td>\n",
       "      <td>2020-03-15</td>\n",
       "      <td>0.9713</td>\n",
       "    </tr>\n",
       "    <tr>\n",
       "      <th>194</th>\n",
       "      <td>06017</td>\n",
       "      <td>California</td>\n",
       "      <td>38.779660</td>\n",
       "      <td>-120.523317</td>\n",
       "      <td>36</td>\n",
       "      <td>0</td>\n",
       "      <td>0.000000</td>\n",
       "      <td>El Dorado</td>\n",
       "      <td>190678.0</td>\n",
       "      <td>94342.0</td>\n",
       "      <td>...</td>\n",
       "      <td>0.0</td>\n",
       "      <td>2.0</td>\n",
       "      <td>28.0</td>\n",
       "      <td>2020-03-19</td>\n",
       "      <td>2020-03-19</td>\n",
       "      <td>2020-03-19</td>\n",
       "      <td>2020-03-19</td>\n",
       "      <td>2020-03-15</td>\n",
       "      <td>2020-03-15</td>\n",
       "      <td>0.1838</td>\n",
       "    </tr>\n",
       "    <tr>\n",
       "      <th>195</th>\n",
       "      <td>06019</td>\n",
       "      <td>California</td>\n",
       "      <td>36.757339</td>\n",
       "      <td>-119.646695</td>\n",
       "      <td>311</td>\n",
       "      <td>7</td>\n",
       "      <td>0.022508</td>\n",
       "      <td>Fresno</td>\n",
       "      <td>994400.0</td>\n",
       "      <td>493547.0</td>\n",
       "      <td>...</td>\n",
       "      <td>2.0</td>\n",
       "      <td>7.0</td>\n",
       "      <td>164.0</td>\n",
       "      <td>2020-03-19</td>\n",
       "      <td>2020-03-19</td>\n",
       "      <td>2020-03-19</td>\n",
       "      <td>2020-03-19</td>\n",
       "      <td>2020-03-15</td>\n",
       "      <td>2020-03-15</td>\n",
       "      <td>0.9611</td>\n",
       "    </tr>\n",
       "    <tr>\n",
       "      <th>196</th>\n",
       "      <td>06021</td>\n",
       "      <td>California</td>\n",
       "      <td>39.598759</td>\n",
       "      <td>-122.393845</td>\n",
       "      <td>4</td>\n",
       "      <td>0</td>\n",
       "      <td>0.000000</td>\n",
       "      <td>Glenn</td>\n",
       "      <td>28047.0</td>\n",
       "      <td>14235.0</td>\n",
       "      <td>...</td>\n",
       "      <td>0.0</td>\n",
       "      <td>1.0</td>\n",
       "      <td>0.0</td>\n",
       "      <td>2020-03-19</td>\n",
       "      <td>2020-03-19</td>\n",
       "      <td>2020-03-19</td>\n",
       "      <td>2020-03-19</td>\n",
       "      <td>2020-03-15</td>\n",
       "      <td>2020-03-15</td>\n",
       "      <td>0.8895</td>\n",
       "    </tr>\n",
       "    <tr>\n",
       "      <th>197</th>\n",
       "      <td>06023</td>\n",
       "      <td>California</td>\n",
       "      <td>40.699230</td>\n",
       "      <td>-123.876044</td>\n",
       "      <td>52</td>\n",
       "      <td>0</td>\n",
       "      <td>0.000000</td>\n",
       "      <td>Humboldt</td>\n",
       "      <td>136373.0</td>\n",
       "      <td>68119.0</td>\n",
       "      <td>...</td>\n",
       "      <td>0.0</td>\n",
       "      <td>4.0</td>\n",
       "      <td>32.0</td>\n",
       "      <td>2020-03-19</td>\n",
       "      <td>2020-03-19</td>\n",
       "      <td>2020-03-19</td>\n",
       "      <td>2020-03-19</td>\n",
       "      <td>2020-03-15</td>\n",
       "      <td>2020-03-15</td>\n",
       "      <td>0.7605</td>\n",
       "    </tr>\n",
       "    <tr>\n",
       "      <th>198</th>\n",
       "      <td>06025</td>\n",
       "      <td>California</td>\n",
       "      <td>33.039308</td>\n",
       "      <td>-115.366904</td>\n",
       "      <td>155</td>\n",
       "      <td>3</td>\n",
       "      <td>0.019355</td>\n",
       "      <td>Imperial</td>\n",
       "      <td>181827.0</td>\n",
       "      <td>93743.0</td>\n",
       "      <td>...</td>\n",
       "      <td>0.0</td>\n",
       "      <td>2.0</td>\n",
       "      <td>28.0</td>\n",
       "      <td>2020-03-19</td>\n",
       "      <td>2020-03-19</td>\n",
       "      <td>2020-03-19</td>\n",
       "      <td>2020-03-19</td>\n",
       "      <td>2020-03-15</td>\n",
       "      <td>2020-03-15</td>\n",
       "      <td>0.9978</td>\n",
       "    </tr>\n",
       "    <tr>\n",
       "      <th>199</th>\n",
       "      <td>06027</td>\n",
       "      <td>California</td>\n",
       "      <td>36.511121</td>\n",
       "      <td>-117.411198</td>\n",
       "      <td>18</td>\n",
       "      <td>0</td>\n",
       "      <td>0.000000</td>\n",
       "      <td>Inyo</td>\n",
       "      <td>17987.0</td>\n",
       "      <td>9077.0</td>\n",
       "      <td>...</td>\n",
       "      <td>0.0</td>\n",
       "      <td>2.0</td>\n",
       "      <td>4.0</td>\n",
       "      <td>2020-03-19</td>\n",
       "      <td>2020-03-19</td>\n",
       "      <td>2020-03-19</td>\n",
       "      <td>2020-03-19</td>\n",
       "      <td>2020-03-15</td>\n",
       "      <td>2020-03-15</td>\n",
       "      <td>0.5701</td>\n",
       "    </tr>\n",
       "    <tr>\n",
       "      <th>200</th>\n",
       "      <td>06029</td>\n",
       "      <td>California</td>\n",
       "      <td>35.343294</td>\n",
       "      <td>-118.727780</td>\n",
       "      <td>610</td>\n",
       "      <td>3</td>\n",
       "      <td>0.004918</td>\n",
       "      <td>Kern</td>\n",
       "      <td>896764.0</td>\n",
       "      <td>457994.0</td>\n",
       "      <td>...</td>\n",
       "      <td>0.0</td>\n",
       "      <td>10.0</td>\n",
       "      <td>144.0</td>\n",
       "      <td>2020-03-19</td>\n",
       "      <td>2020-03-19</td>\n",
       "      <td>2020-03-19</td>\n",
       "      <td>2020-03-19</td>\n",
       "      <td>2020-03-15</td>\n",
       "      <td>2020-03-15</td>\n",
       "      <td>0.9659</td>\n",
       "    </tr>\n",
       "    <tr>\n",
       "      <th>201</th>\n",
       "      <td>06031</td>\n",
       "      <td>California</td>\n",
       "      <td>36.074091</td>\n",
       "      <td>-119.815997</td>\n",
       "      <td>20</td>\n",
       "      <td>1</td>\n",
       "      <td>0.050000</td>\n",
       "      <td>Kings</td>\n",
       "      <td>151366.0</td>\n",
       "      <td>82356.0</td>\n",
       "      <td>...</td>\n",
       "      <td>0.0</td>\n",
       "      <td>1.0</td>\n",
       "      <td>22.0</td>\n",
       "      <td>2020-03-19</td>\n",
       "      <td>2020-03-19</td>\n",
       "      <td>2020-03-19</td>\n",
       "      <td>2020-03-19</td>\n",
       "      <td>2020-03-15</td>\n",
       "      <td>2020-03-15</td>\n",
       "      <td>0.9707</td>\n",
       "    </tr>\n",
       "    <tr>\n",
       "      <th>202</th>\n",
       "      <td>06033</td>\n",
       "      <td>California</td>\n",
       "      <td>39.101243</td>\n",
       "      <td>-122.753624</td>\n",
       "      <td>6</td>\n",
       "      <td>0</td>\n",
       "      <td>0.000000</td>\n",
       "      <td>Lake</td>\n",
       "      <td>64382.0</td>\n",
       "      <td>31990.0</td>\n",
       "      <td>...</td>\n",
       "      <td>1.0</td>\n",
       "      <td>2.0</td>\n",
       "      <td>8.0</td>\n",
       "      <td>2020-03-19</td>\n",
       "      <td>2020-03-19</td>\n",
       "      <td>2020-03-19</td>\n",
       "      <td>2020-03-19</td>\n",
       "      <td>2020-03-15</td>\n",
       "      <td>2020-03-15</td>\n",
       "      <td>0.9178</td>\n",
       "    </tr>\n",
       "    <tr>\n",
       "      <th>203</th>\n",
       "      <td>06035</td>\n",
       "      <td>California</td>\n",
       "      <td>40.673113</td>\n",
       "      <td>-120.593510</td>\n",
       "      <td>0</td>\n",
       "      <td>0</td>\n",
       "      <td>0.000000</td>\n",
       "      <td>Lassen</td>\n",
       "      <td>30802.0</td>\n",
       "      <td>19474.0</td>\n",
       "      <td>...</td>\n",
       "      <td>1.0</td>\n",
       "      <td>1.0</td>\n",
       "      <td>0.0</td>\n",
       "      <td>2020-03-19</td>\n",
       "      <td>2020-03-19</td>\n",
       "      <td>2020-03-19</td>\n",
       "      <td>2020-03-19</td>\n",
       "      <td>2020-03-15</td>\n",
       "      <td>2020-03-15</td>\n",
       "      <td>0.5997</td>\n",
       "    </tr>\n",
       "    <tr>\n",
       "      <th>204</th>\n",
       "      <td>06037</td>\n",
       "      <td>California</td>\n",
       "      <td>34.308284</td>\n",
       "      <td>-118.228241</td>\n",
       "      <td>12021</td>\n",
       "      <td>576</td>\n",
       "      <td>0.047916</td>\n",
       "      <td>Los Angeles</td>\n",
       "      <td>10105518.0</td>\n",
       "      <td>5009834.0</td>\n",
       "      <td>...</td>\n",
       "      <td>22.0</td>\n",
       "      <td>76.0</td>\n",
       "      <td>2126.0</td>\n",
       "      <td>2020-03-19</td>\n",
       "      <td>2020-03-19</td>\n",
       "      <td>2020-03-19</td>\n",
       "      <td>2020-03-19</td>\n",
       "      <td>2020-03-15</td>\n",
       "      <td>2020-03-15</td>\n",
       "      <td>0.7682</td>\n",
       "    </tr>\n",
       "    <tr>\n",
       "      <th>205</th>\n",
       "      <td>06039</td>\n",
       "      <td>California</td>\n",
       "      <td>37.215140</td>\n",
       "      <td>-119.766559</td>\n",
       "      <td>33</td>\n",
       "      <td>2</td>\n",
       "      <td>0.060606</td>\n",
       "      <td>Madera</td>\n",
       "      <td>157672.0</td>\n",
       "      <td>75711.0</td>\n",
       "      <td>...</td>\n",
       "      <td>0.0</td>\n",
       "      <td>1.0</td>\n",
       "      <td>10.0</td>\n",
       "      <td>2020-03-19</td>\n",
       "      <td>2020-03-19</td>\n",
       "      <td>2020-03-19</td>\n",
       "      <td>2020-03-19</td>\n",
       "      <td>2020-03-15</td>\n",
       "      <td>2020-03-15</td>\n",
       "      <td>0.9541</td>\n",
       "    </tr>\n",
       "    <tr>\n",
       "      <th>206</th>\n",
       "      <td>06041</td>\n",
       "      <td>California</td>\n",
       "      <td>38.071225</td>\n",
       "      <td>-122.721063</td>\n",
       "      <td>187</td>\n",
       "      <td>10</td>\n",
       "      <td>0.053476</td>\n",
       "      <td>Marin</td>\n",
       "      <td>259666.0</td>\n",
       "      <td>127495.0</td>\n",
       "      <td>...</td>\n",
       "      <td>2.0</td>\n",
       "      <td>3.0</td>\n",
       "      <td>66.0</td>\n",
       "      <td>2020-03-19</td>\n",
       "      <td>2020-03-19</td>\n",
       "      <td>2020-03-19</td>\n",
       "      <td>2020-03-19</td>\n",
       "      <td>2020-03-15</td>\n",
       "      <td>2020-03-15</td>\n",
       "      <td>0.2701</td>\n",
       "    </tr>\n",
       "    <tr>\n",
       "      <th>207</th>\n",
       "      <td>06043</td>\n",
       "      <td>California</td>\n",
       "      <td>37.579786</td>\n",
       "      <td>-119.907333</td>\n",
       "      <td>0</td>\n",
       "      <td>0</td>\n",
       "      <td>0.000000</td>\n",
       "      <td>Mariposa</td>\n",
       "      <td>17471.0</td>\n",
       "      <td>8975.0</td>\n",
       "      <td>...</td>\n",
       "      <td>0.0</td>\n",
       "      <td>1.0</td>\n",
       "      <td>0.0</td>\n",
       "      <td>2020-03-19</td>\n",
       "      <td>2020-03-19</td>\n",
       "      <td>2020-03-19</td>\n",
       "      <td>2020-03-19</td>\n",
       "      <td>2020-03-15</td>\n",
       "      <td>2020-03-15</td>\n",
       "      <td>0.5293</td>\n",
       "    </tr>\n",
       "    <tr>\n",
       "      <th>208</th>\n",
       "      <td>06045</td>\n",
       "      <td>California</td>\n",
       "      <td>39.438119</td>\n",
       "      <td>-123.391131</td>\n",
       "      <td>5</td>\n",
       "      <td>0</td>\n",
       "      <td>0.000000</td>\n",
       "      <td>Mendocino</td>\n",
       "      <td>87606.0</td>\n",
       "      <td>43711.0</td>\n",
       "      <td>...</td>\n",
       "      <td>1.0</td>\n",
       "      <td>3.0</td>\n",
       "      <td>14.0</td>\n",
       "      <td>2020-03-19</td>\n",
       "      <td>2020-03-19</td>\n",
       "      <td>2020-03-19</td>\n",
       "      <td>2020-03-19</td>\n",
       "      <td>2020-03-15</td>\n",
       "      <td>2020-03-15</td>\n",
       "      <td>0.8818</td>\n",
       "    </tr>\n",
       "    <tr>\n",
       "      <th>209</th>\n",
       "      <td>06047</td>\n",
       "      <td>California</td>\n",
       "      <td>37.189224</td>\n",
       "      <td>-120.720904</td>\n",
       "      <td>86</td>\n",
       "      <td>3</td>\n",
       "      <td>0.034884</td>\n",
       "      <td>Merced</td>\n",
       "      <td>274765.0</td>\n",
       "      <td>137662.0</td>\n",
       "      <td>...</td>\n",
       "      <td>2.0</td>\n",
       "      <td>2.0</td>\n",
       "      <td>24.0</td>\n",
       "      <td>2020-03-19</td>\n",
       "      <td>2020-03-19</td>\n",
       "      <td>2020-03-19</td>\n",
       "      <td>2020-03-19</td>\n",
       "      <td>2020-03-15</td>\n",
       "      <td>2020-03-15</td>\n",
       "      <td>0.9717</td>\n",
       "    </tr>\n",
       "    <tr>\n",
       "      <th>210</th>\n",
       "      <td>06049</td>\n",
       "      <td>California</td>\n",
       "      <td>41.589656</td>\n",
       "      <td>-120.724482</td>\n",
       "      <td>0</td>\n",
       "      <td>0</td>\n",
       "      <td>0.000000</td>\n",
       "      <td>Modoc</td>\n",
       "      <td>8777.0</td>\n",
       "      <td>4428.0</td>\n",
       "      <td>...</td>\n",
       "      <td>0.0</td>\n",
       "      <td>2.0</td>\n",
       "      <td>0.0</td>\n",
       "      <td>2020-03-19</td>\n",
       "      <td>2020-03-19</td>\n",
       "      <td>2020-03-19</td>\n",
       "      <td>2020-03-19</td>\n",
       "      <td>2020-03-15</td>\n",
       "      <td>2020-03-15</td>\n",
       "      <td>0.7516</td>\n",
       "    </tr>\n",
       "    <tr>\n",
       "      <th>211</th>\n",
       "      <td>06051</td>\n",
       "      <td>California</td>\n",
       "      <td>37.938993</td>\n",
       "      <td>-118.887241</td>\n",
       "      <td>23</td>\n",
       "      <td>1</td>\n",
       "      <td>0.043478</td>\n",
       "      <td>Mono</td>\n",
       "      <td>14250.0</td>\n",
       "      <td>7483.0</td>\n",
       "      <td>...</td>\n",
       "      <td>0.0</td>\n",
       "      <td>1.0</td>\n",
       "      <td>2.0</td>\n",
       "      <td>2020-03-19</td>\n",
       "      <td>2020-03-19</td>\n",
       "      <td>2020-03-19</td>\n",
       "      <td>2020-03-19</td>\n",
       "      <td>2020-03-15</td>\n",
       "      <td>2020-03-15</td>\n",
       "      <td>0.1408</td>\n",
       "    </tr>\n",
       "    <tr>\n",
       "      <th>212</th>\n",
       "      <td>06053</td>\n",
       "      <td>California</td>\n",
       "      <td>36.218624</td>\n",
       "      <td>-121.241340</td>\n",
       "      <td>119</td>\n",
       "      <td>3</td>\n",
       "      <td>0.025210</td>\n",
       "      <td>Monterey</td>\n",
       "      <td>435594.0</td>\n",
       "      <td>223103.0</td>\n",
       "      <td>...</td>\n",
       "      <td>1.0</td>\n",
       "      <td>4.0</td>\n",
       "      <td>27.0</td>\n",
       "      <td>2020-03-19</td>\n",
       "      <td>2020-03-19</td>\n",
       "      <td>2020-03-19</td>\n",
       "      <td>2020-03-19</td>\n",
       "      <td>2020-03-15</td>\n",
       "      <td>2020-03-15</td>\n",
       "      <td>0.7990</td>\n",
       "    </tr>\n",
       "    <tr>\n",
       "      <th>213</th>\n",
       "      <td>06055</td>\n",
       "      <td>California</td>\n",
       "      <td>38.507358</td>\n",
       "      <td>-122.332839</td>\n",
       "      <td>47</td>\n",
       "      <td>2</td>\n",
       "      <td>0.042553</td>\n",
       "      <td>Napa</td>\n",
       "      <td>139417.0</td>\n",
       "      <td>70203.0</td>\n",
       "      <td>...</td>\n",
       "      <td>1.0</td>\n",
       "      <td>2.0</td>\n",
       "      <td>32.0</td>\n",
       "      <td>2020-03-19</td>\n",
       "      <td>2020-03-19</td>\n",
       "      <td>2020-03-19</td>\n",
       "      <td>2020-03-19</td>\n",
       "      <td>2020-03-15</td>\n",
       "      <td>2020-03-15</td>\n",
       "      <td>0.5051</td>\n",
       "    </tr>\n",
       "    <tr>\n",
       "      <th>214</th>\n",
       "      <td>06057</td>\n",
       "      <td>California</td>\n",
       "      <td>39.303948</td>\n",
       "      <td>-120.762728</td>\n",
       "      <td>36</td>\n",
       "      <td>1</td>\n",
       "      <td>0.027778</td>\n",
       "      <td>Nevada</td>\n",
       "      <td>99696.0</td>\n",
       "      <td>49018.0</td>\n",
       "      <td>...</td>\n",
       "      <td>0.0</td>\n",
       "      <td>2.0</td>\n",
       "      <td>10.0</td>\n",
       "      <td>2020-03-19</td>\n",
       "      <td>2020-03-19</td>\n",
       "      <td>2020-03-19</td>\n",
       "      <td>2020-03-19</td>\n",
       "      <td>2020-03-15</td>\n",
       "      <td>2020-03-15</td>\n",
       "      <td>0.2045</td>\n",
       "    </tr>\n",
       "    <tr>\n",
       "      <th>215</th>\n",
       "      <td>06059</td>\n",
       "      <td>California</td>\n",
       "      <td>33.701475</td>\n",
       "      <td>-117.764600</td>\n",
       "      <td>1556</td>\n",
       "      <td>32</td>\n",
       "      <td>0.020566</td>\n",
       "      <td>Orange</td>\n",
       "      <td>3185968.0</td>\n",
       "      <td>1574674.0</td>\n",
       "      <td>...</td>\n",
       "      <td>8.0</td>\n",
       "      <td>24.0</td>\n",
       "      <td>651.0</td>\n",
       "      <td>2020-03-19</td>\n",
       "      <td>2020-03-19</td>\n",
       "      <td>2020-03-19</td>\n",
       "      <td>2020-03-19</td>\n",
       "      <td>2020-03-15</td>\n",
       "      <td>2020-03-15</td>\n",
       "      <td>0.4191</td>\n",
       "    </tr>\n",
       "    <tr>\n",
       "      <th>216</th>\n",
       "      <td>06061</td>\n",
       "      <td>California</td>\n",
       "      <td>39.061672</td>\n",
       "      <td>-120.724057</td>\n",
       "      <td>131</td>\n",
       "      <td>8</td>\n",
       "      <td>0.061069</td>\n",
       "      <td>Placer</td>\n",
       "      <td>393149.0</td>\n",
       "      <td>188322.0</td>\n",
       "      <td>...</td>\n",
       "      <td>2.0</td>\n",
       "      <td>3.0</td>\n",
       "      <td>70.0</td>\n",
       "      <td>2020-03-19</td>\n",
       "      <td>2020-03-19</td>\n",
       "      <td>2020-03-19</td>\n",
       "      <td>2020-03-19</td>\n",
       "      <td>2020-03-15</td>\n",
       "      <td>2020-03-15</td>\n",
       "      <td>0.1519</td>\n",
       "    </tr>\n",
       "    <tr>\n",
       "      <th>217</th>\n",
       "      <td>06063</td>\n",
       "      <td>California</td>\n",
       "      <td>40.003560</td>\n",
       "      <td>-120.839524</td>\n",
       "      <td>4</td>\n",
       "      <td>0</td>\n",
       "      <td>0.000000</td>\n",
       "      <td>Plumas</td>\n",
       "      <td>18804.0</td>\n",
       "      <td>9350.0</td>\n",
       "      <td>...</td>\n",
       "      <td>0.0</td>\n",
       "      <td>3.0</td>\n",
       "      <td>0.0</td>\n",
       "      <td>2020-03-19</td>\n",
       "      <td>2020-03-19</td>\n",
       "      <td>2020-03-19</td>\n",
       "      <td>2020-03-19</td>\n",
       "      <td>2020-03-15</td>\n",
       "      <td>2020-03-15</td>\n",
       "      <td>0.2653</td>\n",
       "    </tr>\n",
       "    <tr>\n",
       "      <th>218</th>\n",
       "      <td>06065</td>\n",
       "      <td>California</td>\n",
       "      <td>33.743150</td>\n",
       "      <td>-115.993358</td>\n",
       "      <td>2457</td>\n",
       "      <td>69</td>\n",
       "      <td>0.028083</td>\n",
       "      <td>Riverside</td>\n",
       "      <td>2450758.0</td>\n",
       "      <td>1206637.0</td>\n",
       "      <td>...</td>\n",
       "      <td>3.0</td>\n",
       "      <td>16.0</td>\n",
       "      <td>351.0</td>\n",
       "      <td>2020-03-19</td>\n",
       "      <td>2020-03-19</td>\n",
       "      <td>2020-03-19</td>\n",
       "      <td>2020-03-19</td>\n",
       "      <td>2020-03-15</td>\n",
       "      <td>2020-03-15</td>\n",
       "      <td>0.7939</td>\n",
       "    </tr>\n",
       "    <tr>\n",
       "      <th>219</th>\n",
       "      <td>06067</td>\n",
       "      <td>California</td>\n",
       "      <td>38.451068</td>\n",
       "      <td>-121.342537</td>\n",
       "      <td>914</td>\n",
       "      <td>33</td>\n",
       "      <td>0.036105</td>\n",
       "      <td>Sacramento</td>\n",
       "      <td>1540975.0</td>\n",
       "      <td>748058.0</td>\n",
       "      <td>...</td>\n",
       "      <td>6.0</td>\n",
       "      <td>8.0</td>\n",
       "      <td>396.0</td>\n",
       "      <td>2020-03-19</td>\n",
       "      <td>2020-03-19</td>\n",
       "      <td>2020-03-19</td>\n",
       "      <td>2020-03-19</td>\n",
       "      <td>2020-03-15</td>\n",
       "      <td>2020-03-15</td>\n",
       "      <td>0.7338</td>\n",
       "    </tr>\n",
       "    <tr>\n",
       "      <th>220</th>\n",
       "      <td>06069</td>\n",
       "      <td>California</td>\n",
       "      <td>36.603082</td>\n",
       "      <td>-121.069975</td>\n",
       "      <td>44</td>\n",
       "      <td>2</td>\n",
       "      <td>0.045455</td>\n",
       "      <td>San Benito</td>\n",
       "      <td>61537.0</td>\n",
       "      <td>30219.0</td>\n",
       "      <td>...</td>\n",
       "      <td>0.0</td>\n",
       "      <td>1.0</td>\n",
       "      <td>8.0</td>\n",
       "      <td>2020-03-19</td>\n",
       "      <td>2020-03-19</td>\n",
       "      <td>2020-03-19</td>\n",
       "      <td>2020-03-19</td>\n",
       "      <td>2020-03-15</td>\n",
       "      <td>2020-03-15</td>\n",
       "      <td>0.5245</td>\n",
       "    </tr>\n",
       "    <tr>\n",
       "      <th>221</th>\n",
       "      <td>06071</td>\n",
       "      <td>California</td>\n",
       "      <td>34.840603</td>\n",
       "      <td>-116.177469</td>\n",
       "      <td>1219</td>\n",
       "      <td>57</td>\n",
       "      <td>0.046760</td>\n",
       "      <td>San Bernardino</td>\n",
       "      <td>2171603.0</td>\n",
       "      <td>1073581.0</td>\n",
       "      <td>...</td>\n",
       "      <td>2.0</td>\n",
       "      <td>18.0</td>\n",
       "      <td>410.0</td>\n",
       "      <td>2020-03-19</td>\n",
       "      <td>2020-03-19</td>\n",
       "      <td>2020-03-19</td>\n",
       "      <td>2020-03-19</td>\n",
       "      <td>2020-03-15</td>\n",
       "      <td>2020-03-15</td>\n",
       "      <td>0.9010</td>\n",
       "    </tr>\n",
       "    <tr>\n",
       "      <th>222</th>\n",
       "      <td>06073</td>\n",
       "      <td>California</td>\n",
       "      <td>33.034846</td>\n",
       "      <td>-116.736533</td>\n",
       "      <td>2158</td>\n",
       "      <td>70</td>\n",
       "      <td>0.032437</td>\n",
       "      <td>San Diego</td>\n",
       "      <td>3343364.0</td>\n",
       "      <td>1678982.0</td>\n",
       "      <td>...</td>\n",
       "      <td>11.0</td>\n",
       "      <td>15.0</td>\n",
       "      <td>570.0</td>\n",
       "      <td>2020-03-19</td>\n",
       "      <td>2020-03-19</td>\n",
       "      <td>2020-03-19</td>\n",
       "      <td>2020-03-19</td>\n",
       "      <td>2020-03-15</td>\n",
       "      <td>2020-03-15</td>\n",
       "      <td>0.5596</td>\n",
       "    </tr>\n",
       "    <tr>\n",
       "      <th>223</th>\n",
       "      <td>06075</td>\n",
       "      <td>California</td>\n",
       "      <td>37.752151</td>\n",
       "      <td>-122.438567</td>\n",
       "      <td>1137</td>\n",
       "      <td>20</td>\n",
       "      <td>0.017590</td>\n",
       "      <td>San Francisco</td>\n",
       "      <td>883305.0</td>\n",
       "      <td>450678.0</td>\n",
       "      <td>...</td>\n",
       "      <td>6.0</td>\n",
       "      <td>10.0</td>\n",
       "      <td>337.0</td>\n",
       "      <td>2020-03-19</td>\n",
       "      <td>2020-03-19</td>\n",
       "      <td>2020-03-19</td>\n",
       "      <td>2020-03-19</td>\n",
       "      <td>2020-03-15</td>\n",
       "      <td>2020-03-15</td>\n",
       "      <td>0.3911</td>\n",
       "    </tr>\n",
       "    <tr>\n",
       "      <th>224</th>\n",
       "      <td>06077</td>\n",
       "      <td>California</td>\n",
       "      <td>37.934337</td>\n",
       "      <td>-121.273006</td>\n",
       "      <td>400</td>\n",
       "      <td>17</td>\n",
       "      <td>0.042500</td>\n",
       "      <td>San Joaquin</td>\n",
       "      <td>752660.0</td>\n",
       "      <td>371488.0</td>\n",
       "      <td>...</td>\n",
       "      <td>4.0</td>\n",
       "      <td>7.0</td>\n",
       "      <td>121.0</td>\n",
       "      <td>2020-03-19</td>\n",
       "      <td>2020-03-19</td>\n",
       "      <td>2020-03-19</td>\n",
       "      <td>2020-03-19</td>\n",
       "      <td>2020-03-15</td>\n",
       "      <td>2020-03-15</td>\n",
       "      <td>0.8892</td>\n",
       "    </tr>\n",
       "    <tr>\n",
       "      <th>225</th>\n",
       "      <td>06079</td>\n",
       "      <td>California</td>\n",
       "      <td>35.388220</td>\n",
       "      <td>-120.403903</td>\n",
       "      <td>131</td>\n",
       "      <td>1</td>\n",
       "      <td>0.007634</td>\n",
       "      <td>San Luis Obispo</td>\n",
       "      <td>284010.0</td>\n",
       "      <td>143708.0</td>\n",
       "      <td>...</td>\n",
       "      <td>0.0</td>\n",
       "      <td>3.0</td>\n",
       "      <td>46.0</td>\n",
       "      <td>2020-03-19</td>\n",
       "      <td>2020-03-19</td>\n",
       "      <td>2020-03-19</td>\n",
       "      <td>2020-03-19</td>\n",
       "      <td>2020-03-15</td>\n",
       "      <td>2020-03-15</td>\n",
       "      <td>0.3739</td>\n",
       "    </tr>\n",
       "    <tr>\n",
       "      <th>226</th>\n",
       "      <td>06081</td>\n",
       "      <td>California</td>\n",
       "      <td>37.422881</td>\n",
       "      <td>-122.327555</td>\n",
       "      <td>838</td>\n",
       "      <td>28</td>\n",
       "      <td>0.033413</td>\n",
       "      <td>San Mateo</td>\n",
       "      <td>769545.0</td>\n",
       "      <td>380445.0</td>\n",
       "      <td>...</td>\n",
       "      <td>5.0</td>\n",
       "      <td>7.0</td>\n",
       "      <td>131.0</td>\n",
       "      <td>2020-03-19</td>\n",
       "      <td>2020-03-19</td>\n",
       "      <td>2020-03-19</td>\n",
       "      <td>2020-03-19</td>\n",
       "      <td>2020-03-15</td>\n",
       "      <td>2020-03-15</td>\n",
       "      <td>0.2650</td>\n",
       "    </tr>\n",
       "    <tr>\n",
       "      <th>227</th>\n",
       "      <td>06083</td>\n",
       "      <td>California</td>\n",
       "      <td>34.653295</td>\n",
       "      <td>-120.018849</td>\n",
       "      <td>373</td>\n",
       "      <td>3</td>\n",
       "      <td>0.008043</td>\n",
       "      <td>Santa Barbara</td>\n",
       "      <td>446527.0</td>\n",
       "      <td>224356.0</td>\n",
       "      <td>...</td>\n",
       "      <td>0.0</td>\n",
       "      <td>5.0</td>\n",
       "      <td>82.0</td>\n",
       "      <td>2020-03-19</td>\n",
       "      <td>2020-03-19</td>\n",
       "      <td>2020-03-19</td>\n",
       "      <td>2020-03-19</td>\n",
       "      <td>2020-03-15</td>\n",
       "      <td>2020-03-15</td>\n",
       "      <td>0.7111</td>\n",
       "    </tr>\n",
       "    <tr>\n",
       "      <th>228</th>\n",
       "      <td>06085</td>\n",
       "      <td>California</td>\n",
       "      <td>37.231049</td>\n",
       "      <td>-121.697046</td>\n",
       "      <td>1870</td>\n",
       "      <td>73</td>\n",
       "      <td>0.039037</td>\n",
       "      <td>Santa Clara</td>\n",
       "      <td>1937570.0</td>\n",
       "      <td>979402.0</td>\n",
       "      <td>...</td>\n",
       "      <td>3.0</td>\n",
       "      <td>9.0</td>\n",
       "      <td>313.0</td>\n",
       "      <td>2020-03-19</td>\n",
       "      <td>2020-03-19</td>\n",
       "      <td>2020-03-19</td>\n",
       "      <td>2020-03-19</td>\n",
       "      <td>2020-03-15</td>\n",
       "      <td>2020-03-15</td>\n",
       "      <td>0.3557</td>\n",
       "    </tr>\n",
       "    <tr>\n",
       "      <th>229</th>\n",
       "      <td>06087</td>\n",
       "      <td>California</td>\n",
       "      <td>37.055803</td>\n",
       "      <td>-122.006652</td>\n",
       "      <td>101</td>\n",
       "      <td>2</td>\n",
       "      <td>0.019802</td>\n",
       "      <td>Santa Cruz</td>\n",
       "      <td>274255.0</td>\n",
       "      <td>136784.0</td>\n",
       "      <td>...</td>\n",
       "      <td>1.0</td>\n",
       "      <td>3.0</td>\n",
       "      <td>22.0</td>\n",
       "      <td>2020-03-19</td>\n",
       "      <td>2020-03-19</td>\n",
       "      <td>2020-03-19</td>\n",
       "      <td>2020-03-19</td>\n",
       "      <td>2020-03-15</td>\n",
       "      <td>2020-03-15</td>\n",
       "      <td>0.5430</td>\n",
       "    </tr>\n",
       "    <tr>\n",
       "      <th>230</th>\n",
       "      <td>06089</td>\n",
       "      <td>California</td>\n",
       "      <td>40.763914</td>\n",
       "      <td>-122.039688</td>\n",
       "      <td>26</td>\n",
       "      <td>3</td>\n",
       "      <td>0.115385</td>\n",
       "      <td>Shasta</td>\n",
       "      <td>180040.0</td>\n",
       "      <td>88412.0</td>\n",
       "      <td>...</td>\n",
       "      <td>0.0</td>\n",
       "      <td>4.0</td>\n",
       "      <td>81.0</td>\n",
       "      <td>2020-03-19</td>\n",
       "      <td>2020-03-19</td>\n",
       "      <td>2020-03-19</td>\n",
       "      <td>2020-03-19</td>\n",
       "      <td>2020-03-15</td>\n",
       "      <td>2020-03-15</td>\n",
       "      <td>0.7022</td>\n",
       "    </tr>\n",
       "    <tr>\n",
       "      <th>231</th>\n",
       "      <td>06091</td>\n",
       "      <td>California</td>\n",
       "      <td>39.577135</td>\n",
       "      <td>-120.520070</td>\n",
       "      <td>0</td>\n",
       "      <td>0</td>\n",
       "      <td>0.000000</td>\n",
       "      <td>Sierra</td>\n",
       "      <td>2987.0</td>\n",
       "      <td>1520.0</td>\n",
       "      <td>...</td>\n",
       "      <td>0.0</td>\n",
       "      <td>0.0</td>\n",
       "      <td>0.0</td>\n",
       "      <td>2020-03-19</td>\n",
       "      <td>2020-03-19</td>\n",
       "      <td>2020-03-19</td>\n",
       "      <td>2020-03-19</td>\n",
       "      <td>2020-03-15</td>\n",
       "      <td>2020-03-15</td>\n",
       "      <td>0.0452</td>\n",
       "    </tr>\n",
       "    <tr>\n",
       "      <th>232</th>\n",
       "      <td>06093</td>\n",
       "      <td>California</td>\n",
       "      <td>41.591989</td>\n",
       "      <td>-122.540743</td>\n",
       "      <td>5</td>\n",
       "      <td>0</td>\n",
       "      <td>0.000000</td>\n",
       "      <td>Siskiyou</td>\n",
       "      <td>43724.0</td>\n",
       "      <td>21820.0</td>\n",
       "      <td>...</td>\n",
       "      <td>0.0</td>\n",
       "      <td>2.0</td>\n",
       "      <td>4.0</td>\n",
       "      <td>2020-03-19</td>\n",
       "      <td>2020-03-19</td>\n",
       "      <td>2020-03-19</td>\n",
       "      <td>2020-03-19</td>\n",
       "      <td>2020-03-15</td>\n",
       "      <td>2020-03-15</td>\n",
       "      <td>0.7223</td>\n",
       "    </tr>\n",
       "    <tr>\n",
       "      <th>233</th>\n",
       "      <td>06095</td>\n",
       "      <td>California</td>\n",
       "      <td>38.268274</td>\n",
       "      <td>-121.935711</td>\n",
       "      <td>169</td>\n",
       "      <td>2</td>\n",
       "      <td>0.011834</td>\n",
       "      <td>Solano</td>\n",
       "      <td>446610.0</td>\n",
       "      <td>221394.0</td>\n",
       "      <td>...</td>\n",
       "      <td>4.0</td>\n",
       "      <td>4.0</td>\n",
       "      <td>92.0</td>\n",
       "      <td>2020-03-19</td>\n",
       "      <td>2020-03-19</td>\n",
       "      <td>2020-03-19</td>\n",
       "      <td>2020-03-19</td>\n",
       "      <td>2020-03-15</td>\n",
       "      <td>2020-03-15</td>\n",
       "      <td>0.5911</td>\n",
       "    </tr>\n",
       "    <tr>\n",
       "      <th>234</th>\n",
       "      <td>06097</td>\n",
       "      <td>California</td>\n",
       "      <td>38.527464</td>\n",
       "      <td>-122.886251</td>\n",
       "      <td>180</td>\n",
       "      <td>2</td>\n",
       "      <td>0.011111</td>\n",
       "      <td>Sonoma</td>\n",
       "      <td>499942.0</td>\n",
       "      <td>246665.0</td>\n",
       "      <td>...</td>\n",
       "      <td>2.0</td>\n",
       "      <td>8.0</td>\n",
       "      <td>82.0</td>\n",
       "      <td>2020-03-19</td>\n",
       "      <td>2020-03-19</td>\n",
       "      <td>2020-03-19</td>\n",
       "      <td>2020-03-19</td>\n",
       "      <td>2020-03-15</td>\n",
       "      <td>2020-03-15</td>\n",
       "      <td>0.4035</td>\n",
       "    </tr>\n",
       "    <tr>\n",
       "      <th>235</th>\n",
       "      <td>06099</td>\n",
       "      <td>California</td>\n",
       "      <td>37.558625</td>\n",
       "      <td>-120.997072</td>\n",
       "      <td>206</td>\n",
       "      <td>4</td>\n",
       "      <td>0.019417</td>\n",
       "      <td>Stanislaus</td>\n",
       "      <td>549815.0</td>\n",
       "      <td>271076.0</td>\n",
       "      <td>...</td>\n",
       "      <td>1.0</td>\n",
       "      <td>5.0</td>\n",
       "      <td>88.0</td>\n",
       "      <td>2020-03-19</td>\n",
       "      <td>2020-03-19</td>\n",
       "      <td>2020-03-19</td>\n",
       "      <td>2020-03-19</td>\n",
       "      <td>2020-03-15</td>\n",
       "      <td>2020-03-15</td>\n",
       "      <td>0.8675</td>\n",
       "    </tr>\n",
       "    <tr>\n",
       "      <th>236</th>\n",
       "      <td>06101</td>\n",
       "      <td>California</td>\n",
       "      <td>39.034175</td>\n",
       "      <td>-121.694590</td>\n",
       "      <td>25</td>\n",
       "      <td>2</td>\n",
       "      <td>0.080000</td>\n",
       "      <td>Sutter</td>\n",
       "      <td>96807.0</td>\n",
       "      <td>48130.0</td>\n",
       "      <td>...</td>\n",
       "      <td>1.0</td>\n",
       "      <td>1.0</td>\n",
       "      <td>0.0</td>\n",
       "      <td>2020-03-19</td>\n",
       "      <td>2020-03-19</td>\n",
       "      <td>2020-03-19</td>\n",
       "      <td>2020-03-19</td>\n",
       "      <td>2020-03-15</td>\n",
       "      <td>2020-03-15</td>\n",
       "      <td>0.8822</td>\n",
       "    </tr>\n",
       "    <tr>\n",
       "      <th>237</th>\n",
       "      <td>06103</td>\n",
       "      <td>California</td>\n",
       "      <td>40.125709</td>\n",
       "      <td>-122.237017</td>\n",
       "      <td>1</td>\n",
       "      <td>1</td>\n",
       "      <td>1.000000</td>\n",
       "      <td>Tehama</td>\n",
       "      <td>63916.0</td>\n",
       "      <td>31692.0</td>\n",
       "      <td>...</td>\n",
       "      <td>0.0</td>\n",
       "      <td>1.0</td>\n",
       "      <td>8.0</td>\n",
       "      <td>2020-03-19</td>\n",
       "      <td>2020-03-19</td>\n",
       "      <td>2020-03-19</td>\n",
       "      <td>2020-03-19</td>\n",
       "      <td>2020-03-15</td>\n",
       "      <td>2020-03-15</td>\n",
       "      <td>0.9624</td>\n",
       "    </tr>\n",
       "    <tr>\n",
       "      <th>238</th>\n",
       "      <td>06105</td>\n",
       "      <td>California</td>\n",
       "      <td>40.649177</td>\n",
       "      <td>-123.114713</td>\n",
       "      <td>0</td>\n",
       "      <td>0</td>\n",
       "      <td>0.000000</td>\n",
       "      <td>Trinity</td>\n",
       "      <td>12535.0</td>\n",
       "      <td>6550.0</td>\n",
       "      <td>...</td>\n",
       "      <td>0.0</td>\n",
       "      <td>1.0</td>\n",
       "      <td>0.0</td>\n",
       "      <td>2020-03-19</td>\n",
       "      <td>2020-03-19</td>\n",
       "      <td>2020-03-19</td>\n",
       "      <td>2020-03-19</td>\n",
       "      <td>2020-03-15</td>\n",
       "      <td>2020-03-15</td>\n",
       "      <td>0.7411</td>\n",
       "    </tr>\n",
       "    <tr>\n",
       "      <th>239</th>\n",
       "      <td>06107</td>\n",
       "      <td>California</td>\n",
       "      <td>36.220266</td>\n",
       "      <td>-118.802020</td>\n",
       "      <td>397</td>\n",
       "      <td>17</td>\n",
       "      <td>0.042821</td>\n",
       "      <td>Tulare</td>\n",
       "      <td>465861.0</td>\n",
       "      <td>232476.0</td>\n",
       "      <td>...</td>\n",
       "      <td>0.0</td>\n",
       "      <td>4.0</td>\n",
       "      <td>51.0</td>\n",
       "      <td>2020-03-19</td>\n",
       "      <td>2020-03-19</td>\n",
       "      <td>2020-03-19</td>\n",
       "      <td>2020-03-19</td>\n",
       "      <td>2020-03-15</td>\n",
       "      <td>2020-03-15</td>\n",
       "      <td>0.9417</td>\n",
       "    </tr>\n",
       "    <tr>\n",
       "      <th>240</th>\n",
       "      <td>06109</td>\n",
       "      <td>California</td>\n",
       "      <td>38.026440</td>\n",
       "      <td>-119.952509</td>\n",
       "      <td>2</td>\n",
       "      <td>0</td>\n",
       "      <td>0.000000</td>\n",
       "      <td>Tuolumne</td>\n",
       "      <td>54539.0</td>\n",
       "      <td>28166.0</td>\n",
       "      <td>...</td>\n",
       "      <td>1.0</td>\n",
       "      <td>1.0</td>\n",
       "      <td>6.0</td>\n",
       "      <td>2020-03-19</td>\n",
       "      <td>2020-03-19</td>\n",
       "      <td>2020-03-19</td>\n",
       "      <td>2020-03-19</td>\n",
       "      <td>2020-03-15</td>\n",
       "      <td>2020-03-15</td>\n",
       "      <td>0.4688</td>\n",
       "    </tr>\n",
       "    <tr>\n",
       "      <th>241</th>\n",
       "      <td>06111</td>\n",
       "      <td>California</td>\n",
       "      <td>34.444657</td>\n",
       "      <td>-119.091061</td>\n",
       "      <td>396</td>\n",
       "      <td>13</td>\n",
       "      <td>0.032828</td>\n",
       "      <td>Ventura</td>\n",
       "      <td>850967.0</td>\n",
       "      <td>422688.0</td>\n",
       "      <td>...</td>\n",
       "      <td>0.0</td>\n",
       "      <td>7.0</td>\n",
       "      <td>139.0</td>\n",
       "      <td>2020-03-19</td>\n",
       "      <td>2020-03-19</td>\n",
       "      <td>2020-03-19</td>\n",
       "      <td>2020-03-19</td>\n",
       "      <td>2020-03-15</td>\n",
       "      <td>2020-03-15</td>\n",
       "      <td>0.4828</td>\n",
       "    </tr>\n",
       "    <tr>\n",
       "      <th>242</th>\n",
       "      <td>06113</td>\n",
       "      <td>California</td>\n",
       "      <td>38.682789</td>\n",
       "      <td>-121.901829</td>\n",
       "      <td>126</td>\n",
       "      <td>8</td>\n",
       "      <td>0.063492</td>\n",
       "      <td>Yolo</td>\n",
       "      <td>220408.0</td>\n",
       "      <td>106481.0</td>\n",
       "      <td>...</td>\n",
       "      <td>1.0</td>\n",
       "      <td>2.0</td>\n",
       "      <td>14.0</td>\n",
       "      <td>2020-03-19</td>\n",
       "      <td>2020-03-19</td>\n",
       "      <td>2020-03-19</td>\n",
       "      <td>2020-03-19</td>\n",
       "      <td>2020-03-15</td>\n",
       "      <td>2020-03-15</td>\n",
       "      <td>0.6768</td>\n",
       "    </tr>\n",
       "    <tr>\n",
       "      <th>243</th>\n",
       "      <td>06115</td>\n",
       "      <td>California</td>\n",
       "      <td>39.262559</td>\n",
       "      <td>-121.353564</td>\n",
       "      <td>15</td>\n",
       "      <td>1</td>\n",
       "      <td>0.066667</td>\n",
       "      <td>Yuba</td>\n",
       "      <td>78041.0</td>\n",
       "      <td>38992.0</td>\n",
       "      <td>...</td>\n",
       "      <td>0.0</td>\n",
       "      <td>1.0</td>\n",
       "      <td>24.0</td>\n",
       "      <td>2020-03-19</td>\n",
       "      <td>2020-03-19</td>\n",
       "      <td>2020-03-19</td>\n",
       "      <td>2020-03-19</td>\n",
       "      <td>2020-03-15</td>\n",
       "      <td>2020-03-15</td>\n",
       "      <td>0.9420</td>\n",
       "    </tr>\n",
       "  </tbody>\n",
       "</table>\n",
       "<p>58 rows × 32 columns</p>\n",
       "</div>"
      ],
      "text/plain": [
       "      FIPS Province_State        Lat        Long  total_confirmed  \\\n",
       "186  06001     California  37.646294 -121.892927             1114   \n",
       "187  06003     California  38.596786 -119.822359                2   \n",
       "188  06005     California  38.445831 -120.656960                7   \n",
       "189  06007     California  39.667278 -121.600525               16   \n",
       "190  06009     California  38.205371 -120.552913               12   \n",
       "191  06011     California  39.178820 -122.233173                3   \n",
       "192  06013     California  37.919235 -121.928953              685   \n",
       "193  06015     California  41.742283 -123.897406                2   \n",
       "194  06017     California  38.779660 -120.523317               36   \n",
       "195  06019     California  36.757339 -119.646695              311   \n",
       "196  06021     California  39.598759 -122.393845                4   \n",
       "197  06023     California  40.699230 -123.876044               52   \n",
       "198  06025     California  33.039308 -115.366904              155   \n",
       "199  06027     California  36.511121 -117.411198               18   \n",
       "200  06029     California  35.343294 -118.727780              610   \n",
       "201  06031     California  36.074091 -119.815997               20   \n",
       "202  06033     California  39.101243 -122.753624                6   \n",
       "203  06035     California  40.673113 -120.593510                0   \n",
       "204  06037     California  34.308284 -118.228241            12021   \n",
       "205  06039     California  37.215140 -119.766559               33   \n",
       "206  06041     California  38.071225 -122.721063              187   \n",
       "207  06043     California  37.579786 -119.907333                0   \n",
       "208  06045     California  39.438119 -123.391131                5   \n",
       "209  06047     California  37.189224 -120.720904               86   \n",
       "210  06049     California  41.589656 -120.724482                0   \n",
       "211  06051     California  37.938993 -118.887241               23   \n",
       "212  06053     California  36.218624 -121.241340              119   \n",
       "213  06055     California  38.507358 -122.332839               47   \n",
       "214  06057     California  39.303948 -120.762728               36   \n",
       "215  06059     California  33.701475 -117.764600             1556   \n",
       "216  06061     California  39.061672 -120.724057              131   \n",
       "217  06063     California  40.003560 -120.839524                4   \n",
       "218  06065     California  33.743150 -115.993358             2457   \n",
       "219  06067     California  38.451068 -121.342537              914   \n",
       "220  06069     California  36.603082 -121.069975               44   \n",
       "221  06071     California  34.840603 -116.177469             1219   \n",
       "222  06073     California  33.034846 -116.736533             2158   \n",
       "223  06075     California  37.752151 -122.438567             1137   \n",
       "224  06077     California  37.934337 -121.273006              400   \n",
       "225  06079     California  35.388220 -120.403903              131   \n",
       "226  06081     California  37.422881 -122.327555              838   \n",
       "227  06083     California  34.653295 -120.018849              373   \n",
       "228  06085     California  37.231049 -121.697046             1870   \n",
       "229  06087     California  37.055803 -122.006652              101   \n",
       "230  06089     California  40.763914 -122.039688               26   \n",
       "231  06091     California  39.577135 -120.520070                0   \n",
       "232  06093     California  41.591989 -122.540743                5   \n",
       "233  06095     California  38.268274 -121.935711              169   \n",
       "234  06097     California  38.527464 -122.886251              180   \n",
       "235  06099     California  37.558625 -120.997072              206   \n",
       "236  06101     California  39.034175 -121.694590               25   \n",
       "237  06103     California  40.125709 -122.237017                1   \n",
       "238  06105     California  40.649177 -123.114713                0   \n",
       "239  06107     California  36.220266 -118.802020              397   \n",
       "240  06109     California  38.026440 -119.952509                2   \n",
       "241  06111     California  34.444657 -119.091061              396   \n",
       "242  06113     California  38.682789 -121.901829              126   \n",
       "243  06115     California  39.262559 -121.353564               15   \n",
       "\n",
       "     total_deaths  mortality       CountyName  PopulationEstimate2018  \\\n",
       "186            41   0.036804          Alameda               1666753.0   \n",
       "187             0   0.000000           Alpine                  1101.0   \n",
       "188             0   0.000000           Amador                 39383.0   \n",
       "189             0   0.000000            Butte                231256.0   \n",
       "190             0   0.000000        Calaveras                 45602.0   \n",
       "191             0   0.000000           Colusa                 21627.0   \n",
       "192            19   0.027737     Contra Costa               1150215.0   \n",
       "193             0   0.000000        Del Norte                 27828.0   \n",
       "194             0   0.000000        El Dorado                190678.0   \n",
       "195             7   0.022508           Fresno                994400.0   \n",
       "196             0   0.000000            Glenn                 28047.0   \n",
       "197             0   0.000000         Humboldt                136373.0   \n",
       "198             3   0.019355         Imperial                181827.0   \n",
       "199             0   0.000000             Inyo                 17987.0   \n",
       "200             3   0.004918             Kern                896764.0   \n",
       "201             1   0.050000            Kings                151366.0   \n",
       "202             0   0.000000             Lake                 64382.0   \n",
       "203             0   0.000000           Lassen                 30802.0   \n",
       "204           576   0.047916      Los Angeles              10105518.0   \n",
       "205             2   0.060606           Madera                157672.0   \n",
       "206            10   0.053476            Marin                259666.0   \n",
       "207             0   0.000000         Mariposa                 17471.0   \n",
       "208             0   0.000000        Mendocino                 87606.0   \n",
       "209             3   0.034884           Merced                274765.0   \n",
       "210             0   0.000000            Modoc                  8777.0   \n",
       "211             1   0.043478             Mono                 14250.0   \n",
       "212             3   0.025210         Monterey                435594.0   \n",
       "213             2   0.042553             Napa                139417.0   \n",
       "214             1   0.027778           Nevada                 99696.0   \n",
       "215            32   0.020566           Orange               3185968.0   \n",
       "216             8   0.061069           Placer                393149.0   \n",
       "217             0   0.000000           Plumas                 18804.0   \n",
       "218            69   0.028083        Riverside               2450758.0   \n",
       "219            33   0.036105       Sacramento               1540975.0   \n",
       "220             2   0.045455       San Benito                 61537.0   \n",
       "221            57   0.046760   San Bernardino               2171603.0   \n",
       "222            70   0.032437        San Diego               3343364.0   \n",
       "223            20   0.017590    San Francisco                883305.0   \n",
       "224            17   0.042500      San Joaquin                752660.0   \n",
       "225             1   0.007634  San Luis Obispo                284010.0   \n",
       "226            28   0.033413        San Mateo                769545.0   \n",
       "227             3   0.008043    Santa Barbara                446527.0   \n",
       "228            73   0.039037      Santa Clara               1937570.0   \n",
       "229             2   0.019802       Santa Cruz                274255.0   \n",
       "230             3   0.115385           Shasta                180040.0   \n",
       "231             0   0.000000           Sierra                  2987.0   \n",
       "232             0   0.000000         Siskiyou                 43724.0   \n",
       "233             2   0.011834           Solano                446610.0   \n",
       "234             2   0.011111           Sonoma                499942.0   \n",
       "235             4   0.019417       Stanislaus                549815.0   \n",
       "236             2   0.080000           Sutter                 96807.0   \n",
       "237             1   1.000000           Tehama                 63916.0   \n",
       "238             0   0.000000          Trinity                 12535.0   \n",
       "239            17   0.042821           Tulare                465861.0   \n",
       "240             0   0.000000         Tuolumne                 54539.0   \n",
       "241            13   0.032828          Ventura                850967.0   \n",
       "242             8   0.063492             Yolo                220408.0   \n",
       "243             1   0.066667             Yuba                 78041.0   \n",
       "\n",
       "     PopTotalMale2017  ...  #HospParticipatinginNetwork2017  #Hospitals  \\\n",
       "186          817903.0  ...                              6.0        12.0   \n",
       "187             610.0  ...                              0.0         0.0   \n",
       "188           20839.0  ...                              1.0         1.0   \n",
       "189          113398.0  ...                              0.0         4.0   \n",
       "190           22754.0  ...                              0.0         1.0   \n",
       "191           11156.0  ...                              0.0         1.0   \n",
       "192          560863.0  ...                              5.0         7.0   \n",
       "193           14784.0  ...                              1.0         1.0   \n",
       "194           94342.0  ...                              0.0         2.0   \n",
       "195          493547.0  ...                              2.0         7.0   \n",
       "196           14235.0  ...                              0.0         1.0   \n",
       "197           68119.0  ...                              0.0         4.0   \n",
       "198           93743.0  ...                              0.0         2.0   \n",
       "199            9077.0  ...                              0.0         2.0   \n",
       "200          457994.0  ...                              0.0        10.0   \n",
       "201           82356.0  ...                              0.0         1.0   \n",
       "202           31990.0  ...                              1.0         2.0   \n",
       "203           19474.0  ...                              1.0         1.0   \n",
       "204         5009834.0  ...                             22.0        76.0   \n",
       "205           75711.0  ...                              0.0         1.0   \n",
       "206          127495.0  ...                              2.0         3.0   \n",
       "207            8975.0  ...                              0.0         1.0   \n",
       "208           43711.0  ...                              1.0         3.0   \n",
       "209          137662.0  ...                              2.0         2.0   \n",
       "210            4428.0  ...                              0.0         2.0   \n",
       "211            7483.0  ...                              0.0         1.0   \n",
       "212          223103.0  ...                              1.0         4.0   \n",
       "213           70203.0  ...                              1.0         2.0   \n",
       "214           49018.0  ...                              0.0         2.0   \n",
       "215         1574674.0  ...                              8.0        24.0   \n",
       "216          188322.0  ...                              2.0         3.0   \n",
       "217            9350.0  ...                              0.0         3.0   \n",
       "218         1206637.0  ...                              3.0        16.0   \n",
       "219          748058.0  ...                              6.0         8.0   \n",
       "220           30219.0  ...                              0.0         1.0   \n",
       "221         1073581.0  ...                              2.0        18.0   \n",
       "222         1678982.0  ...                             11.0        15.0   \n",
       "223          450678.0  ...                              6.0        10.0   \n",
       "224          371488.0  ...                              4.0         7.0   \n",
       "225          143708.0  ...                              0.0         3.0   \n",
       "226          380445.0  ...                              5.0         7.0   \n",
       "227          224356.0  ...                              0.0         5.0   \n",
       "228          979402.0  ...                              3.0         9.0   \n",
       "229          136784.0  ...                              1.0         3.0   \n",
       "230           88412.0  ...                              0.0         4.0   \n",
       "231            1520.0  ...                              0.0         0.0   \n",
       "232           21820.0  ...                              0.0         2.0   \n",
       "233          221394.0  ...                              4.0         4.0   \n",
       "234          246665.0  ...                              2.0         8.0   \n",
       "235          271076.0  ...                              1.0         5.0   \n",
       "236           48130.0  ...                              1.0         1.0   \n",
       "237           31692.0  ...                              0.0         1.0   \n",
       "238            6550.0  ...                              0.0         1.0   \n",
       "239          232476.0  ...                              0.0         4.0   \n",
       "240           28166.0  ...                              1.0         1.0   \n",
       "241          422688.0  ...                              0.0         7.0   \n",
       "242          106481.0  ...                              1.0         2.0   \n",
       "243           38992.0  ...                              0.0         1.0   \n",
       "\n",
       "     #ICU_beds  stay at home  >50 gatherings  >500 gatherings  public schools  \\\n",
       "186      282.0    2020-03-19      2020-03-19       2020-03-19      2020-03-19   \n",
       "187        0.0    2020-03-19      2020-03-19       2020-03-19      2020-03-19   \n",
       "188        6.0    2020-03-19      2020-03-19       2020-03-19      2020-03-19   \n",
       "189       43.0    2020-03-19      2020-03-19       2020-03-19      2020-03-19   \n",
       "190        0.0    2020-03-19      2020-03-19       2020-03-19      2020-03-19   \n",
       "191        0.0    2020-03-19      2020-03-19       2020-03-19      2020-03-19   \n",
       "192      163.0    2020-03-19      2020-03-19       2020-03-19      2020-03-19   \n",
       "193        6.0    2020-03-19      2020-03-19       2020-03-19      2020-03-19   \n",
       "194       28.0    2020-03-19      2020-03-19       2020-03-19      2020-03-19   \n",
       "195      164.0    2020-03-19      2020-03-19       2020-03-19      2020-03-19   \n",
       "196        0.0    2020-03-19      2020-03-19       2020-03-19      2020-03-19   \n",
       "197       32.0    2020-03-19      2020-03-19       2020-03-19      2020-03-19   \n",
       "198       28.0    2020-03-19      2020-03-19       2020-03-19      2020-03-19   \n",
       "199        4.0    2020-03-19      2020-03-19       2020-03-19      2020-03-19   \n",
       "200      144.0    2020-03-19      2020-03-19       2020-03-19      2020-03-19   \n",
       "201       22.0    2020-03-19      2020-03-19       2020-03-19      2020-03-19   \n",
       "202        8.0    2020-03-19      2020-03-19       2020-03-19      2020-03-19   \n",
       "203        0.0    2020-03-19      2020-03-19       2020-03-19      2020-03-19   \n",
       "204     2126.0    2020-03-19      2020-03-19       2020-03-19      2020-03-19   \n",
       "205       10.0    2020-03-19      2020-03-19       2020-03-19      2020-03-19   \n",
       "206       66.0    2020-03-19      2020-03-19       2020-03-19      2020-03-19   \n",
       "207        0.0    2020-03-19      2020-03-19       2020-03-19      2020-03-19   \n",
       "208       14.0    2020-03-19      2020-03-19       2020-03-19      2020-03-19   \n",
       "209       24.0    2020-03-19      2020-03-19       2020-03-19      2020-03-19   \n",
       "210        0.0    2020-03-19      2020-03-19       2020-03-19      2020-03-19   \n",
       "211        2.0    2020-03-19      2020-03-19       2020-03-19      2020-03-19   \n",
       "212       27.0    2020-03-19      2020-03-19       2020-03-19      2020-03-19   \n",
       "213       32.0    2020-03-19      2020-03-19       2020-03-19      2020-03-19   \n",
       "214       10.0    2020-03-19      2020-03-19       2020-03-19      2020-03-19   \n",
       "215      651.0    2020-03-19      2020-03-19       2020-03-19      2020-03-19   \n",
       "216       70.0    2020-03-19      2020-03-19       2020-03-19      2020-03-19   \n",
       "217        0.0    2020-03-19      2020-03-19       2020-03-19      2020-03-19   \n",
       "218      351.0    2020-03-19      2020-03-19       2020-03-19      2020-03-19   \n",
       "219      396.0    2020-03-19      2020-03-19       2020-03-19      2020-03-19   \n",
       "220        8.0    2020-03-19      2020-03-19       2020-03-19      2020-03-19   \n",
       "221      410.0    2020-03-19      2020-03-19       2020-03-19      2020-03-19   \n",
       "222      570.0    2020-03-19      2020-03-19       2020-03-19      2020-03-19   \n",
       "223      337.0    2020-03-19      2020-03-19       2020-03-19      2020-03-19   \n",
       "224      121.0    2020-03-19      2020-03-19       2020-03-19      2020-03-19   \n",
       "225       46.0    2020-03-19      2020-03-19       2020-03-19      2020-03-19   \n",
       "226      131.0    2020-03-19      2020-03-19       2020-03-19      2020-03-19   \n",
       "227       82.0    2020-03-19      2020-03-19       2020-03-19      2020-03-19   \n",
       "228      313.0    2020-03-19      2020-03-19       2020-03-19      2020-03-19   \n",
       "229       22.0    2020-03-19      2020-03-19       2020-03-19      2020-03-19   \n",
       "230       81.0    2020-03-19      2020-03-19       2020-03-19      2020-03-19   \n",
       "231        0.0    2020-03-19      2020-03-19       2020-03-19      2020-03-19   \n",
       "232        4.0    2020-03-19      2020-03-19       2020-03-19      2020-03-19   \n",
       "233       92.0    2020-03-19      2020-03-19       2020-03-19      2020-03-19   \n",
       "234       82.0    2020-03-19      2020-03-19       2020-03-19      2020-03-19   \n",
       "235       88.0    2020-03-19      2020-03-19       2020-03-19      2020-03-19   \n",
       "236        0.0    2020-03-19      2020-03-19       2020-03-19      2020-03-19   \n",
       "237        8.0    2020-03-19      2020-03-19       2020-03-19      2020-03-19   \n",
       "238        0.0    2020-03-19      2020-03-19       2020-03-19      2020-03-19   \n",
       "239       51.0    2020-03-19      2020-03-19       2020-03-19      2020-03-19   \n",
       "240        6.0    2020-03-19      2020-03-19       2020-03-19      2020-03-19   \n",
       "241      139.0    2020-03-19      2020-03-19       2020-03-19      2020-03-19   \n",
       "242       14.0    2020-03-19      2020-03-19       2020-03-19      2020-03-19   \n",
       "243       24.0    2020-03-19      2020-03-19       2020-03-19      2020-03-19   \n",
       "\n",
       "     restaurant dine-in  entertainment/gym  SVIPercentile  \n",
       "186          2020-03-15         2020-03-15         0.4701  \n",
       "187          2020-03-15         2020-03-15         0.7287  \n",
       "188          2020-03-15         2020-03-15         0.5334  \n",
       "189          2020-03-15         2020-03-15         0.8064  \n",
       "190          2020-03-15         2020-03-15         0.2350  \n",
       "191          2020-03-15         2020-03-15         0.7436  \n",
       "192          2020-03-15         2020-03-15         0.4057  \n",
       "193          2020-03-15         2020-03-15         0.9713  \n",
       "194          2020-03-15         2020-03-15         0.1838  \n",
       "195          2020-03-15         2020-03-15         0.9611  \n",
       "196          2020-03-15         2020-03-15         0.8895  \n",
       "197          2020-03-15         2020-03-15         0.7605  \n",
       "198          2020-03-15         2020-03-15         0.9978  \n",
       "199          2020-03-15         2020-03-15         0.5701  \n",
       "200          2020-03-15         2020-03-15         0.9659  \n",
       "201          2020-03-15         2020-03-15         0.9707  \n",
       "202          2020-03-15         2020-03-15         0.9178  \n",
       "203          2020-03-15         2020-03-15         0.5997  \n",
       "204          2020-03-15         2020-03-15         0.7682  \n",
       "205          2020-03-15         2020-03-15         0.9541  \n",
       "206          2020-03-15         2020-03-15         0.2701  \n",
       "207          2020-03-15         2020-03-15         0.5293  \n",
       "208          2020-03-15         2020-03-15         0.8818  \n",
       "209          2020-03-15         2020-03-15         0.9717  \n",
       "210          2020-03-15         2020-03-15         0.7516  \n",
       "211          2020-03-15         2020-03-15         0.1408  \n",
       "212          2020-03-15         2020-03-15         0.7990  \n",
       "213          2020-03-15         2020-03-15         0.5051  \n",
       "214          2020-03-15         2020-03-15         0.2045  \n",
       "215          2020-03-15         2020-03-15         0.4191  \n",
       "216          2020-03-15         2020-03-15         0.1519  \n",
       "217          2020-03-15         2020-03-15         0.2653  \n",
       "218          2020-03-15         2020-03-15         0.7939  \n",
       "219          2020-03-15         2020-03-15         0.7338  \n",
       "220          2020-03-15         2020-03-15         0.5245  \n",
       "221          2020-03-15         2020-03-15         0.9010  \n",
       "222          2020-03-15         2020-03-15         0.5596  \n",
       "223          2020-03-15         2020-03-15         0.3911  \n",
       "224          2020-03-15         2020-03-15         0.8892  \n",
       "225          2020-03-15         2020-03-15         0.3739  \n",
       "226          2020-03-15         2020-03-15         0.2650  \n",
       "227          2020-03-15         2020-03-15         0.7111  \n",
       "228          2020-03-15         2020-03-15         0.3557  \n",
       "229          2020-03-15         2020-03-15         0.5430  \n",
       "230          2020-03-15         2020-03-15         0.7022  \n",
       "231          2020-03-15         2020-03-15         0.0452  \n",
       "232          2020-03-15         2020-03-15         0.7223  \n",
       "233          2020-03-15         2020-03-15         0.5911  \n",
       "234          2020-03-15         2020-03-15         0.4035  \n",
       "235          2020-03-15         2020-03-15         0.8675  \n",
       "236          2020-03-15         2020-03-15         0.8822  \n",
       "237          2020-03-15         2020-03-15         0.9624  \n",
       "238          2020-03-15         2020-03-15         0.7411  \n",
       "239          2020-03-15         2020-03-15         0.9417  \n",
       "240          2020-03-15         2020-03-15         0.4688  \n",
       "241          2020-03-15         2020-03-15         0.4828  \n",
       "242          2020-03-15         2020-03-15         0.6768  \n",
       "243          2020-03-15         2020-03-15         0.9420  \n",
       "\n",
       "[58 rows x 32 columns]"
      ]
     },
     "execution_count": 99,
     "metadata": {},
     "output_type": "execute_result"
    }
   ],
   "source": [
    "ca_cases"
   ]
  },
  {
   "cell_type": "code",
   "execution_count": 101,
   "metadata": {},
   "outputs": [
    {
     "data": {
      "text/plain": [
       "<matplotlib.axes._subplots.AxesSubplot at 0x1a29738110>"
      ]
     },
     "execution_count": 101,
     "metadata": {},
     "output_type": "execute_result"
    },
    {
     "data": {
      "image/png": "[encoded data removed]",
      "text/plain": [
       "<Figure size 432x288 with 1 Axes>"
      ]
     },
     "metadata": {
      "needs_background": "light"
     },
     "output_type": "display_data"
    }
   ],
   "source": [
    "# We can see what the result of removing these outliers is on the visualization\n",
    "ca_cases_no_outlier = ca_cases[ca_cases['PopulationEstimate2018'] < 10000000]\n",
    "ca_cases_no_outlier = ca_cases_no_outlier[ca_cases_no_outlier['mortality'] < 0.8]\n",
    "\n",
    "sns.scatterplot(ca_cases_no_outlier['PopulationEstimate2018'], ca_cases_no_outlier['mortality'])"
   ]
  },
  {
   "cell_type": "code",
   "execution_count": 102,
   "metadata": {},
   "outputs": [
    {
     "data": {
      "application/vnd.plotly.v1+json": {
       "config": {
        "plotlyServerURL": "https://plot.ly"
       },
       "data": [
        {
         "marker": {
          "size": 2
         },
         "mode": "markers",
         "type": "scatter3d",
         "x": [
          817903,
          610,
          20839,
          113398,
          22754,
          11156,
          560863,
          14784,
          94342,
          493547,
          14235,
          68119,
          93743,
          9077,
          457994,
          82356,
          31990,
          19474,
          75711,
          127495,
          8975,
          43711,
          137662,
          4428,
          7483,
          223103,
          70203,
          49018,
          1574674,
          188322,
          9350,
          1206637,
          748058,
          30219,
          1073581,
          1678982,
          450678,
          371488,
          143708,
          380445,
          224356,
          979402,
          136784,
          88412,
          1520,
          21820,
          221394,
          246665,
          271076,
          48130,
          6550,
          232476,
          28166,
          422688,
          106481,
          38992
         ],
         "y": [
          845287,
          510,
          17787,
          115896,
          22916,
          10649,
          586576,
          12686,
          94645,
          495708,
          13859,
          68635,
          89087,
          8949,
          435125,
          67745,
          32256,
          11689,
          81179,
          133460,
          8594,
          44307,
          135011,
          4431,
          6685,
          214804,
          70770,
          50796,
          1615726,
          197844,
          9392,
          1216629,
          782557,
          30091,
          1083823,
          1658703,
          433685,
          373936,
          139697,
          390965,
          223794,
          958751,
          139113,
          91509,
          1479,
          22033,
          224064,
          257552,
          276823,
          48518,
          6159,
          232017,
          26082,
          431535,
          112635,
          38039
         ],
         "z": [
          0.03680430879712747,
          0,
          0,
          0,
          0,
          0,
          0.027737226277372264,
          0,
          0,
          0.022508038585209004,
          0,
          0,
          0.01935483870967742,
          0,
          0.004918032786885246,
          0.05,
          0,
          0,
          0.06060606060606061,
          0.053475935828877004,
          0,
          0,
          0.03488372093023256,
          0,
          0.043478260869565216,
          0.025210084033613446,
          0.0425531914893617,
          0.027777777777777776,
          0.02056555269922879,
          0.061068702290076333,
          0,
          0.028083028083028084,
          0.036105032822757115,
          0.045454545454545456,
          0.04675963904840033,
          0.03243744207599629,
          0.01759014951627089,
          0.0425,
          0.007633587786259542,
          0.03341288782816229,
          0.00804289544235925,
          0.039037433155080216,
          0.019801980198019802,
          0.11538461538461539,
          0,
          0,
          0.011834319526627219,
          0.011111111111111112,
          0.019417475728155338,
          0.08,
          0,
          0.042821158690176324,
          0,
          0.03282828282828283,
          0.06349206349206349,
          0.06666666666666667
         ]
        }
       ],
       "layout": {
        "height": 600,
        "margin": {
         "b": 0,
         "l": 0,
         "r": 0,
         "t": 0
        },
        "template": {
         "data": {
          "bar": [
           {
            "error_x": {
             "color": "#2a3f5f"
            },
            "error_y": {
             "color": "#2a3f5f"
            },
            "marker": {
             "line": {
              "color": "#E5ECF6",
              "width": 0.5
             }
            },
            "type": "bar"
           }
          ],
          "barpolar": [
           {
            "marker": {
             "line": {
              "color": "#E5ECF6",
              "width": 0.5
             }
            },
            "type": "barpolar"
           }
          ],
          "carpet": [
           {
            "aaxis": {
             "endlinecolor": "#2a3f5f",
             "gridcolor": "white",
             "linecolor": "white",
             "minorgridcolor": "white",
             "startlinecolor": "#2a3f5f"
            },
            "baxis": {
             "endlinecolor": "#2a3f5f",
             "gridcolor": "white",
             "linecolor": "white",
             "minorgridcolor": "white",
             "startlinecolor": "#2a3f5f"
            },
            "type": "carpet"
           }
          ],
          "choropleth": [
           {
            "colorbar": {
             "outlinewidth": 0,
             "ticks": ""
            },
            "type": "choropleth"
           }
          ],
          "contour": [
           {
            "colorbar": {
             "outlinewidth": 0,
             "ticks": ""
            },
            "colorscale": [
             [
              0,
              "#0d0887"
             ],
             [
              0.1111111111111111,
              "#46039f"
             ],
             [
              0.2222222222222222,
              "#7201a8"
             ],
             [
              0.3333333333333333,
              "#9c179e"
             ],
             [
              0.4444444444444444,
              "#bd3786"
             ],
             [
              0.5555555555555556,
              "#d8576b"
             ],
             [
              0.6666666666666666,
              "#ed7953"
             ],
             [
              0.7777777777777778,
              "#fb9f3a"
             ],
             [
              0.8888888888888888,
              "#fdca26"
             ],
             [
              1,
              "#f0f921"
             ]
            ],
            "type": "contour"
           }
          ],
          "contourcarpet": [
           {
            "colorbar": {
             "outlinewidth": 0,
             "ticks": ""
            },
            "type": "contourcarpet"
           }
          ],
          "heatmap": [
           {
            "colorbar": {
             "outlinewidth": 0,
             "ticks": ""
            },
            "colorscale": [
             [
              0,
              "#0d0887"
             ],
             [
              0.1111111111111111,
              "#46039f"
             ],
             [
              0.2222222222222222,
              "#7201a8"
             ],
             [
              0.3333333333333333,
              "#9c179e"
             ],
             [
              0.4444444444444444,
              "#bd3786"
             ],
             [
              0.5555555555555556,
              "#d8576b"
             ],
             [
              0.6666666666666666,
              "#ed7953"
             ],
             [
              0.7777777777777778,
              "#fb9f3a"
             ],
             [
              0.8888888888888888,
              "#fdca26"
             ],
             [
              1,
              "#f0f921"
             ]
            ],
            "type": "heatmap"
           }
          ],
          "heatmapgl": [
           {
            "colorbar": {
             "outlinewidth": 0,
             "ticks": ""
            },
            "colorscale": [
             [
              0,
              "#0d0887"
             ],
             [
              0.1111111111111111,
              "#46039f"
             ],
             [
              0.2222222222222222,
              "#7201a8"
             ],
             [
              0.3333333333333333,
              "#9c179e"
             ],
             [
              0.4444444444444444,
              "#bd3786"
             ],
             [
              0.5555555555555556,
              "#d8576b"
             ],
             [
              0.6666666666666666,
              "#ed7953"
             ],
             [
              0.7777777777777778,
              "#fb9f3a"
             ],
             [
              0.8888888888888888,
              "#fdca26"
             ],
             [
              1,
              "#f0f921"
             ]
            ],
            "type": "heatmapgl"
           }
          ],
          "histogram": [
           {
            "marker": {
             "colorbar": {
              "outlinewidth": 0,
              "ticks": ""
             }
            },
            "type": "histogram"
           }
          ],
          "histogram2d": [
           {
            "colorbar": {
             "outlinewidth": 0,
             "ticks": ""
            },
            "colorscale": [
             [
              0,
              "#0d0887"
             ],
             [
              0.1111111111111111,
              "#46039f"
             ],
             [
              0.2222222222222222,
              "#7201a8"
             ],
             [
              0.3333333333333333,
              "#9c179e"
             ],
             [
              0.4444444444444444,
              "#bd3786"
             ],
             [
              0.5555555555555556,
              "#d8576b"
             ],
             [
              0.6666666666666666,
              "#ed7953"
             ],
             [
              0.7777777777777778,
              "#fb9f3a"
             ],
             [
              0.8888888888888888,
              "#fdca26"
             ],
             [
              1,
              "#f0f921"
             ]
            ],
            "type": "histogram2d"
           }
          ],
          "histogram2dcontour": [
           {
            "colorbar": {
             "outlinewidth": 0,
             "ticks": ""
            },
            "colorscale": [
             [
              0,
              "#0d0887"
             ],
             [
              0.1111111111111111,
              "#46039f"
             ],
             [
              0.2222222222222222,
              "#7201a8"
             ],
             [
              0.3333333333333333,
              "#9c179e"
             ],
             [
              0.4444444444444444,
              "#bd3786"
             ],
             [
              0.5555555555555556,
              "#d8576b"
             ],
             [
              0.6666666666666666,
              "#ed7953"
             ],
             [
              0.7777777777777778,
              "#fb9f3a"
             ],
             [
              0.8888888888888888,
              "#fdca26"
             ],
             [
              1,
              "#f0f921"
             ]
            ],
            "type": "histogram2dcontour"
           }
          ],
          "mesh3d": [
           {
            "colorbar": {
             "outlinewidth": 0,
             "ticks": ""
            },
            "type": "mesh3d"
           }
          ],
          "parcoords": [
           {
            "line": {
             "colorbar": {
              "outlinewidth": 0,
              "ticks": ""
             }
            },
            "type": "parcoords"
           }
          ],
          "pie": [
           {
            "automargin": true,
            "type": "pie"
           }
          ],
          "scatter": [
           {
            "marker": {
             "colorbar": {
              "outlinewidth": 0,
              "ticks": ""
             }
            },
            "type": "scatter"
           }
          ],
          "scatter3d": [
           {
            "line": {
             "colorbar": {
              "outlinewidth": 0,
              "ticks": ""
             }
            },
            "marker": {
             "colorbar": {
              "outlinewidth": 0,
              "ticks": ""
             }
            },
            "type": "scatter3d"
           }
          ],
          "scattercarpet": [
           {
            "marker": {
             "colorbar": {
              "outlinewidth": 0,
              "ticks": ""
             }
            },
            "type": "scattercarpet"
           }
          ],
          "scattergeo": [
           {
            "marker": {
             "colorbar": {
              "outlinewidth": 0,
              "ticks": ""
             }
            },
            "type": "scattergeo"
           }
          ],
          "scattergl": [
           {
            "marker": {
             "colorbar": {
              "outlinewidth": 0,
              "ticks": ""
             }
            },
            "type": "scattergl"
           }
          ],
          "scattermapbox": [
           {
            "marker": {
             "colorbar": {
              "outlinewidth": 0,
              "ticks": ""
             }
            },
            "type": "scattermapbox"
           }
          ],
          "scatterpolar": [
           {
            "marker": {
             "colorbar": {
              "outlinewidth": 0,
              "ticks": ""
             }
            },
            "type": "scatterpolar"
           }
          ],
          "scatterpolargl": [
           {
            "marker": {
             "colorbar": {
              "outlinewidth": 0,
              "ticks": ""
             }
            },
            "type": "scatterpolargl"
           }
          ],
          "scatterternary": [
           {
            "marker": {
             "colorbar": {
              "outlinewidth": 0,
              "ticks": ""
             }
            },
            "type": "scatterternary"
           }
          ],
          "surface": [
           {
            "colorbar": {
             "outlinewidth": 0,
             "ticks": ""
            },
            "colorscale": [
             [
              0,
              "#0d0887"
             ],
             [
              0.1111111111111111,
              "#46039f"
             ],
             [
              0.2222222222222222,
              "#7201a8"
             ],
             [
              0.3333333333333333,
              "#9c179e"
             ],
             [
              0.4444444444444444,
              "#bd3786"
             ],
             [
              0.5555555555555556,
              "#d8576b"
             ],
             [
              0.6666666666666666,
              "#ed7953"
             ],
             [
              0.7777777777777778,
              "#fb9f3a"
             ],
             [
              0.8888888888888888,
              "#fdca26"
             ],
             [
              1,
              "#f0f921"
             ]
            ],
            "type": "surface"
           }
          ],
          "table": [
           {
            "cells": {
             "fill": {
              "color": "#EBF0F8"
             },
             "line": {
              "color": "white"
             }
            },
            "header": {
             "fill": {
              "color": "#C8D4E3"
             },
             "line": {
              "color": "white"
             }
            },
            "type": "table"
           }
          ]
         },
         "layout": {
          "annotationdefaults": {
           "arrowcolor": "#2a3f5f",
           "arrowhead": 0,
           "arrowwidth": 1
          },
          "coloraxis": {
           "colorbar": {
            "outlinewidth": 0,
            "ticks": ""
           }
          },
          "colorscale": {
           "diverging": [
            [
             0,
             "#8e0152"
            ],
            [
             0.1,
             "#c51b7d"
            ],
            [
             0.2,
             "#de77ae"
            ],
            [
             0.3,
             "#f1b6da"
            ],
            [
             0.4,
             "#fde0ef"
            ],
            [
             0.5,
             "#f7f7f7"
            ],
            [
             0.6,
             "#e6f5d0"
            ],
            [
             0.7,
             "#b8e186"
            ],
            [
             0.8,
             "#7fbc41"
            ],
            [
             0.9,
             "#4d9221"
            ],
            [
             1,
             "#276419"
            ]
           ],
           "sequential": [
            [
             0,
             "#0d0887"
            ],
            [
             0.1111111111111111,
             "#46039f"
            ],
            [
             0.2222222222222222,
             "#7201a8"
            ],
            [
             0.3333333333333333,
             "#9c179e"
            ],
            [
             0.4444444444444444,
             "#bd3786"
            ],
            [
             0.5555555555555556,
             "#d8576b"
            ],
            [
             0.6666666666666666,
             "#ed7953"
            ],
            [
             0.7777777777777778,
             "#fb9f3a"
            ],
            [
             0.8888888888888888,
             "#fdca26"
            ],
            [
             1,
             "#f0f921"
            ]
           ],
           "sequentialminus": [
            [
             0,
             "#0d0887"
            ],
            [
             0.1111111111111111,
             "#46039f"
            ],
            [
             0.2222222222222222,
             "#7201a8"
            ],
            [
             0.3333333333333333,
             "#9c179e"
            ],
            [
             0.4444444444444444,
             "#bd3786"
            ],
            [
             0.5555555555555556,
             "#d8576b"
            ],
            [
             0.6666666666666666,
             "#ed7953"
            ],
            [
             0.7777777777777778,
             "#fb9f3a"
            ],
            [
             0.8888888888888888,
             "#fdca26"
            ],
            [
             1,
             "#f0f921"
            ]
           ]
          },
          "colorway": [
           "#636efa",
           "#EF553B",
           "#00cc96",
           "#ab63fa",
           "#FFA15A",
           "#19d3f3",
           "#FF6692",
           "#B6E880",
           "#FF97FF",
           "#FECB52"
          ],
          "font": {
           "color": "#2a3f5f"
          },
          "geo": {
           "bgcolor": "white",
           "lakecolor": "white",
           "landcolor": "#E5ECF6",
           "showlakes": true,
           "showland": true,
           "subunitcolor": "white"
          },
          "hoverlabel": {
           "align": "left"
          },
          "hovermode": "closest",
          "mapbox": {
           "style": "light"
          },
          "paper_bgcolor": "white",
          "plot_bgcolor": "#E5ECF6",
          "polar": {
           "angularaxis": {
            "gridcolor": "white",
            "linecolor": "white",
            "ticks": ""
           },
           "bgcolor": "#E5ECF6",
           "radialaxis": {
            "gridcolor": "white",
            "linecolor": "white",
            "ticks": ""
           }
          },
          "scene": {
           "xaxis": {
            "backgroundcolor": "#E5ECF6",
            "gridcolor": "white",
            "gridwidth": 2,
            "linecolor": "white",
            "showbackground": true,
            "ticks": "",
            "zerolinecolor": "white"
           },
           "yaxis": {
            "backgroundcolor": "#E5ECF6",
            "gridcolor": "white",
            "gridwidth": 2,
            "linecolor": "white",
            "showbackground": true,
            "ticks": "",
            "zerolinecolor": "white"
           },
           "zaxis": {
            "backgroundcolor": "#E5ECF6",
            "gridcolor": "white",
            "gridwidth": 2,
            "linecolor": "white",
            "showbackground": true,
            "ticks": "",
            "zerolinecolor": "white"
           }
          },
          "shapedefaults": {
           "line": {
            "color": "#2a3f5f"
           }
          },
          "ternary": {
           "aaxis": {
            "gridcolor": "white",
            "linecolor": "white",
            "ticks": ""
           },
           "baxis": {
            "gridcolor": "white",
            "linecolor": "white",
            "ticks": ""
           },
           "bgcolor": "#E5ECF6",
           "caxis": {
            "gridcolor": "white",
            "linecolor": "white",
            "ticks": ""
           }
          },
          "title": {
           "x": 0.05
          },
          "xaxis": {
           "automargin": true,
           "gridcolor": "white",
           "linecolor": "white",
           "ticks": "",
           "title": {
            "standoff": 15
           },
           "zerolinecolor": "white",
           "zerolinewidth": 2
          },
          "yaxis": {
           "automargin": true,
           "gridcolor": "white",
           "linecolor": "white",
           "ticks": "",
           "title": {
            "standoff": 15
           },
           "zerolinecolor": "white",
           "zerolinewidth": 2
          }
         }
        }
       }
      },
      "text/html": [
       "<div>\n",
       "        \n",
       "        \n",
       "            <div id=\"22c3c514-d3cb-4b6a-be36-6dd451398bf5\" class=\"plotly-graph-div\" style=\"height:600px; width:100%;\"></div>\n",
       "            <script type=\"text/javascript\">\n",
       "                require([\"plotly\"], function(Plotly) {\n",
       "                    window.PLOTLYENV=window.PLOTLYENV || {};\n",
       "                    \n",
       "                if (document.getElementById(\"22c3c514-d3cb-4b6a-be36-6dd451398bf5\")) {\n",
       "                    Plotly.newPlot(\n",
       "                        '22c3c514-d3cb-4b6a-be36-6dd451398bf5',\n",
       "                        [{\"marker\": {\"size\": 2}, \"mode\": \"markers\", \"type\": \"scatter3d\", \"x\": [817903.0, 610.0, 20839.0, 113398.0, 22754.0, 11156.0, 560863.0, 14784.0, 94342.0, 493547.0, 14235.0, 68119.0, 93743.0, 9077.0, 457994.0, 82356.0, 31990.0, 19474.0, 75711.0, 127495.0, 8975.0, 43711.0, 137662.0, 4428.0, 7483.0, 223103.0, 70203.0, 49018.0, 1574674.0, 188322.0, 9350.0, 1206637.0, 748058.0, 30219.0, 1073581.0, 1678982.0, 450678.0, 371488.0, 143708.0, 380445.0, 224356.0, 979402.0, 136784.0, 88412.0, 1520.0, 21820.0, 221394.0, 246665.0, 271076.0, 48130.0, 6550.0, 232476.0, 28166.0, 422688.0, 106481.0, 38992.0], \"y\": [845287.0, 510.0, 17787.0, 115896.0, 22916.0, 10649.0, 586576.0, 12686.0, 94645.0, 495708.0, 13859.0, 68635.0, 89087.0, 8949.0, 435125.0, 67745.0, 32256.0, 11689.0, 81179.0, 133460.0, 8594.0, 44307.0, 135011.0, 4431.0, 6685.0, 214804.0, 70770.0, 50796.0, 1615726.0, 197844.0, 9392.0, 1216629.0, 782557.0, 30091.0, 1083823.0, 1658703.0, 433685.0, 373936.0, 139697.0, 390965.0, 223794.0, 958751.0, 139113.0, 91509.0, 1479.0, 22033.0, 224064.0, 257552.0, 276823.0, 48518.0, 6159.0, 232017.0, 26082.0, 431535.0, 112635.0, 38039.0], \"z\": [0.03680430879712747, 0.0, 0.0, 0.0, 0.0, 0.0, 0.027737226277372264, 0.0, 0.0, 0.022508038585209004, 0.0, 0.0, 0.01935483870967742, 0.0, 0.004918032786885246, 0.05, 0.0, 0.0, 0.06060606060606061, 0.053475935828877004, 0.0, 0.0, 0.03488372093023256, 0.0, 0.043478260869565216, 0.025210084033613446, 0.0425531914893617, 0.027777777777777776, 0.02056555269922879, 0.061068702290076333, 0.0, 0.028083028083028084, 0.036105032822757115, 0.045454545454545456, 0.04675963904840033, 0.03243744207599629, 0.01759014951627089, 0.0425, 0.007633587786259542, 0.03341288782816229, 0.00804289544235925, 0.039037433155080216, 0.019801980198019802, 0.11538461538461539, 0.0, 0.0, 0.011834319526627219, 0.011111111111111112, 0.019417475728155338, 0.08, 0.0, 0.042821158690176324, 0.0, 0.03282828282828283, 0.06349206349206349, 0.06666666666666667]}],\n",
       "                        {\"height\": 600, \"margin\": {\"b\": 0, \"l\": 0, \"r\": 0, \"t\": 0}, \"template\": {\"data\": {\"bar\": [{\"error_x\": {\"color\": \"#2a3f5f\"}, \"error_y\": {\"color\": \"#2a3f5f\"}, \"marker\": {\"line\": {\"color\": \"#E5ECF6\", \"width\": 0.5}}, \"type\": \"bar\"}], \"barpolar\": [{\"marker\": {\"line\": {\"color\": \"#E5ECF6\", \"width\": 0.5}}, \"type\": \"barpolar\"}], \"carpet\": [{\"aaxis\": {\"endlinecolor\": \"#2a3f5f\", \"gridcolor\": \"white\", \"linecolor\": \"white\", \"minorgridcolor\": \"white\", \"startlinecolor\": \"#2a3f5f\"}, \"baxis\": {\"endlinecolor\": \"#2a3f5f\", \"gridcolor\": \"white\", \"linecolor\": \"white\", \"minorgridcolor\": \"white\", \"startlinecolor\": \"#2a3f5f\"}, \"type\": \"carpet\"}], \"choropleth\": [{\"colorbar\": {\"outlinewidth\": 0, \"ticks\": \"\"}, \"type\": \"choropleth\"}], \"contour\": [{\"colorbar\": {\"outlinewidth\": 0, \"ticks\": \"\"}, \"colorscale\": [[0.0, \"#0d0887\"], [0.1111111111111111, \"#46039f\"], [0.2222222222222222, \"#7201a8\"], [0.3333333333333333, \"#9c179e\"], [0.4444444444444444, \"#bd3786\"], [0.5555555555555556, \"#d8576b\"], [0.6666666666666666, \"#ed7953\"], [0.7777777777777778, \"#fb9f3a\"], [0.8888888888888888, \"#fdca26\"], [1.0, \"#f0f921\"]], \"type\": \"contour\"}], \"contourcarpet\": [{\"colorbar\": {\"outlinewidth\": 0, \"ticks\": \"\"}, \"type\": \"contourcarpet\"}], \"heatmap\": [{\"colorbar\": {\"outlinewidth\": 0, \"ticks\": \"\"}, \"colorscale\": [[0.0, \"#0d0887\"], [0.1111111111111111, \"#46039f\"], [0.2222222222222222, \"#7201a8\"], [0.3333333333333333, \"#9c179e\"], [0.4444444444444444, \"#bd3786\"], [0.5555555555555556, \"#d8576b\"], [0.6666666666666666, \"#ed7953\"], [0.7777777777777778, \"#fb9f3a\"], [0.8888888888888888, \"#fdca26\"], [1.0, \"#f0f921\"]], \"type\": \"heatmap\"}], \"heatmapgl\": [{\"colorbar\": {\"outlinewidth\": 0, \"ticks\": \"\"}, \"colorscale\": [[0.0, \"#0d0887\"], [0.1111111111111111, \"#46039f\"], [0.2222222222222222, \"#7201a8\"], [0.3333333333333333, \"#9c179e\"], [0.4444444444444444, \"#bd3786\"], [0.5555555555555556, \"#d8576b\"], [0.6666666666666666, \"#ed7953\"], [0.7777777777777778, \"#fb9f3a\"], [0.8888888888888888, \"#fdca26\"], [1.0, \"#f0f921\"]], \"type\": \"heatmapgl\"}], \"histogram\": [{\"marker\": {\"colorbar\": {\"outlinewidth\": 0, \"ticks\": \"\"}}, \"type\": \"histogram\"}], \"histogram2d\": [{\"colorbar\": {\"outlinewidth\": 0, \"ticks\": \"\"}, \"colorscale\": [[0.0, \"#0d0887\"], [0.1111111111111111, \"#46039f\"], [0.2222222222222222, \"#7201a8\"], [0.3333333333333333, \"#9c179e\"], [0.4444444444444444, \"#bd3786\"], [0.5555555555555556, \"#d8576b\"], [0.6666666666666666, \"#ed7953\"], [0.7777777777777778, \"#fb9f3a\"], [0.8888888888888888, \"#fdca26\"], [1.0, \"#f0f921\"]], \"type\": \"histogram2d\"}], \"histogram2dcontour\": [{\"colorbar\": {\"outlinewidth\": 0, \"ticks\": \"\"}, \"colorscale\": [[0.0, \"#0d0887\"], [0.1111111111111111, \"#46039f\"], [0.2222222222222222, \"#7201a8\"], [0.3333333333333333, \"#9c179e\"], [0.4444444444444444, \"#bd3786\"], [0.5555555555555556, \"#d8576b\"], [0.6666666666666666, \"#ed7953\"], [0.7777777777777778, \"#fb9f3a\"], [0.8888888888888888, \"#fdca26\"], [1.0, \"#f0f921\"]], \"type\": \"histogram2dcontour\"}], \"mesh3d\": [{\"colorbar\": {\"outlinewidth\": 0, \"ticks\": \"\"}, \"type\": \"mesh3d\"}], \"parcoords\": [{\"line\": {\"colorbar\": {\"outlinewidth\": 0, \"ticks\": \"\"}}, \"type\": \"parcoords\"}], \"pie\": [{\"automargin\": true, \"type\": \"pie\"}], \"scatter\": [{\"marker\": {\"colorbar\": {\"outlinewidth\": 0, \"ticks\": \"\"}}, \"type\": \"scatter\"}], \"scatter3d\": [{\"line\": {\"colorbar\": {\"outlinewidth\": 0, \"ticks\": \"\"}}, \"marker\": {\"colorbar\": {\"outlinewidth\": 0, \"ticks\": \"\"}}, \"type\": \"scatter3d\"}], \"scattercarpet\": [{\"marker\": {\"colorbar\": {\"outlinewidth\": 0, \"ticks\": \"\"}}, \"type\": \"scattercarpet\"}], \"scattergeo\": [{\"marker\": {\"colorbar\": {\"outlinewidth\": 0, \"ticks\": \"\"}}, \"type\": \"scattergeo\"}], \"scattergl\": [{\"marker\": {\"colorbar\": {\"outlinewidth\": 0, \"ticks\": \"\"}}, \"type\": \"scattergl\"}], \"scattermapbox\": [{\"marker\": {\"colorbar\": {\"outlinewidth\": 0, \"ticks\": \"\"}}, \"type\": \"scattermapbox\"}], \"scatterpolar\": [{\"marker\": {\"colorbar\": {\"outlinewidth\": 0, \"ticks\": \"\"}}, \"type\": \"scatterpolar\"}], \"scatterpolargl\": [{\"marker\": {\"colorbar\": {\"outlinewidth\": 0, \"ticks\": \"\"}}, \"type\": \"scatterpolargl\"}], \"scatterternary\": [{\"marker\": {\"colorbar\": {\"outlinewidth\": 0, \"ticks\": \"\"}}, \"type\": \"scatterternary\"}], \"surface\": [{\"colorbar\": {\"outlinewidth\": 0, \"ticks\": \"\"}, \"colorscale\": [[0.0, \"#0d0887\"], [0.1111111111111111, \"#46039f\"], [0.2222222222222222, \"#7201a8\"], [0.3333333333333333, \"#9c179e\"], [0.4444444444444444, \"#bd3786\"], [0.5555555555555556, \"#d8576b\"], [0.6666666666666666, \"#ed7953\"], [0.7777777777777778, \"#fb9f3a\"], [0.8888888888888888, \"#fdca26\"], [1.0, \"#f0f921\"]], \"type\": \"surface\"}], \"table\": [{\"cells\": {\"fill\": {\"color\": \"#EBF0F8\"}, \"line\": {\"color\": \"white\"}}, \"header\": {\"fill\": {\"color\": \"#C8D4E3\"}, \"line\": {\"color\": \"white\"}}, \"type\": \"table\"}]}, \"layout\": {\"annotationdefaults\": {\"arrowcolor\": \"#2a3f5f\", \"arrowhead\": 0, \"arrowwidth\": 1}, \"coloraxis\": {\"colorbar\": {\"outlinewidth\": 0, \"ticks\": \"\"}}, \"colorscale\": {\"diverging\": [[0, \"#8e0152\"], [0.1, \"#c51b7d\"], [0.2, \"#de77ae\"], [0.3, \"#f1b6da\"], [0.4, \"#fde0ef\"], [0.5, \"#f7f7f7\"], [0.6, \"#e6f5d0\"], [0.7, \"#b8e186\"], [0.8, \"#7fbc41\"], [0.9, \"#4d9221\"], [1, \"#276419\"]], \"sequential\": [[0.0, \"#0d0887\"], [0.1111111111111111, \"#46039f\"], [0.2222222222222222, \"#7201a8\"], [0.3333333333333333, \"#9c179e\"], [0.4444444444444444, \"#bd3786\"], [0.5555555555555556, \"#d8576b\"], [0.6666666666666666, \"#ed7953\"], [0.7777777777777778, \"#fb9f3a\"], [0.8888888888888888, \"#fdca26\"], [1.0, \"#f0f921\"]], \"sequentialminus\": [[0.0, \"#0d0887\"], [0.1111111111111111, \"#46039f\"], [0.2222222222222222, \"#7201a8\"], [0.3333333333333333, \"#9c179e\"], [0.4444444444444444, \"#bd3786\"], [0.5555555555555556, \"#d8576b\"], [0.6666666666666666, \"#ed7953\"], [0.7777777777777778, \"#fb9f3a\"], [0.8888888888888888, \"#fdca26\"], [1.0, \"#f0f921\"]]}, \"colorway\": [\"#636efa\", \"#EF553B\", \"#00cc96\", \"#ab63fa\", \"#FFA15A\", \"#19d3f3\", \"#FF6692\", \"#B6E880\", \"#FF97FF\", \"#FECB52\"], \"font\": {\"color\": \"#2a3f5f\"}, \"geo\": {\"bgcolor\": \"white\", \"lakecolor\": \"white\", \"landcolor\": \"#E5ECF6\", \"showlakes\": true, \"showland\": true, \"subunitcolor\": \"white\"}, \"hoverlabel\": {\"align\": \"left\"}, \"hovermode\": \"closest\", \"mapbox\": {\"style\": \"light\"}, \"paper_bgcolor\": \"white\", \"plot_bgcolor\": \"#E5ECF6\", \"polar\": {\"angularaxis\": {\"gridcolor\": \"white\", \"linecolor\": \"white\", \"ticks\": \"\"}, \"bgcolor\": \"#E5ECF6\", \"radialaxis\": {\"gridcolor\": \"white\", \"linecolor\": \"white\", \"ticks\": \"\"}}, \"scene\": {\"xaxis\": {\"backgroundcolor\": \"#E5ECF6\", \"gridcolor\": \"white\", \"gridwidth\": 2, \"linecolor\": \"white\", \"showbackground\": true, \"ticks\": \"\", \"zerolinecolor\": \"white\"}, \"yaxis\": {\"backgroundcolor\": \"#E5ECF6\", \"gridcolor\": \"white\", \"gridwidth\": 2, \"linecolor\": \"white\", \"showbackground\": true, \"ticks\": \"\", \"zerolinecolor\": \"white\"}, \"zaxis\": {\"backgroundcolor\": \"#E5ECF6\", \"gridcolor\": \"white\", \"gridwidth\": 2, \"linecolor\": \"white\", \"showbackground\": true, \"ticks\": \"\", \"zerolinecolor\": \"white\"}}, \"shapedefaults\": {\"line\": {\"color\": \"#2a3f5f\"}}, \"ternary\": {\"aaxis\": {\"gridcolor\": \"white\", \"linecolor\": \"white\", \"ticks\": \"\"}, \"baxis\": {\"gridcolor\": \"white\", \"linecolor\": \"white\", \"ticks\": \"\"}, \"bgcolor\": \"#E5ECF6\", \"caxis\": {\"gridcolor\": \"white\", \"linecolor\": \"white\", \"ticks\": \"\"}}, \"title\": {\"x\": 0.05}, \"xaxis\": {\"automargin\": true, \"gridcolor\": \"white\", \"linecolor\": \"white\", \"ticks\": \"\", \"title\": {\"standoff\": 15}, \"zerolinecolor\": \"white\", \"zerolinewidth\": 2}, \"yaxis\": {\"automargin\": true, \"gridcolor\": \"white\", \"linecolor\": \"white\", \"ticks\": \"\", \"title\": {\"standoff\": 15}, \"zerolinecolor\": \"white\", \"zerolinewidth\": 2}}}},\n",
       "                        {\"responsive\": true}\n",
       "                    ).then(function(){\n",
       "                            \n",
       "var gd = document.getElementById('22c3c514-d3cb-4b6a-be36-6dd451398bf5');\n",
       "var x = new MutationObserver(function (mutations, observer) {{\n",
       "        var display = window.getComputedStyle(gd).display;\n",
       "        if (!display || display === 'none') {{\n",
       "            console.log([gd, 'removed!']);\n",
       "            Plotly.purge(gd);\n",
       "            observer.disconnect();\n",
       "        }}\n",
       "}});\n",
       "\n",
       "// Listen for the removal of the full notebook cells\n",
       "var notebookContainer = gd.closest('#notebook-container');\n",
       "if (notebookContainer) {{\n",
       "    x.observe(notebookContainer, {childList: true});\n",
       "}}\n",
       "\n",
       "// Listen for the clearing of the current output cell\n",
       "var outputEl = gd.closest('.output');\n",
       "if (outputEl) {{\n",
       "    x.observe(outputEl, {childList: true});\n",
       "}}\n",
       "\n",
       "                        })\n",
       "                };\n",
       "                });\n",
       "            </script>\n",
       "        </div>"
      ]
     },
     "metadata": {},
     "output_type": "display_data"
    }
   ],
   "source": [
    "fig = go.Figure()\n",
    "ca_pop_gender_scatter = go.Scatter3d(x=ca_cases_no_outlier['PopTotalMale2017'],y=ca_cases_no_outlier['PopTotalFemale2017'],z=ca_cases_no_outlier['mortality'], mode='markers',marker=dict(size=2))\n",
    "fig.add_trace(ca_pop_gender_scatter)\n",
    "fig.update_layout(margin=dict(l=0,r=0,t=0,b=0),height=600)\n",
    "fig"
   ]
  },
  {
   "cell_type": "code",
   "execution_count": 103,
   "metadata": {},
   "outputs": [
    {
     "data": {
      "text/plain": [
       "LinearRegression(copy_X=True, fit_intercept=True, n_jobs=None, normalize=False)"
      ]
     },
     "execution_count": 103,
     "metadata": {},
     "output_type": "execute_result"
    }
   ],
   "source": [
    "model = LinearRegression()\n",
    "model.fit(ca_cases_no_outlier[[\"PopTotalMale2017\", \"PopTotalFemale2017\"]], ca_cases_no_outlier[[\"mortality\"]])"
   ]
  },
  {
   "cell_type": "code",
   "execution_count": 104,
   "metadata": {},
   "outputs": [],
   "source": [
    "def plot_plane(f, X, grid_points = 30):\n",
    "    u = np.linspace(X[:,0].min(),X[:,0].max(), grid_points)\n",
    "    v = np.linspace(X[:,1].min(),X[:,1].max(), grid_points)\n",
    "    xu, xv = np.meshgrid(u,v)\n",
    "    X = np.vstack((xu.flatten(),xv.flatten())).transpose()\n",
    "    z = f(X)\n",
    "    return go.Surface(x=xu, y=xv, z=z.reshape(xu.shape),opacity=0.8)"
   ]
  },
  {
   "cell_type": "code",
   "execution_count": 106,
   "metadata": {},
   "outputs": [
    {
     "data": {
      "application/vnd.plotly.v1+json": {
       "config": {
        "plotlyServerURL": "https://plot.ly"
       },
       "data": [
        {
         "marker": {
          "size": 2
         },
         "mode": "markers",
         "type": "scatter3d",
         "x": [
          817903,
          610,
          20839,
          113398,
          22754,
          11156,
          560863,
          14784,
          94342,
          493547,
          14235,
          68119,
          93743,
          9077,
          457994,
          82356,
          31990,
          19474,
          75711,
          127495,
          8975,
          43711,
          137662,
          4428,
          7483,
          223103,
          70203,
          49018,
          1574674,
          188322,
          9350,
          1206637,
          748058,
          30219,
          1073581,
          1678982,
          450678,
          371488,
          143708,
          380445,
          224356,
          979402,
          136784,
          88412,
          1520,
          21820,
          221394,
          246665,
          271076,
          48130,
          6550,
          232476,
          28166,
          422688,
          106481,
          38992
         ],
         "y": [
          845287,
          510,
          17787,
          115896,
          22916,
          10649,
          586576,
          12686,
          94645,
          495708,
          13859,
          68635,
          89087,
          8949,
          435125,
          67745,
          32256,
          11689,
          81179,
          133460,
          8594,
          44307,
          135011,
          4431,
          6685,
          214804,
          70770,
          50796,
          1615726,
          197844,
          9392,
          1216629,
          782557,
          30091,
          1083823,
          1658703,
          433685,
          373936,
          139697,
          390965,
          223794,
          958751,
          139113,
          91509,
          1479,
          22033,
          224064,
          257552,
          276823,
          48518,
          6159,
          232017,
          26082,
          431535,
          112635,
          38039
         ],
         "z": [
          0.03680430879712747,
          0,
          0,
          0,
          0,
          0,
          0.027737226277372264,
          0,
          0,
          0.022508038585209004,
          0,
          0,
          0.01935483870967742,
          0,
          0.004918032786885246,
          0.05,
          0,
          0,
          0.06060606060606061,
          0.053475935828877004,
          0,
          0,
          0.03488372093023256,
          0,
          0.043478260869565216,
          0.025210084033613446,
          0.0425531914893617,
          0.027777777777777776,
          0.02056555269922879,
          0.061068702290076333,
          0,
          0.028083028083028084,
          0.036105032822757115,
          0.045454545454545456,
          0.04675963904840033,
          0.03243744207599629,
          0.01759014951627089,
          0.0425,
          0.007633587786259542,
          0.03341288782816229,
          0.00804289544235925,
          0.039037433155080216,
          0.019801980198019802,
          0.11538461538461539,
          0,
          0,
          0.011834319526627219,
          0.011111111111111112,
          0.019417475728155338,
          0.08,
          0,
          0.042821158690176324,
          0,
          0.03282828282828283,
          0.06349206349206349,
          0.06666666666666667
         ]
        },
        {
         "opacity": 0.8,
         "type": "surface",
         "x": [
          [
           610,
           420203,
           839796,
           1259389,
           1678982
          ],
          [
           610,
           420203,
           839796,
           1259389,
           1678982
          ],
          [
           610,
           420203,
           839796,
           1259389,
           1678982
          ],
          [
           610,
           420203,
           839796,
           1259389,
           1678982
          ],
          [
           610,
           420203,
           839796,
           1259389,
           1678982
          ]
         ],
         "y": [
          [
           510,
           510,
           510,
           510,
           510
          ],
          [
           415058.25,
           415058.25,
           415058.25,
           415058.25,
           415058.25
          ],
          [
           829606.5,
           829606.5,
           829606.5,
           829606.5,
           829606.5
          ],
          [
           1244154.75,
           1244154.75,
           1244154.75,
           1244154.75,
           1244154.75
          ],
          [
           1658703,
           1658703,
           1658703,
           1658703,
           1658703
          ]
         ],
         "z": [
          [
           0.02090134889043844,
           -0.07576792376368327,
           -0.172437196417805,
           -0.2691064690719267,
           -0.36577574172604843
          ],
          [
           0.1202843012875873,
           0.023615028633465585,
           -0.07305424402065615,
           -0.1697235166747778,
           -0.26639278932889954
          ],
          [
           0.21966725368473616,
           0.12299798103061445,
           0.02632870837649271,
           -0.07034056427762896,
           -0.1670098369317507
          ],
          [
           0.319050206081885,
           0.2223809334277633,
           0.12571166077364157,
           0.029042388119519896,
           -0.06762688453460183
          ],
          [
           0.41843315847903384,
           0.32176388582491217,
           0.22509461317079044,
           0.12842534051666876,
           0.03175606786254702
          ]
         ]
        }
       ],
       "layout": {
        "height": 600,
        "margin": {
         "b": 0,
         "l": 0,
         "r": 0,
         "t": 0
        },
        "template": {
         "data": {
          "bar": [
           {
            "error_x": {
             "color": "#2a3f5f"
            },
            "error_y": {
             "color": "#2a3f5f"
            },
            "marker": {
             "line": {
              "color": "#E5ECF6",
              "width": 0.5
             }
            },
            "type": "bar"
           }
          ],
          "barpolar": [
           {
            "marker": {
             "line": {
              "color": "#E5ECF6",
              "width": 0.5
             }
            },
            "type": "barpolar"
           }
          ],
          "carpet": [
           {
            "aaxis": {
             "endlinecolor": "#2a3f5f",
             "gridcolor": "white",
             "linecolor": "white",
             "minorgridcolor": "white",
             "startlinecolor": "#2a3f5f"
            },
            "baxis": {
             "endlinecolor": "#2a3f5f",
             "gridcolor": "white",
             "linecolor": "white",
             "minorgridcolor": "white",
             "startlinecolor": "#2a3f5f"
            },
            "type": "carpet"
           }
          ],
          "choropleth": [
           {
            "colorbar": {
             "outlinewidth": 0,
             "ticks": ""
            },
            "type": "choropleth"
           }
          ],
          "contour": [
           {
            "colorbar": {
             "outlinewidth": 0,
             "ticks": ""
            },
            "colorscale": [
             [
              0,
              "#0d0887"
             ],
             [
              0.1111111111111111,
              "#46039f"
             ],
             [
              0.2222222222222222,
              "#7201a8"
             ],
             [
              0.3333333333333333,
              "#9c179e"
             ],
             [
              0.4444444444444444,
              "#bd3786"
             ],
             [
              0.5555555555555556,
              "#d8576b"
             ],
             [
              0.6666666666666666,
              "#ed7953"
             ],
             [
              0.7777777777777778,
              "#fb9f3a"
             ],
             [
              0.8888888888888888,
              "#fdca26"
             ],
             [
              1,
              "#f0f921"
             ]
            ],
            "type": "contour"
           }
          ],
          "contourcarpet": [
           {
            "colorbar": {
             "outlinewidth": 0,
             "ticks": ""
            },
            "type": "contourcarpet"
           }
          ],
          "heatmap": [
           {
            "colorbar": {
             "outlinewidth": 0,
             "ticks": ""
            },
            "colorscale": [
             [
              0,
              "#0d0887"
             ],
             [
              0.1111111111111111,
              "#46039f"
             ],
             [
              0.2222222222222222,
              "#7201a8"
             ],
             [
              0.3333333333333333,
              "#9c179e"
             ],
             [
              0.4444444444444444,
              "#bd3786"
             ],
             [
              0.5555555555555556,
              "#d8576b"
             ],
             [
              0.6666666666666666,
              "#ed7953"
             ],
             [
              0.7777777777777778,
              "#fb9f3a"
             ],
             [
              0.8888888888888888,
              "#fdca26"
             ],
             [
              1,
              "#f0f921"
             ]
            ],
            "type": "heatmap"
           }
          ],
          "heatmapgl": [
           {
            "colorbar": {
             "outlinewidth": 0,
             "ticks": ""
            },
            "colorscale": [
             [
              0,
              "#0d0887"
             ],
             [
              0.1111111111111111,
              "#46039f"
             ],
             [
              0.2222222222222222,
              "#7201a8"
             ],
             [
              0.3333333333333333,
              "#9c179e"
             ],
             [
              0.4444444444444444,
              "#bd3786"
             ],
             [
              0.5555555555555556,
              "#d8576b"
             ],
             [
              0.6666666666666666,
              "#ed7953"
             ],
             [
              0.7777777777777778,
              "#fb9f3a"
             ],
             [
              0.8888888888888888,
              "#fdca26"
             ],
             [
              1,
              "#f0f921"
             ]
            ],
            "type": "heatmapgl"
           }
          ],
          "histogram": [
           {
            "marker": {
             "colorbar": {
              "outlinewidth": 0,
              "ticks": ""
             }
            },
            "type": "histogram"
           }
          ],
          "histogram2d": [
           {
            "colorbar": {
             "outlinewidth": 0,
             "ticks": ""
            },
            "colorscale": [
             [
              0,
              "#0d0887"
             ],
             [
              0.1111111111111111,
              "#46039f"
             ],
             [
              0.2222222222222222,
              "#7201a8"
             ],
             [
              0.3333333333333333,
              "#9c179e"
             ],
             [
              0.4444444444444444,
              "#bd3786"
             ],
             [
              0.5555555555555556,
              "#d8576b"
             ],
             [
              0.6666666666666666,
              "#ed7953"
             ],
             [
              0.7777777777777778,
              "#fb9f3a"
             ],
             [
              0.8888888888888888,
              "#fdca26"
             ],
             [
              1,
              "#f0f921"
             ]
            ],
            "type": "histogram2d"
           }
          ],
          "histogram2dcontour": [
           {
            "colorbar": {
             "outlinewidth": 0,
             "ticks": ""
            },
            "colorscale": [
             [
              0,
              "#0d0887"
             ],
             [
              0.1111111111111111,
              "#46039f"
             ],
             [
              0.2222222222222222,
              "#7201a8"
             ],
             [
              0.3333333333333333,
              "#9c179e"
             ],
             [
              0.4444444444444444,
              "#bd3786"
             ],
             [
              0.5555555555555556,
              "#d8576b"
             ],
             [
              0.6666666666666666,
              "#ed7953"
             ],
             [
              0.7777777777777778,
              "#fb9f3a"
             ],
             [
              0.8888888888888888,
              "#fdca26"
             ],
             [
              1,
              "#f0f921"
             ]
            ],
            "type": "histogram2dcontour"
           }
          ],
          "mesh3d": [
           {
            "colorbar": {
             "outlinewidth": 0,
             "ticks": ""
            },
            "type": "mesh3d"
           }
          ],
          "parcoords": [
           {
            "line": {
             "colorbar": {
              "outlinewidth": 0,
              "ticks": ""
             }
            },
            "type": "parcoords"
           }
          ],
          "pie": [
           {
            "automargin": true,
            "type": "pie"
           }
          ],
          "scatter": [
           {
            "marker": {
             "colorbar": {
              "outlinewidth": 0,
              "ticks": ""
             }
            },
            "type": "scatter"
           }
          ],
          "scatter3d": [
           {
            "line": {
             "colorbar": {
              "outlinewidth": 0,
              "ticks": ""
             }
            },
            "marker": {
             "colorbar": {
              "outlinewidth": 0,
              "ticks": ""
             }
            },
            "type": "scatter3d"
           }
          ],
          "scattercarpet": [
           {
            "marker": {
             "colorbar": {
              "outlinewidth": 0,
              "ticks": ""
             }
            },
            "type": "scattercarpet"
           }
          ],
          "scattergeo": [
           {
            "marker": {
             "colorbar": {
              "outlinewidth": 0,
              "ticks": ""
             }
            },
            "type": "scattergeo"
           }
          ],
          "scattergl": [
           {
            "marker": {
             "colorbar": {
              "outlinewidth": 0,
              "ticks": ""
             }
            },
            "type": "scattergl"
           }
          ],
          "scattermapbox": [
           {
            "marker": {
             "colorbar": {
              "outlinewidth": 0,
              "ticks": ""
             }
            },
            "type": "scattermapbox"
           }
          ],
          "scatterpolar": [
           {
            "marker": {
             "colorbar": {
              "outlinewidth": 0,
              "ticks": ""
             }
            },
            "type": "scatterpolar"
           }
          ],
          "scatterpolargl": [
           {
            "marker": {
             "colorbar": {
              "outlinewidth": 0,
              "ticks": ""
             }
            },
            "type": "scatterpolargl"
           }
          ],
          "scatterternary": [
           {
            "marker": {
             "colorbar": {
              "outlinewidth": 0,
              "ticks": ""
             }
            },
            "type": "scatterternary"
           }
          ],
          "surface": [
           {
            "colorbar": {
             "outlinewidth": 0,
             "ticks": ""
            },
            "colorscale": [
             [
              0,
              "#0d0887"
             ],
             [
              0.1111111111111111,
              "#46039f"
             ],
             [
              0.2222222222222222,
              "#7201a8"
             ],
             [
              0.3333333333333333,
              "#9c179e"
             ],
             [
              0.4444444444444444,
              "#bd3786"
             ],
             [
              0.5555555555555556,
              "#d8576b"
             ],
             [
              0.6666666666666666,
              "#ed7953"
             ],
             [
              0.7777777777777778,
              "#fb9f3a"
             ],
             [
              0.8888888888888888,
              "#fdca26"
             ],
             [
              1,
              "#f0f921"
             ]
            ],
            "type": "surface"
           }
          ],
          "table": [
           {
            "cells": {
             "fill": {
              "color": "#EBF0F8"
             },
             "line": {
              "color": "white"
             }
            },
            "header": {
             "fill": {
              "color": "#C8D4E3"
             },
             "line": {
              "color": "white"
             }
            },
            "type": "table"
           }
          ]
         },
         "layout": {
          "annotationdefaults": {
           "arrowcolor": "#2a3f5f",
           "arrowhead": 0,
           "arrowwidth": 1
          },
          "coloraxis": {
           "colorbar": {
            "outlinewidth": 0,
            "ticks": ""
           }
          },
          "colorscale": {
           "diverging": [
            [
             0,
             "#8e0152"
            ],
            [
             0.1,
             "#c51b7d"
            ],
            [
             0.2,
             "#de77ae"
            ],
            [
             0.3,
             "#f1b6da"
            ],
            [
             0.4,
             "#fde0ef"
            ],
            [
             0.5,
             "#f7f7f7"
            ],
            [
             0.6,
             "#e6f5d0"
            ],
            [
             0.7,
             "#b8e186"
            ],
            [
             0.8,
             "#7fbc41"
            ],
            [
             0.9,
             "#4d9221"
            ],
            [
             1,
             "#276419"
            ]
           ],
           "sequential": [
            [
             0,
             "#0d0887"
            ],
            [
             0.1111111111111111,
             "#46039f"
            ],
            [
             0.2222222222222222,
             "#7201a8"
            ],
            [
             0.3333333333333333,
             "#9c179e"
            ],
            [
             0.4444444444444444,
             "#bd3786"
            ],
            [
             0.5555555555555556,
             "#d8576b"
            ],
            [
             0.6666666666666666,
             "#ed7953"
            ],
            [
             0.7777777777777778,
             "#fb9f3a"
            ],
            [
             0.8888888888888888,
             "#fdca26"
            ],
            [
             1,
             "#f0f921"
            ]
           ],
           "sequentialminus": [
            [
             0,
             "#0d0887"
            ],
            [
             0.1111111111111111,
             "#46039f"
            ],
            [
             0.2222222222222222,
             "#7201a8"
            ],
            [
             0.3333333333333333,
             "#9c179e"
            ],
            [
             0.4444444444444444,
             "#bd3786"
            ],
            [
             0.5555555555555556,
             "#d8576b"
            ],
            [
             0.6666666666666666,
             "#ed7953"
            ],
            [
             0.7777777777777778,
             "#fb9f3a"
            ],
            [
             0.8888888888888888,
             "#fdca26"
            ],
            [
             1,
             "#f0f921"
            ]
           ]
          },
          "colorway": [
           "#636efa",
           "#EF553B",
           "#00cc96",
           "#ab63fa",
           "#FFA15A",
           "#19d3f3",
           "#FF6692",
           "#B6E880",
           "#FF97FF",
           "#FECB52"
          ],
          "font": {
           "color": "#2a3f5f"
          },
          "geo": {
           "bgcolor": "white",
           "lakecolor": "white",
           "landcolor": "#E5ECF6",
           "showlakes": true,
           "showland": true,
           "subunitcolor": "white"
          },
          "hoverlabel": {
           "align": "left"
          },
          "hovermode": "closest",
          "mapbox": {
           "style": "light"
          },
          "paper_bgcolor": "white",
          "plot_bgcolor": "#E5ECF6",
          "polar": {
           "angularaxis": {
            "gridcolor": "white",
            "linecolor": "white",
            "ticks": ""
           },
           "bgcolor": "#E5ECF6",
           "radialaxis": {
            "gridcolor": "white",
            "linecolor": "white",
            "ticks": ""
           }
          },
          "scene": {
           "xaxis": {
            "backgroundcolor": "#E5ECF6",
            "gridcolor": "white",
            "gridwidth": 2,
            "linecolor": "white",
            "showbackground": true,
            "ticks": "",
            "zerolinecolor": "white"
           },
           "yaxis": {
            "backgroundcolor": "#E5ECF6",
            "gridcolor": "white",
            "gridwidth": 2,
            "linecolor": "white",
            "showbackground": true,
            "ticks": "",
            "zerolinecolor": "white"
           },
           "zaxis": {
            "backgroundcolor": "#E5ECF6",
            "gridcolor": "white",
            "gridwidth": 2,
            "linecolor": "white",
            "showbackground": true,
            "ticks": "",
            "zerolinecolor": "white"
           }
          },
          "shapedefaults": {
           "line": {
            "color": "#2a3f5f"
           }
          },
          "ternary": {
           "aaxis": {
            "gridcolor": "white",
            "linecolor": "white",
            "ticks": ""
           },
           "baxis": {
            "gridcolor": "white",
            "linecolor": "white",
            "ticks": ""
           },
           "bgcolor": "#E5ECF6",
           "caxis": {
            "gridcolor": "white",
            "linecolor": "white",
            "ticks": ""
           }
          },
          "title": {
           "x": 0.05
          },
          "xaxis": {
           "automargin": true,
           "gridcolor": "white",
           "linecolor": "white",
           "ticks": "",
           "title": {
            "standoff": 15
           },
           "zerolinecolor": "white",
           "zerolinewidth": 2
          },
          "yaxis": {
           "automargin": true,
           "gridcolor": "white",
           "linecolor": "white",
           "ticks": "",
           "title": {
            "standoff": 15
           },
           "zerolinecolor": "white",
           "zerolinewidth": 2
          }
         }
        }
       }
      },
      "text/html": [
       "<div>\n",
       "        \n",
       "        \n",
       "            <div id=\"f5457dc2-cd50-4e6e-9d9e-5d7a281137d5\" class=\"plotly-graph-div\" style=\"height:600px; width:100%;\"></div>\n",
       "            <script type=\"text/javascript\">\n",
       "                require([\"plotly\"], function(Plotly) {\n",
       "                    window.PLOTLYENV=window.PLOTLYENV || {};\n",
       "                    \n",
       "                if (document.getElementById(\"f5457dc2-cd50-4e6e-9d9e-5d7a281137d5\")) {\n",
       "                    Plotly.newPlot(\n",
       "                        'f5457dc2-cd50-4e6e-9d9e-5d7a281137d5',\n",
       "                        [{\"marker\": {\"size\": 2}, \"mode\": \"markers\", \"type\": \"scatter3d\", \"x\": [817903.0, 610.0, 20839.0, 113398.0, 22754.0, 11156.0, 560863.0, 14784.0, 94342.0, 493547.0, 14235.0, 68119.0, 93743.0, 9077.0, 457994.0, 82356.0, 31990.0, 19474.0, 75711.0, 127495.0, 8975.0, 43711.0, 137662.0, 4428.0, 7483.0, 223103.0, 70203.0, 49018.0, 1574674.0, 188322.0, 9350.0, 1206637.0, 748058.0, 30219.0, 1073581.0, 1678982.0, 450678.0, 371488.0, 143708.0, 380445.0, 224356.0, 979402.0, 136784.0, 88412.0, 1520.0, 21820.0, 221394.0, 246665.0, 271076.0, 48130.0, 6550.0, 232476.0, 28166.0, 422688.0, 106481.0, 38992.0], \"y\": [845287.0, 510.0, 17787.0, 115896.0, 22916.0, 10649.0, 586576.0, 12686.0, 94645.0, 495708.0, 13859.0, 68635.0, 89087.0, 8949.0, 435125.0, 67745.0, 32256.0, 11689.0, 81179.0, 133460.0, 8594.0, 44307.0, 135011.0, 4431.0, 6685.0, 214804.0, 70770.0, 50796.0, 1615726.0, 197844.0, 9392.0, 1216629.0, 782557.0, 30091.0, 1083823.0, 1658703.0, 433685.0, 373936.0, 139697.0, 390965.0, 223794.0, 958751.0, 139113.0, 91509.0, 1479.0, 22033.0, 224064.0, 257552.0, 276823.0, 48518.0, 6159.0, 232017.0, 26082.0, 431535.0, 112635.0, 38039.0], \"z\": [0.03680430879712747, 0.0, 0.0, 0.0, 0.0, 0.0, 0.027737226277372264, 0.0, 0.0, 0.022508038585209004, 0.0, 0.0, 0.01935483870967742, 0.0, 0.004918032786885246, 0.05, 0.0, 0.0, 0.06060606060606061, 0.053475935828877004, 0.0, 0.0, 0.03488372093023256, 0.0, 0.043478260869565216, 0.025210084033613446, 0.0425531914893617, 0.027777777777777776, 0.02056555269922879, 0.061068702290076333, 0.0, 0.028083028083028084, 0.036105032822757115, 0.045454545454545456, 0.04675963904840033, 0.03243744207599629, 0.01759014951627089, 0.0425, 0.007633587786259542, 0.03341288782816229, 0.00804289544235925, 0.039037433155080216, 0.019801980198019802, 0.11538461538461539, 0.0, 0.0, 0.011834319526627219, 0.011111111111111112, 0.019417475728155338, 0.08, 0.0, 0.042821158690176324, 0.0, 0.03282828282828283, 0.06349206349206349, 0.06666666666666667]}, {\"opacity\": 0.8, \"type\": \"surface\", \"x\": [[610.0, 420203.0, 839796.0, 1259389.0, 1678982.0], [610.0, 420203.0, 839796.0, 1259389.0, 1678982.0], [610.0, 420203.0, 839796.0, 1259389.0, 1678982.0], [610.0, 420203.0, 839796.0, 1259389.0, 1678982.0], [610.0, 420203.0, 839796.0, 1259389.0, 1678982.0]], \"y\": [[510.0, 510.0, 510.0, 510.0, 510.0], [415058.25, 415058.25, 415058.25, 415058.25, 415058.25], [829606.5, 829606.5, 829606.5, 829606.5, 829606.5], [1244154.75, 1244154.75, 1244154.75, 1244154.75, 1244154.75], [1658703.0, 1658703.0, 1658703.0, 1658703.0, 1658703.0]], \"z\": [[0.02090134889043844, -0.07576792376368327, -0.172437196417805, -0.2691064690719267, -0.36577574172604843], [0.1202843012875873, 0.023615028633465585, -0.07305424402065615, -0.1697235166747778, -0.26639278932889954], [0.21966725368473616, 0.12299798103061445, 0.02632870837649271, -0.07034056427762896, -0.1670098369317507], [0.319050206081885, 0.2223809334277633, 0.12571166077364157, 0.029042388119519896, -0.06762688453460183], [0.41843315847903384, 0.32176388582491217, 0.22509461317079044, 0.12842534051666876, 0.03175606786254702]]}],\n",
       "                        {\"height\": 600, \"margin\": {\"b\": 0, \"l\": 0, \"r\": 0, \"t\": 0}, \"template\": {\"data\": {\"bar\": [{\"error_x\": {\"color\": \"#2a3f5f\"}, \"error_y\": {\"color\": \"#2a3f5f\"}, \"marker\": {\"line\": {\"color\": \"#E5ECF6\", \"width\": 0.5}}, \"type\": \"bar\"}], \"barpolar\": [{\"marker\": {\"line\": {\"color\": \"#E5ECF6\", \"width\": 0.5}}, \"type\": \"barpolar\"}], \"carpet\": [{\"aaxis\": {\"endlinecolor\": \"#2a3f5f\", \"gridcolor\": \"white\", \"linecolor\": \"white\", \"minorgridcolor\": \"white\", \"startlinecolor\": \"#2a3f5f\"}, \"baxis\": {\"endlinecolor\": \"#2a3f5f\", \"gridcolor\": \"white\", \"linecolor\": \"white\", \"minorgridcolor\": \"white\", \"startlinecolor\": \"#2a3f5f\"}, \"type\": \"carpet\"}], \"choropleth\": [{\"colorbar\": {\"outlinewidth\": 0, \"ticks\": \"\"}, \"type\": \"choropleth\"}], \"contour\": [{\"colorbar\": {\"outlinewidth\": 0, \"ticks\": \"\"}, \"colorscale\": [[0.0, \"#0d0887\"], [0.1111111111111111, \"#46039f\"], [0.2222222222222222, \"#7201a8\"], [0.3333333333333333, \"#9c179e\"], [0.4444444444444444, \"#bd3786\"], [0.5555555555555556, \"#d8576b\"], [0.6666666666666666, \"#ed7953\"], [0.7777777777777778, \"#fb9f3a\"], [0.8888888888888888, \"#fdca26\"], [1.0, \"#f0f921\"]], \"type\": \"contour\"}], \"contourcarpet\": [{\"colorbar\": {\"outlinewidth\": 0, \"ticks\": \"\"}, \"type\": \"contourcarpet\"}], \"heatmap\": [{\"colorbar\": {\"outlinewidth\": 0, \"ticks\": \"\"}, \"colorscale\": [[0.0, \"#0d0887\"], [0.1111111111111111, \"#46039f\"], [0.2222222222222222, \"#7201a8\"], [0.3333333333333333, \"#9c179e\"], [0.4444444444444444, \"#bd3786\"], [0.5555555555555556, \"#d8576b\"], [0.6666666666666666, \"#ed7953\"], [0.7777777777777778, \"#fb9f3a\"], [0.8888888888888888, \"#fdca26\"], [1.0, \"#f0f921\"]], \"type\": \"heatmap\"}], \"heatmapgl\": [{\"colorbar\": {\"outlinewidth\": 0, \"ticks\": \"\"}, \"colorscale\": [[0.0, \"#0d0887\"], [0.1111111111111111, \"#46039f\"], [0.2222222222222222, \"#7201a8\"], [0.3333333333333333, \"#9c179e\"], [0.4444444444444444, \"#bd3786\"], [0.5555555555555556, \"#d8576b\"], [0.6666666666666666, \"#ed7953\"], [0.7777777777777778, \"#fb9f3a\"], [0.8888888888888888, \"#fdca26\"], [1.0, \"#f0f921\"]], \"type\": \"heatmapgl\"}], \"histogram\": [{\"marker\": {\"colorbar\": {\"outlinewidth\": 0, \"ticks\": \"\"}}, \"type\": \"histogram\"}], \"histogram2d\": [{\"colorbar\": {\"outlinewidth\": 0, \"ticks\": \"\"}, \"colorscale\": [[0.0, \"#0d0887\"], [0.1111111111111111, \"#46039f\"], [0.2222222222222222, \"#7201a8\"], [0.3333333333333333, \"#9c179e\"], [0.4444444444444444, \"#bd3786\"], [0.5555555555555556, \"#d8576b\"], [0.6666666666666666, \"#ed7953\"], [0.7777777777777778, \"#fb9f3a\"], [0.8888888888888888, \"#fdca26\"], [1.0, \"#f0f921\"]], \"type\": \"histogram2d\"}], \"histogram2dcontour\": [{\"colorbar\": {\"outlinewidth\": 0, \"ticks\": \"\"}, \"colorscale\": [[0.0, \"#0d0887\"], [0.1111111111111111, \"#46039f\"], [0.2222222222222222, \"#7201a8\"], [0.3333333333333333, \"#9c179e\"], [0.4444444444444444, \"#bd3786\"], [0.5555555555555556, \"#d8576b\"], [0.6666666666666666, \"#ed7953\"], [0.7777777777777778, \"#fb9f3a\"], [0.8888888888888888, \"#fdca26\"], [1.0, \"#f0f921\"]], \"type\": \"histogram2dcontour\"}], \"mesh3d\": [{\"colorbar\": {\"outlinewidth\": 0, \"ticks\": \"\"}, \"type\": \"mesh3d\"}], \"parcoords\": [{\"line\": {\"colorbar\": {\"outlinewidth\": 0, \"ticks\": \"\"}}, \"type\": \"parcoords\"}], \"pie\": [{\"automargin\": true, \"type\": \"pie\"}], \"scatter\": [{\"marker\": {\"colorbar\": {\"outlinewidth\": 0, \"ticks\": \"\"}}, \"type\": \"scatter\"}], \"scatter3d\": [{\"line\": {\"colorbar\": {\"outlinewidth\": 0, \"ticks\": \"\"}}, \"marker\": {\"colorbar\": {\"outlinewidth\": 0, \"ticks\": \"\"}}, \"type\": \"scatter3d\"}], \"scattercarpet\": [{\"marker\": {\"colorbar\": {\"outlinewidth\": 0, \"ticks\": \"\"}}, \"type\": \"scattercarpet\"}], \"scattergeo\": [{\"marker\": {\"colorbar\": {\"outlinewidth\": 0, \"ticks\": \"\"}}, \"type\": \"scattergeo\"}], \"scattergl\": [{\"marker\": {\"colorbar\": {\"outlinewidth\": 0, \"ticks\": \"\"}}, \"type\": \"scattergl\"}], \"scattermapbox\": [{\"marker\": {\"colorbar\": {\"outlinewidth\": 0, \"ticks\": \"\"}}, \"type\": \"scattermapbox\"}], \"scatterpolar\": [{\"marker\": {\"colorbar\": {\"outlinewidth\": 0, \"ticks\": \"\"}}, \"type\": \"scatterpolar\"}], \"scatterpolargl\": [{\"marker\": {\"colorbar\": {\"outlinewidth\": 0, \"ticks\": \"\"}}, \"type\": \"scatterpolargl\"}], \"scatterternary\": [{\"marker\": {\"colorbar\": {\"outlinewidth\": 0, \"ticks\": \"\"}}, \"type\": \"scatterternary\"}], \"surface\": [{\"colorbar\": {\"outlinewidth\": 0, \"ticks\": \"\"}, \"colorscale\": [[0.0, \"#0d0887\"], [0.1111111111111111, \"#46039f\"], [0.2222222222222222, \"#7201a8\"], [0.3333333333333333, \"#9c179e\"], [0.4444444444444444, \"#bd3786\"], [0.5555555555555556, \"#d8576b\"], [0.6666666666666666, \"#ed7953\"], [0.7777777777777778, \"#fb9f3a\"], [0.8888888888888888, \"#fdca26\"], [1.0, \"#f0f921\"]], \"type\": \"surface\"}], \"table\": [{\"cells\": {\"fill\": {\"color\": \"#EBF0F8\"}, \"line\": {\"color\": \"white\"}}, \"header\": {\"fill\": {\"color\": \"#C8D4E3\"}, \"line\": {\"color\": \"white\"}}, \"type\": \"table\"}]}, \"layout\": {\"annotationdefaults\": {\"arrowcolor\": \"#2a3f5f\", \"arrowhead\": 0, \"arrowwidth\": 1}, \"coloraxis\": {\"colorbar\": {\"outlinewidth\": 0, \"ticks\": \"\"}}, \"colorscale\": {\"diverging\": [[0, \"#8e0152\"], [0.1, \"#c51b7d\"], [0.2, \"#de77ae\"], [0.3, \"#f1b6da\"], [0.4, \"#fde0ef\"], [0.5, \"#f7f7f7\"], [0.6, \"#e6f5d0\"], [0.7, \"#b8e186\"], [0.8, \"#7fbc41\"], [0.9, \"#4d9221\"], [1, \"#276419\"]], \"sequential\": [[0.0, \"#0d0887\"], [0.1111111111111111, \"#46039f\"], [0.2222222222222222, \"#7201a8\"], [0.3333333333333333, \"#9c179e\"], [0.4444444444444444, \"#bd3786\"], [0.5555555555555556, \"#d8576b\"], [0.6666666666666666, \"#ed7953\"], [0.7777777777777778, \"#fb9f3a\"], [0.8888888888888888, \"#fdca26\"], [1.0, \"#f0f921\"]], \"sequentialminus\": [[0.0, \"#0d0887\"], [0.1111111111111111, \"#46039f\"], [0.2222222222222222, \"#7201a8\"], [0.3333333333333333, \"#9c179e\"], [0.4444444444444444, \"#bd3786\"], [0.5555555555555556, \"#d8576b\"], [0.6666666666666666, \"#ed7953\"], [0.7777777777777778, \"#fb9f3a\"], [0.8888888888888888, \"#fdca26\"], [1.0, \"#f0f921\"]]}, \"colorway\": [\"#636efa\", \"#EF553B\", \"#00cc96\", \"#ab63fa\", \"#FFA15A\", \"#19d3f3\", \"#FF6692\", \"#B6E880\", \"#FF97FF\", \"#FECB52\"], \"font\": {\"color\": \"#2a3f5f\"}, \"geo\": {\"bgcolor\": \"white\", \"lakecolor\": \"white\", \"landcolor\": \"#E5ECF6\", \"showlakes\": true, \"showland\": true, \"subunitcolor\": \"white\"}, \"hoverlabel\": {\"align\": \"left\"}, \"hovermode\": \"closest\", \"mapbox\": {\"style\": \"light\"}, \"paper_bgcolor\": \"white\", \"plot_bgcolor\": \"#E5ECF6\", \"polar\": {\"angularaxis\": {\"gridcolor\": \"white\", \"linecolor\": \"white\", \"ticks\": \"\"}, \"bgcolor\": \"#E5ECF6\", \"radialaxis\": {\"gridcolor\": \"white\", \"linecolor\": \"white\", \"ticks\": \"\"}}, \"scene\": {\"xaxis\": {\"backgroundcolor\": \"#E5ECF6\", \"gridcolor\": \"white\", \"gridwidth\": 2, \"linecolor\": \"white\", \"showbackground\": true, \"ticks\": \"\", \"zerolinecolor\": \"white\"}, \"yaxis\": {\"backgroundcolor\": \"#E5ECF6\", \"gridcolor\": \"white\", \"gridwidth\": 2, \"linecolor\": \"white\", \"showbackground\": true, \"ticks\": \"\", \"zerolinecolor\": \"white\"}, \"zaxis\": {\"backgroundcolor\": \"#E5ECF6\", \"gridcolor\": \"white\", \"gridwidth\": 2, \"linecolor\": \"white\", \"showbackground\": true, \"ticks\": \"\", \"zerolinecolor\": \"white\"}}, \"shapedefaults\": {\"line\": {\"color\": \"#2a3f5f\"}}, \"ternary\": {\"aaxis\": {\"gridcolor\": \"white\", \"linecolor\": \"white\", \"ticks\": \"\"}, \"baxis\": {\"gridcolor\": \"white\", \"linecolor\": \"white\", \"ticks\": \"\"}, \"bgcolor\": \"#E5ECF6\", \"caxis\": {\"gridcolor\": \"white\", \"linecolor\": \"white\", \"ticks\": \"\"}}, \"title\": {\"x\": 0.05}, \"xaxis\": {\"automargin\": true, \"gridcolor\": \"white\", \"linecolor\": \"white\", \"ticks\": \"\", \"title\": {\"standoff\": 15}, \"zerolinecolor\": \"white\", \"zerolinewidth\": 2}, \"yaxis\": {\"automargin\": true, \"gridcolor\": \"white\", \"linecolor\": \"white\", \"ticks\": \"\", \"title\": {\"standoff\": 15}, \"zerolinecolor\": \"white\", \"zerolinewidth\": 2}}}},\n",
       "                        {\"responsive\": true}\n",
       "                    ).then(function(){\n",
       "                            \n",
       "var gd = document.getElementById('f5457dc2-cd50-4e6e-9d9e-5d7a281137d5');\n",
       "var x = new MutationObserver(function (mutations, observer) {{\n",
       "        var display = window.getComputedStyle(gd).display;\n",
       "        if (!display || display === 'none') {{\n",
       "            console.log([gd, 'removed!']);\n",
       "            Plotly.purge(gd);\n",
       "            observer.disconnect();\n",
       "        }}\n",
       "}});\n",
       "\n",
       "// Listen for the removal of the full notebook cells\n",
       "var notebookContainer = gd.closest('#notebook-container');\n",
       "if (notebookContainer) {{\n",
       "    x.observe(notebookContainer, {childList: true});\n",
       "}}\n",
       "\n",
       "// Listen for the clearing of the current output cell\n",
       "var outputEl = gd.closest('.output');\n",
       "if (outputEl) {{\n",
       "    x.observe(outputEl, {childList: true});\n",
       "}}\n",
       "\n",
       "                        })\n",
       "                };\n",
       "                });\n",
       "            </script>\n",
       "        </div>"
      ]
     },
     "metadata": {},
     "output_type": "display_data"
    }
   ],
   "source": [
    "fig = go.Figure()\n",
    "fig.add_trace(ca_pop_gender_scatter)\n",
    "fig.add_trace(plot_plane(model.predict, ca_cases_no_outlier[[\"PopTotalMale2017\", \"PopTotalFemale2017\"]].to_numpy(), grid_points=5))\n",
    "fig.update_layout(margin=dict(l=0, r=0, t=0, b=0), \n",
    "                  height=600)"
   ]
  },
  {
   "cell_type": "code",
   "execution_count": null,
   "metadata": {},
   "outputs": [],
   "source": []
  }
 ],
 "metadata": {
  "kernelspec": {
   "display_name": "Python 3",
   "language": "python",
   "name": "python3"
  },
  "language_info": {
   "codemirror_mode": {
    "name": "ipython",
    "version": 3
   },
   "file_extension": ".py",
   "mimetype": "text/x-python",
   "name": "python",
   "nbconvert_exporter": "python",
   "pygments_lexer": "ipython3",
   "version": "3.7.6"
  }
 },
 "nbformat": 4,
 "nbformat_minor": 4
}
